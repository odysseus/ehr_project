{
 "cells": [
  {
   "cell_type": "code",
   "execution_count": 30,
   "metadata": {
    "scrolled": false
   },
   "outputs": [],
   "source": [
    "# from __future__ import absolute_import, division, print_function, unicode_literals\n",
    "import os\n",
    "import numpy as np\n",
    "import tensorflow as tf\n",
    "from tensorflow import feature_column\n",
    "from tensorflow.keras import layers\n",
    "import tensorflow_probability as tfp\n",
    "# import tensorflow_data_validation as tfdv # blursed library\n",
    "import matplotlib.pyplot as plt\n",
    "import seaborn as sns\n",
    "import pandas as pd\n",
    "import aequitas as ae"
   ]
  },
  {
   "cell_type": "code",
   "execution_count": 31,
   "metadata": {
    "scrolled": true
   },
   "outputs": [
    {
     "name": "stdout",
     "output_type": "stream",
     "text": [
      "The autoreload extension is already loaded. To reload it, use:\n",
      "  %reload_ext autoreload\n"
     ]
    }
   ],
   "source": [
    "# Put all of the helper functions in utils\n",
    "from utils import build_vocab_files, show_group_stats_viz, aggregate_dataset, preprocess_df, df_to_dataset, posterior_mean_field, prior_trainable\n",
    "pd.set_option('display.max_columns', 500)\n",
    "\n",
    "# this allows you to make changes and save in student_utils.py and the file is reloaded every time you run a code block\n",
    "%load_ext autoreload\n",
    "%autoreload"
   ]
  },
  {
   "cell_type": "code",
   "execution_count": 32,
   "metadata": {},
   "outputs": [],
   "source": [
    "#OPEN ISSUE ON MAC OSX for TF model training\n",
    "import os\n",
    "os.environ['KMP_DUPLICATE_LIB_OK']='True'"
   ]
  },
  {
   "cell_type": "code",
   "execution_count": 33,
   "metadata": {
    "scrolled": true
   },
   "outputs": [
    {
     "data": {
      "text/plain": [
       "[PhysicalDevice(name='/physical_device:GPU:0', device_type='GPU')]"
      ]
     },
     "execution_count": 33,
     "metadata": {},
     "output_type": "execute_result"
    }
   ],
   "source": [
    "tf.config.list_physical_devices('GPU')"
   ]
  },
  {
   "cell_type": "code",
   "execution_count": 34,
   "metadata": {},
   "outputs": [],
   "source": [
    "dataset_path = \"./data/final_project_dataset.csv\"\n",
    "df = pd.read_csv(dataset_path)"
   ]
  },
  {
   "cell_type": "code",
   "execution_count": 35,
   "metadata": {},
   "outputs": [],
   "source": [
    "processed_df = pd.read_csv('processed_data.csv', index_col=0)"
   ]
  },
  {
   "cell_type": "code",
   "execution_count": 36,
   "metadata": {},
   "outputs": [
    {
     "data": {
      "text/html": [
       "<div>\n",
       "<style scoped>\n",
       "    .dataframe tbody tr th:only-of-type {\n",
       "        vertical-align: middle;\n",
       "    }\n",
       "\n",
       "    .dataframe tbody tr th {\n",
       "        vertical-align: top;\n",
       "    }\n",
       "\n",
       "    .dataframe thead th {\n",
       "        text-align: right;\n",
       "    }\n",
       "</style>\n",
       "<table border=\"1\" class=\"dataframe\">\n",
       "  <thead>\n",
       "    <tr style=\"text-align: right;\">\n",
       "      <th></th>\n",
       "      <th>encounter_id</th>\n",
       "      <th>patient_nbr</th>\n",
       "      <th>bias</th>\n",
       "      <th>number_outpatient</th>\n",
       "      <th>number_inpatient</th>\n",
       "      <th>number_emergency</th>\n",
       "      <th>num_lab_procedures</th>\n",
       "      <th>number_diagnoses</th>\n",
       "      <th>num_medications</th>\n",
       "      <th>num_procedures</th>\n",
       "      <th>time_in_hospital</th>\n",
       "      <th>race</th>\n",
       "      <th>gender</th>\n",
       "      <th>age</th>\n",
       "      <th>max_glu_serum</th>\n",
       "      <th>A1Cresult</th>\n",
       "      <th>change</th>\n",
       "      <th>readmitted</th>\n",
       "      <th>acarbose</th>\n",
       "      <th>glimepiride</th>\n",
       "      <th>glipizide</th>\n",
       "      <th>glipizide_and_metformin_hcl</th>\n",
       "      <th>glipizide_and_metformin_hydrochloride</th>\n",
       "      <th>glyburide</th>\n",
       "      <th>glyburide_and_metformin_hydrochloride</th>\n",
       "      <th>glyburide-metformin_hydrochloride</th>\n",
       "      <th>human_insulin</th>\n",
       "      <th>insulin_human</th>\n",
       "      <th>metformin_hcl</th>\n",
       "      <th>metformin_hydrochloride</th>\n",
       "      <th>miglitol</th>\n",
       "      <th>nateglinide</th>\n",
       "      <th>none</th>\n",
       "      <th>pioglitazole_and_metformin_hydrochloride</th>\n",
       "      <th>pioglitazone</th>\n",
       "      <th>pioglitazone_hydrochloride_and_glimepiride</th>\n",
       "      <th>repaglinide</th>\n",
       "      <th>rosiglitazone_maleate</th>\n",
       "      <th>tolazamide</th>\n",
       "      <th>tolbutamide</th>\n",
       "    </tr>\n",
       "  </thead>\n",
       "  <tbody>\n",
       "    <tr>\n",
       "      <th>0</th>\n",
       "      <td>12522</td>\n",
       "      <td>48330783</td>\n",
       "      <td>1.0</td>\n",
       "      <td>-0.262004</td>\n",
       "      <td>-0.294524</td>\n",
       "      <td>-0.203346</td>\n",
       "      <td>1.249212</td>\n",
       "      <td>0.378159</td>\n",
       "      <td>1.479343</td>\n",
       "      <td>0.323563</td>\n",
       "      <td>13.0</td>\n",
       "      <td>Caucasian</td>\n",
       "      <td>Female</td>\n",
       "      <td>[80-90)</td>\n",
       "      <td>None</td>\n",
       "      <td>None</td>\n",
       "      <td>Ch</td>\n",
       "      <td>NO</td>\n",
       "      <td>0</td>\n",
       "      <td>0</td>\n",
       "      <td>1</td>\n",
       "      <td>0</td>\n",
       "      <td>0</td>\n",
       "      <td>0</td>\n",
       "      <td>0</td>\n",
       "      <td>0</td>\n",
       "      <td>0</td>\n",
       "      <td>1</td>\n",
       "      <td>0</td>\n",
       "      <td>0</td>\n",
       "      <td>0</td>\n",
       "      <td>0</td>\n",
       "      <td>0</td>\n",
       "      <td>0</td>\n",
       "      <td>0</td>\n",
       "      <td>0</td>\n",
       "      <td>0</td>\n",
       "      <td>0</td>\n",
       "      <td>0</td>\n",
       "      <td>0</td>\n",
       "    </tr>\n",
       "    <tr>\n",
       "      <th>1</th>\n",
       "      <td>15738</td>\n",
       "      <td>63555939</td>\n",
       "      <td>1.0</td>\n",
       "      <td>-0.262004</td>\n",
       "      <td>-0.294524</td>\n",
       "      <td>-0.203346</td>\n",
       "      <td>-0.504981</td>\n",
       "      <td>0.378159</td>\n",
       "      <td>0.276134</td>\n",
       "      <td>0.891793</td>\n",
       "      <td>12.0</td>\n",
       "      <td>Caucasian</td>\n",
       "      <td>Female</td>\n",
       "      <td>[90-100)</td>\n",
       "      <td>None</td>\n",
       "      <td>None</td>\n",
       "      <td>Ch</td>\n",
       "      <td>NO</td>\n",
       "      <td>0</td>\n",
       "      <td>0</td>\n",
       "      <td>0</td>\n",
       "      <td>0</td>\n",
       "      <td>0</td>\n",
       "      <td>0</td>\n",
       "      <td>0</td>\n",
       "      <td>0</td>\n",
       "      <td>1</td>\n",
       "      <td>0</td>\n",
       "      <td>0</td>\n",
       "      <td>0</td>\n",
       "      <td>0</td>\n",
       "      <td>0</td>\n",
       "      <td>0</td>\n",
       "      <td>0</td>\n",
       "      <td>0</td>\n",
       "      <td>0</td>\n",
       "      <td>0</td>\n",
       "      <td>1</td>\n",
       "      <td>0</td>\n",
       "      <td>0</td>\n",
       "    </tr>\n",
       "    <tr>\n",
       "      <th>2</th>\n",
       "      <td>16680</td>\n",
       "      <td>42519267</td>\n",
       "      <td>1.0</td>\n",
       "      <td>-0.262004</td>\n",
       "      <td>-0.294524</td>\n",
       "      <td>-0.203346</td>\n",
       "      <td>0.397175</td>\n",
       "      <td>-1.125856</td>\n",
       "      <td>-0.927076</td>\n",
       "      <td>-0.812896</td>\n",
       "      <td>1.0</td>\n",
       "      <td>Caucasian</td>\n",
       "      <td>Male</td>\n",
       "      <td>[40-50)</td>\n",
       "      <td>None</td>\n",
       "      <td>None</td>\n",
       "      <td>Ch</td>\n",
       "      <td>NO</td>\n",
       "      <td>0</td>\n",
       "      <td>0</td>\n",
       "      <td>1</td>\n",
       "      <td>0</td>\n",
       "      <td>0</td>\n",
       "      <td>0</td>\n",
       "      <td>0</td>\n",
       "      <td>0</td>\n",
       "      <td>1</td>\n",
       "      <td>0</td>\n",
       "      <td>0</td>\n",
       "      <td>0</td>\n",
       "      <td>0</td>\n",
       "      <td>0</td>\n",
       "      <td>0</td>\n",
       "      <td>0</td>\n",
       "      <td>0</td>\n",
       "      <td>0</td>\n",
       "      <td>0</td>\n",
       "      <td>0</td>\n",
       "      <td>0</td>\n",
       "      <td>0</td>\n",
       "    </tr>\n",
       "  </tbody>\n",
       "</table>\n",
       "</div>"
      ],
      "text/plain": [
       "   encounter_id  patient_nbr  bias  number_outpatient  number_inpatient  \\\n",
       "0         12522     48330783   1.0          -0.262004         -0.294524   \n",
       "1         15738     63555939   1.0          -0.262004         -0.294524   \n",
       "2         16680     42519267   1.0          -0.262004         -0.294524   \n",
       "\n",
       "   number_emergency  num_lab_procedures  number_diagnoses  num_medications  \\\n",
       "0         -0.203346            1.249212          0.378159         1.479343   \n",
       "1         -0.203346           -0.504981          0.378159         0.276134   \n",
       "2         -0.203346            0.397175         -1.125856        -0.927076   \n",
       "\n",
       "   num_procedures  time_in_hospital       race  gender       age  \\\n",
       "0        0.323563              13.0  Caucasian  Female   [80-90)   \n",
       "1        0.891793              12.0  Caucasian  Female  [90-100)   \n",
       "2       -0.812896               1.0  Caucasian    Male   [40-50)   \n",
       "\n",
       "  max_glu_serum A1Cresult change readmitted  acarbose  glimepiride  glipizide  \\\n",
       "0          None      None     Ch         NO         0            0          1   \n",
       "1          None      None     Ch         NO         0            0          0   \n",
       "2          None      None     Ch         NO         0            0          1   \n",
       "\n",
       "   glipizide_and_metformin_hcl  glipizide_and_metformin_hydrochloride  \\\n",
       "0                            0                                      0   \n",
       "1                            0                                      0   \n",
       "2                            0                                      0   \n",
       "\n",
       "   glyburide  glyburide_and_metformin_hydrochloride  \\\n",
       "0          0                                      0   \n",
       "1          0                                      0   \n",
       "2          0                                      0   \n",
       "\n",
       "   glyburide-metformin_hydrochloride  human_insulin  insulin_human  \\\n",
       "0                                  0              0              1   \n",
       "1                                  0              1              0   \n",
       "2                                  0              1              0   \n",
       "\n",
       "   metformin_hcl  metformin_hydrochloride  miglitol  nateglinide  none  \\\n",
       "0              0                        0         0            0     0   \n",
       "1              0                        0         0            0     0   \n",
       "2              0                        0         0            0     0   \n",
       "\n",
       "   pioglitazole_and_metformin_hydrochloride  pioglitazone  \\\n",
       "0                                         0             0   \n",
       "1                                         0             0   \n",
       "2                                         0             0   \n",
       "\n",
       "   pioglitazone_hydrochloride_and_glimepiride  repaglinide  \\\n",
       "0                                           0            0   \n",
       "1                                           0            0   \n",
       "2                                           0            0   \n",
       "\n",
       "   rosiglitazone_maleate  tolazamide  tolbutamide  \n",
       "0                      0           0            0  \n",
       "1                      1           0            0  \n",
       "2                      0           0            0  "
      ]
     },
     "execution_count": 36,
     "metadata": {},
     "output_type": "execute_result"
    }
   ],
   "source": [
    "processed_df.head(3)"
   ]
  },
  {
   "cell_type": "code",
   "execution_count": 37,
   "metadata": {},
   "outputs": [],
   "source": [
    "numeric = [\n",
    "    'bias',\n",
    "    'number_outpatient', \n",
    "    'number_inpatient', \n",
    "    'number_emergency', \n",
    "    'num_lab_procedures',\n",
    "    'number_diagnoses',\n",
    "    'num_medications',\n",
    "    'num_procedures']\n",
    "\n",
    "categorical = [\n",
    "    'race',\n",
    "    'gender',\n",
    "    'age',\n",
    "    'max_glu_serum',\n",
    "    'A1Cresult',\n",
    "    'change',\n",
    "    'readmitted'\n",
    "]\n",
    "\n",
    "ids = [\n",
    "    'encounter_id',\n",
    "    'patient_nbr'\n",
    "]\n",
    "\n",
    "target = ['time_in_hospital']\n",
    "\n",
    "other = [\n",
    "    'admission_type_id',\n",
    "    'discharge_disposition_id',\n",
    "    'admission_source_id',\n",
    "    'other_diagnosis_codes',\n",
    "    'primary_diagnosis_code',\n",
    "    'ndc_code',\n",
    "    'medical_specialty',\n",
    "    'payer_code',\n",
    "    'weight',\n",
    "    'generic_drug_name',\n",
    "]\n",
    "\n",
    "allcols = numeric + categorical + ids + target + other"
   ]
  },
  {
   "cell_type": "code",
   "execution_count": 38,
   "metadata": {},
   "outputs": [
    {
     "data": {
      "text/plain": [
       "['acarbose',\n",
       " 'glimepiride',\n",
       " 'glipizide',\n",
       " 'glipizide_and_metformin_hcl',\n",
       " 'glipizide_and_metformin_hydrochloride',\n",
       " 'glyburide',\n",
       " 'glyburide_and_metformin_hydrochloride',\n",
       " 'glyburide-metformin_hydrochloride',\n",
       " 'human_insulin',\n",
       " 'insulin_human',\n",
       " 'metformin_hcl',\n",
       " 'metformin_hydrochloride',\n",
       " 'miglitol',\n",
       " 'nateglinide',\n",
       " 'none',\n",
       " 'pioglitazole_and_metformin_hydrochloride',\n",
       " 'pioglitazone',\n",
       " 'pioglitazone_hydrochloride_and_glimepiride',\n",
       " 'repaglinide',\n",
       " 'rosiglitazone_maleate',\n",
       " 'tolazamide',\n",
       " 'tolbutamide']"
      ]
     },
     "execution_count": 38,
     "metadata": {},
     "output_type": "execute_result"
    }
   ],
   "source": [
    "[c for c in processed_df.columns if c not in allcols]"
   ]
  },
  {
   "cell_type": "code",
   "execution_count": 39,
   "metadata": {},
   "outputs": [
    {
     "data": {
      "text/plain": [
       "40"
      ]
     },
     "execution_count": 39,
     "metadata": {},
     "output_type": "execute_result"
    }
   ],
   "source": [
    "len(processed_df.columns)"
   ]
  },
  {
   "cell_type": "code",
   "execution_count": 40,
   "metadata": {},
   "outputs": [
    {
     "name": "stdout",
     "output_type": "stream",
     "text": [
      "\n",
      "Numeric: 8\n",
      "Categorical: 7\n",
      "ID/Other: 13\n",
      "Total: 28\n",
      "\n"
     ]
    }
   ],
   "source": [
    "print(f\"\"\"\n",
    "Numeric: {len(numeric)}\n",
    "Categorical: {len(categorical)}\n",
    "ID/Other: {len(other) + len(ids) + len(target)}\n",
    "Total: {len(numeric) + len(categorical) + len(other) + len(ids) + len(target)}\n",
    "\"\"\")"
   ]
  },
  {
   "cell_type": "code",
   "execution_count": 41,
   "metadata": {},
   "outputs": [],
   "source": [
    "'''\n",
    "Please update the list to include the features you think are appropriate for the model \n",
    "and the field that we will be using to train the model. There are three required demographic features for the model \n",
    "and I have inserted a list with them already in the categorical list. \n",
    "These will be required for later steps when analyzing data splits and model biases.\n",
    "'''\n",
    "required_demo_col_list = ['race', 'gender', 'age']\n",
    "student_categorical_col_list = [c for c in df.columns if c not in ids + numeric + target + other]\n",
    "student_numerical_col_list = numeric\n",
    "PREDICTOR_FIELD = 'time_in_hospital'"
   ]
  },
  {
   "cell_type": "markdown",
   "metadata": {},
   "source": [
    "## Split Dataset into Train, Validation, and Test Partitions"
   ]
  },
  {
   "cell_type": "markdown",
   "metadata": {},
   "source": [
    "**Question 6**: In order to prepare the data for being trained and evaluated by a deep learning model, we will split the dataset into three partitions, with the validation partition used for optimizing the model hyperparameters during training. One of the key parts is that we need to be sure that the data does not accidently leak across partitions.\n",
    "\n",
    "Please complete the function below to split the input dataset into three partitions(train, validation, test) with the following requirements.\n",
    "- Approximately 60%/20%/20%  train/validation/test split\n",
    "- Randomly sample different patients into each data partition\n",
    "- **IMPORTANT** Make sure that a patient's data is not in more than one partition, so that we can avoid possible data leakage.\n",
    "- Make sure that the total number of unique patients across the splits is equal to the total number of unique patients in the original dataset\n",
    "- Total number of rows in original dataset = sum of rows across all three dataset partitions"
   ]
  },
  {
   "cell_type": "code",
   "execution_count": 42,
   "metadata": {},
   "outputs": [],
   "source": [
    "processed_df = pd.read_csv('processed_data.csv', index_col=0)"
   ]
  },
  {
   "cell_type": "code",
   "execution_count": 43,
   "metadata": {},
   "outputs": [
    {
     "data": {
      "text/html": [
       "<div>\n",
       "<style scoped>\n",
       "    .dataframe tbody tr th:only-of-type {\n",
       "        vertical-align: middle;\n",
       "    }\n",
       "\n",
       "    .dataframe tbody tr th {\n",
       "        vertical-align: top;\n",
       "    }\n",
       "\n",
       "    .dataframe thead th {\n",
       "        text-align: right;\n",
       "    }\n",
       "</style>\n",
       "<table border=\"1\" class=\"dataframe\">\n",
       "  <thead>\n",
       "    <tr style=\"text-align: right;\">\n",
       "      <th></th>\n",
       "      <th>encounter_id</th>\n",
       "      <th>patient_nbr</th>\n",
       "      <th>bias</th>\n",
       "      <th>number_outpatient</th>\n",
       "      <th>number_inpatient</th>\n",
       "      <th>number_emergency</th>\n",
       "      <th>num_lab_procedures</th>\n",
       "      <th>number_diagnoses</th>\n",
       "      <th>num_medications</th>\n",
       "      <th>num_procedures</th>\n",
       "      <th>time_in_hospital</th>\n",
       "      <th>race</th>\n",
       "      <th>gender</th>\n",
       "      <th>age</th>\n",
       "      <th>max_glu_serum</th>\n",
       "      <th>A1Cresult</th>\n",
       "      <th>change</th>\n",
       "      <th>readmitted</th>\n",
       "      <th>acarbose</th>\n",
       "      <th>glimepiride</th>\n",
       "      <th>glipizide</th>\n",
       "      <th>glipizide_and_metformin_hcl</th>\n",
       "      <th>glipizide_and_metformin_hydrochloride</th>\n",
       "      <th>glyburide</th>\n",
       "      <th>glyburide_and_metformin_hydrochloride</th>\n",
       "      <th>glyburide-metformin_hydrochloride</th>\n",
       "      <th>human_insulin</th>\n",
       "      <th>insulin_human</th>\n",
       "      <th>metformin_hcl</th>\n",
       "      <th>metformin_hydrochloride</th>\n",
       "      <th>miglitol</th>\n",
       "      <th>nateglinide</th>\n",
       "      <th>none</th>\n",
       "      <th>pioglitazole_and_metformin_hydrochloride</th>\n",
       "      <th>pioglitazone</th>\n",
       "      <th>pioglitazone_hydrochloride_and_glimepiride</th>\n",
       "      <th>repaglinide</th>\n",
       "      <th>rosiglitazone_maleate</th>\n",
       "      <th>tolazamide</th>\n",
       "      <th>tolbutamide</th>\n",
       "    </tr>\n",
       "  </thead>\n",
       "  <tbody>\n",
       "    <tr>\n",
       "      <th>0</th>\n",
       "      <td>12522</td>\n",
       "      <td>48330783</td>\n",
       "      <td>1.0</td>\n",
       "      <td>-0.262004</td>\n",
       "      <td>-0.294524</td>\n",
       "      <td>-0.203346</td>\n",
       "      <td>1.249212</td>\n",
       "      <td>0.378159</td>\n",
       "      <td>1.479343</td>\n",
       "      <td>0.323563</td>\n",
       "      <td>13.0</td>\n",
       "      <td>Caucasian</td>\n",
       "      <td>Female</td>\n",
       "      <td>[80-90)</td>\n",
       "      <td>None</td>\n",
       "      <td>None</td>\n",
       "      <td>Ch</td>\n",
       "      <td>NO</td>\n",
       "      <td>0</td>\n",
       "      <td>0</td>\n",
       "      <td>1</td>\n",
       "      <td>0</td>\n",
       "      <td>0</td>\n",
       "      <td>0</td>\n",
       "      <td>0</td>\n",
       "      <td>0</td>\n",
       "      <td>0</td>\n",
       "      <td>1</td>\n",
       "      <td>0</td>\n",
       "      <td>0</td>\n",
       "      <td>0</td>\n",
       "      <td>0</td>\n",
       "      <td>0</td>\n",
       "      <td>0</td>\n",
       "      <td>0</td>\n",
       "      <td>0</td>\n",
       "      <td>0</td>\n",
       "      <td>0</td>\n",
       "      <td>0</td>\n",
       "      <td>0</td>\n",
       "    </tr>\n",
       "    <tr>\n",
       "      <th>1</th>\n",
       "      <td>15738</td>\n",
       "      <td>63555939</td>\n",
       "      <td>1.0</td>\n",
       "      <td>-0.262004</td>\n",
       "      <td>-0.294524</td>\n",
       "      <td>-0.203346</td>\n",
       "      <td>-0.504981</td>\n",
       "      <td>0.378159</td>\n",
       "      <td>0.276134</td>\n",
       "      <td>0.891793</td>\n",
       "      <td>12.0</td>\n",
       "      <td>Caucasian</td>\n",
       "      <td>Female</td>\n",
       "      <td>[90-100)</td>\n",
       "      <td>None</td>\n",
       "      <td>None</td>\n",
       "      <td>Ch</td>\n",
       "      <td>NO</td>\n",
       "      <td>0</td>\n",
       "      <td>0</td>\n",
       "      <td>0</td>\n",
       "      <td>0</td>\n",
       "      <td>0</td>\n",
       "      <td>0</td>\n",
       "      <td>0</td>\n",
       "      <td>0</td>\n",
       "      <td>1</td>\n",
       "      <td>0</td>\n",
       "      <td>0</td>\n",
       "      <td>0</td>\n",
       "      <td>0</td>\n",
       "      <td>0</td>\n",
       "      <td>0</td>\n",
       "      <td>0</td>\n",
       "      <td>0</td>\n",
       "      <td>0</td>\n",
       "      <td>0</td>\n",
       "      <td>1</td>\n",
       "      <td>0</td>\n",
       "      <td>0</td>\n",
       "    </tr>\n",
       "    <tr>\n",
       "      <th>2</th>\n",
       "      <td>16680</td>\n",
       "      <td>42519267</td>\n",
       "      <td>1.0</td>\n",
       "      <td>-0.262004</td>\n",
       "      <td>-0.294524</td>\n",
       "      <td>-0.203346</td>\n",
       "      <td>0.397175</td>\n",
       "      <td>-1.125856</td>\n",
       "      <td>-0.927076</td>\n",
       "      <td>-0.812896</td>\n",
       "      <td>1.0</td>\n",
       "      <td>Caucasian</td>\n",
       "      <td>Male</td>\n",
       "      <td>[40-50)</td>\n",
       "      <td>None</td>\n",
       "      <td>None</td>\n",
       "      <td>Ch</td>\n",
       "      <td>NO</td>\n",
       "      <td>0</td>\n",
       "      <td>0</td>\n",
       "      <td>1</td>\n",
       "      <td>0</td>\n",
       "      <td>0</td>\n",
       "      <td>0</td>\n",
       "      <td>0</td>\n",
       "      <td>0</td>\n",
       "      <td>1</td>\n",
       "      <td>0</td>\n",
       "      <td>0</td>\n",
       "      <td>0</td>\n",
       "      <td>0</td>\n",
       "      <td>0</td>\n",
       "      <td>0</td>\n",
       "      <td>0</td>\n",
       "      <td>0</td>\n",
       "      <td>0</td>\n",
       "      <td>0</td>\n",
       "      <td>0</td>\n",
       "      <td>0</td>\n",
       "      <td>0</td>\n",
       "    </tr>\n",
       "  </tbody>\n",
       "</table>\n",
       "</div>"
      ],
      "text/plain": [
       "   encounter_id  patient_nbr  bias  number_outpatient  number_inpatient  \\\n",
       "0         12522     48330783   1.0          -0.262004         -0.294524   \n",
       "1         15738     63555939   1.0          -0.262004         -0.294524   \n",
       "2         16680     42519267   1.0          -0.262004         -0.294524   \n",
       "\n",
       "   number_emergency  num_lab_procedures  number_diagnoses  num_medications  \\\n",
       "0         -0.203346            1.249212          0.378159         1.479343   \n",
       "1         -0.203346           -0.504981          0.378159         0.276134   \n",
       "2         -0.203346            0.397175         -1.125856        -0.927076   \n",
       "\n",
       "   num_procedures  time_in_hospital       race  gender       age  \\\n",
       "0        0.323563              13.0  Caucasian  Female   [80-90)   \n",
       "1        0.891793              12.0  Caucasian  Female  [90-100)   \n",
       "2       -0.812896               1.0  Caucasian    Male   [40-50)   \n",
       "\n",
       "  max_glu_serum A1Cresult change readmitted  acarbose  glimepiride  glipizide  \\\n",
       "0          None      None     Ch         NO         0            0          1   \n",
       "1          None      None     Ch         NO         0            0          0   \n",
       "2          None      None     Ch         NO         0            0          1   \n",
       "\n",
       "   glipizide_and_metformin_hcl  glipizide_and_metformin_hydrochloride  \\\n",
       "0                            0                                      0   \n",
       "1                            0                                      0   \n",
       "2                            0                                      0   \n",
       "\n",
       "   glyburide  glyburide_and_metformin_hydrochloride  \\\n",
       "0          0                                      0   \n",
       "1          0                                      0   \n",
       "2          0                                      0   \n",
       "\n",
       "   glyburide-metformin_hydrochloride  human_insulin  insulin_human  \\\n",
       "0                                  0              0              1   \n",
       "1                                  0              1              0   \n",
       "2                                  0              1              0   \n",
       "\n",
       "   metformin_hcl  metformin_hydrochloride  miglitol  nateglinide  none  \\\n",
       "0              0                        0         0            0     0   \n",
       "1              0                        0         0            0     0   \n",
       "2              0                        0         0            0     0   \n",
       "\n",
       "   pioglitazole_and_metformin_hydrochloride  pioglitazone  \\\n",
       "0                                         0             0   \n",
       "1                                         0             0   \n",
       "2                                         0             0   \n",
       "\n",
       "   pioglitazone_hydrochloride_and_glimepiride  repaglinide  \\\n",
       "0                                           0            0   \n",
       "1                                           0            0   \n",
       "2                                           0            0   \n",
       "\n",
       "   rosiglitazone_maleate  tolazamide  tolbutamide  \n",
       "0                      0           0            0  \n",
       "1                      1           0            0  \n",
       "2                      0           0            0  "
      ]
     },
     "execution_count": 43,
     "metadata": {},
     "output_type": "execute_result"
    }
   ],
   "source": [
    "processed_df.head(3)"
   ]
  },
  {
   "cell_type": "code",
   "execution_count": 44,
   "metadata": {},
   "outputs": [],
   "source": [
    "from student_utils import patient_dataset_splitter\n",
    "d_train, d_val, d_test = patient_dataset_splitter(processed_df, 'patient_nbr')"
   ]
  },
  {
   "cell_type": "code",
   "execution_count": 45,
   "metadata": {},
   "outputs": [
    {
     "name": "stdout",
     "output_type": "stream",
     "text": [
      "Test passed for number of total rows equal!\n"
     ]
    }
   ],
   "source": [
    "assert len(d_train) + len(d_val) + len(d_test) == len(processed_df)\n",
    "print(\"Test passed for number of total rows equal!\")"
   ]
  },
  {
   "cell_type": "code",
   "execution_count": 46,
   "metadata": {},
   "outputs": [
    {
     "name": "stdout",
     "output_type": "stream",
     "text": [
      "Test passed for number of unique patients being equal!\n"
     ]
    }
   ],
   "source": [
    "assert (d_train['patient_nbr'].nunique() + d_val['patient_nbr'].nunique() + d_test['patient_nbr'].nunique()) == processed_df['patient_nbr'].nunique()\n",
    "print(\"Test passed for number of unique patients being equal!\")"
   ]
  },
  {
   "cell_type": "markdown",
   "metadata": {},
   "source": [
    "## Lost EDA"
   ]
  },
  {
   "cell_type": "markdown",
   "metadata": {},
   "source": [
    "## Demographic Representation Analysis of Split"
   ]
  },
  {
   "cell_type": "markdown",
   "metadata": {},
   "source": [
    "After the split, we should check to see the distribution of key features/groups and make sure that there is representative samples across the partitions. The show_group_stats_viz function in the utils.py file can be used to group and visualize different groups and dataframe partitions."
   ]
  },
  {
   "cell_type": "markdown",
   "metadata": {},
   "source": [
    "### Label Distribution Across Partitions"
   ]
  },
  {
   "cell_type": "markdown",
   "metadata": {},
   "source": [
    "Below you can see the distributution of the label across your splits. Are the histogram distribution shapes similar across partitions?"
   ]
  },
  {
   "cell_type": "code",
   "execution_count": 47,
   "metadata": {},
   "outputs": [],
   "source": [
    "splits = [processed_df, d_train, d_val, d_test]\n",
    "snames = ['Full', 'Train', 'Validation', 'Test']"
   ]
  },
  {
   "cell_type": "code",
   "execution_count": 48,
   "metadata": {},
   "outputs": [
    {
     "data": {
      "image/png": "[encoded data removed]",
      "text/plain": [
       "<Figure size 864x864 with 4 Axes>"
      ]
     },
     "metadata": {
      "needs_background": "light"
     },
     "output_type": "display_data"
    }
   ],
   "source": [
    "plt.figure(figsize=(12,12))\n",
    "for i in range(len(splits)):\n",
    "    plt.subplot(2, 2, i+1)\n",
    "    plt.title(snames[i])\n",
    "    y = splits[i].groupby(PREDICTOR_FIELD).size()\n",
    "    sns.barplot(sorted(processed_df[PREDICTOR_FIELD].unique()), y)"
   ]
  },
  {
   "cell_type": "markdown",
   "metadata": {},
   "source": [
    "## Demographic Group Analysis"
   ]
  },
  {
   "cell_type": "markdown",
   "metadata": {},
   "source": [
    "We should check that our partitions/splits of the dataset are similar in terms of their demographic profiles. Below you can see how we might visualize and analyze the full dataset vs. the partitions."
   ]
  },
  {
   "cell_type": "code",
   "execution_count": 49,
   "metadata": {},
   "outputs": [
    {
     "data": {
      "image/png": "[encoded data removed]",
      "text/plain": [
       "<Figure size 864x864 with 4 Axes>"
      ]
     },
     "metadata": {
      "needs_background": "light"
     },
     "output_type": "display_data"
    }
   ],
   "source": [
    "plt.figure(figsize=(12,12))\n",
    "for i in range(len(splits)):\n",
    "    plt.subplot(2, 2, i+1)\n",
    "    plt.title(snames[i])\n",
    "    sns.barplot(sorted(processed_df.gender.unique()), processed_df.groupby('gender').size())"
   ]
  },
  {
   "cell_type": "code",
   "execution_count": 50,
   "metadata": {},
   "outputs": [
    {
     "data": {
      "image/png": "[encoded data removed]",
      "text/plain": [
       "<Figure size 864x864 with 4 Axes>"
      ]
     },
     "metadata": {
      "needs_background": "light"
     },
     "output_type": "display_data"
    }
   ],
   "source": [
    "plt.figure(figsize=(12,12))\n",
    "for i in range(len(splits)):\n",
    "    plt.subplot(2, 2, i+1)\n",
    "    plt.title(snames[i])\n",
    "    plt.xticks(rotation=30)\n",
    "    sns.barplot(sorted(processed_df.race.unique()), processed_df.groupby('race').size())"
   ]
  },
  {
   "cell_type": "markdown",
   "metadata": {},
   "source": [
    "## Convert Dataset Splits to TF Dataset"
   ]
  },
  {
   "cell_type": "markdown",
   "metadata": {},
   "source": [
    "We have provided you the function to convert the Pandas dataframe to TF tensors using the TF Dataset API. \n",
    "Please note that this is not a scalable method and for larger datasets, the 'make_csv_dataset' method is recommended -https://www.tensorflow.org/api_docs/python/tf/data/experimental/make_csv_dataset."
   ]
  },
  {
   "cell_type": "markdown",
   "metadata": {},
   "source": [
    "We need to drop the UID columns at this point and retain only our data columns. _(I suspect that the TF input layer actually removes the need for this but better safe than sorry)_"
   ]
  },
  {
   "cell_type": "code",
   "execution_count": 51,
   "metadata": {},
   "outputs": [
    {
     "data": {
      "text/plain": [
       "Index(['bias', 'number_outpatient', 'number_inpatient', 'number_emergency',\n",
       "       'num_lab_procedures', 'number_diagnoses', 'num_medications',\n",
       "       'num_procedures', 'time_in_hospital', 'race', 'gender', 'age',\n",
       "       'max_glu_serum', 'A1Cresult', 'change', 'readmitted', 'acarbose',\n",
       "       'glimepiride', 'glipizide', 'glipizide_and_metformin_hcl',\n",
       "       'glipizide_and_metformin_hydrochloride', 'glyburide',\n",
       "       'glyburide_and_metformin_hydrochloride',\n",
       "       'glyburide-metformin_hydrochloride', 'human_insulin', 'insulin_human',\n",
       "       'metformin_hcl', 'metformin_hydrochloride', 'miglitol', 'nateglinide',\n",
       "       'none', 'pioglitazole_and_metformin_hydrochloride', 'pioglitazone',\n",
       "       'pioglitazone_hydrochloride_and_glimepiride', 'repaglinide',\n",
       "       'rosiglitazone_maleate', 'tolazamide', 'tolbutamide'],\n",
       "      dtype='object')"
      ]
     },
     "execution_count": 51,
     "metadata": {},
     "output_type": "execute_result"
    }
   ],
   "source": [
    "dcols = d_train.columns[2:]\n",
    "dcols"
   ]
  },
  {
   "cell_type": "code",
   "execution_count": 52,
   "metadata": {},
   "outputs": [],
   "source": [
    "# A utility method to create a tf.data dataset from a Pandas Dataframe\n",
    "def df_to_dataset(dataframe, target, shuffle=True, batch_size=32):\n",
    "  dataframe = dataframe.copy()\n",
    "  labels = dataframe.pop(target)\n",
    "  ds = tf.data.Dataset.from_tensor_slices((dict(dataframe), labels))\n",
    "  if shuffle:\n",
    "    ds = ds.shuffle(buffer_size=len(dataframe))\n",
    "  ds = ds.batch(batch_size)\n",
    "  return ds\n"
   ]
  },
  {
   "cell_type": "code",
   "execution_count": 53,
   "metadata": {},
   "outputs": [],
   "source": [
    "BATCH_SIZE = 32\n",
    "\n",
    "diabetes_train_ds = df_to_dataset(d_train[dcols], PREDICTOR_FIELD, shuffle=True, batch_size=BATCH_SIZE)\n",
    "diabetes_val_ds = df_to_dataset(d_val[dcols], PREDICTOR_FIELD, shuffle=False, batch_size=BATCH_SIZE)\n",
    "diabetes_test_ds = df_to_dataset(d_test[dcols], PREDICTOR_FIELD, shuffle=False, batch_size=BATCH_SIZE)"
   ]
  },
  {
   "cell_type": "markdown",
   "metadata": {},
   "source": [
    "# 4. Create Categorical Features with TF Feature Columns"
   ]
  },
  {
   "cell_type": "markdown",
   "metadata": {},
   "source": [
    "## Build Vocabulary for Categorical Features"
   ]
  },
  {
   "cell_type": "markdown",
   "metadata": {},
   "source": [
    "Before we can create the TF categorical features, we must first create the vocab files with the unique values for a given field that are from the **training** dataset. Below we have provided a function that you can use that only requires providing the pandas train dataset partition and the list of the categorical columns in a list format. The output variable 'vocab_file_list' will be a list of the file paths that can be used in the next step for creating the categorical features."
   ]
  },
  {
   "cell_type": "markdown",
   "metadata": {},
   "source": [
    "_Note: Switched to non-filepath method but completed the function in the code file_"
   ]
  },
  {
   "cell_type": "markdown",
   "metadata": {},
   "source": [
    "## Create Categorical Features with Tensorflow Feature Column API"
   ]
  },
  {
   "cell_type": "markdown",
   "metadata": {},
   "source": [
    "**Question 7**: Using the vocab file list from above that was derived fromt the features you selected earlier, please create categorical features with the Tensorflow Feature Column API, https://www.tensorflow.org/api_docs/python/tf/feature_column. Below is a function to help guide you."
   ]
  },
  {
   "cell_type": "code",
   "execution_count": 54,
   "metadata": {},
   "outputs": [],
   "source": [
    "features = []\n",
    "\n",
    "for c in numeric:\n",
    "    features.append(feature_column.numeric_column(c))\n",
    "\n",
    "for c in categorical:\n",
    "    vocab = processed_df[c].unique()\n",
    "    ft = feature_column.categorical_column_with_vocabulary_list(c, vocab)\n",
    "    features.append(feature_column.indicator_column(ft))"
   ]
  },
  {
   "cell_type": "code",
   "execution_count": 55,
   "metadata": {},
   "outputs": [
    {
     "data": {
      "text/plain": [
       "[NumericColumn(key='bias', shape=(1,), default_value=None, dtype=tf.float32, normalizer_fn=None),\n",
       " NumericColumn(key='number_outpatient', shape=(1,), default_value=None, dtype=tf.float32, normalizer_fn=None),\n",
       " NumericColumn(key='number_inpatient', shape=(1,), default_value=None, dtype=tf.float32, normalizer_fn=None),\n",
       " NumericColumn(key='number_emergency', shape=(1,), default_value=None, dtype=tf.float32, normalizer_fn=None),\n",
       " NumericColumn(key='num_lab_procedures', shape=(1,), default_value=None, dtype=tf.float32, normalizer_fn=None),\n",
       " NumericColumn(key='number_diagnoses', shape=(1,), default_value=None, dtype=tf.float32, normalizer_fn=None),\n",
       " NumericColumn(key='num_medications', shape=(1,), default_value=None, dtype=tf.float32, normalizer_fn=None),\n",
       " NumericColumn(key='num_procedures', shape=(1,), default_value=None, dtype=tf.float32, normalizer_fn=None),\n",
       " IndicatorColumn(categorical_column=VocabularyListCategoricalColumn(key='race', vocabulary_list=('Caucasian', 'AfricanAmerican', '?', 'Other', 'Asian', 'Hispanic'), dtype=tf.string, default_value=-1, num_oov_buckets=0)),\n",
       " IndicatorColumn(categorical_column=VocabularyListCategoricalColumn(key='gender', vocabulary_list=('Female', 'Male', 'Unknown/Invalid'), dtype=tf.string, default_value=-1, num_oov_buckets=0)),\n",
       " IndicatorColumn(categorical_column=VocabularyListCategoricalColumn(key='age', vocabulary_list=('[80-90)', '[90-100)', '[40-50)', '[50-60)', '[60-70)', '[70-80)', '[20-30)', '[10-20)', '[30-40)', '[0-10)'), dtype=tf.string, default_value=-1, num_oov_buckets=0)),\n",
       " IndicatorColumn(categorical_column=VocabularyListCategoricalColumn(key='max_glu_serum', vocabulary_list=('None', '>300', 'Norm', '>200'), dtype=tf.string, default_value=-1, num_oov_buckets=0)),\n",
       " IndicatorColumn(categorical_column=VocabularyListCategoricalColumn(key='A1Cresult', vocabulary_list=('None', '>7', '>8', 'Norm'), dtype=tf.string, default_value=-1, num_oov_buckets=0)),\n",
       " IndicatorColumn(categorical_column=VocabularyListCategoricalColumn(key='change', vocabulary_list=('Ch', 'No'), dtype=tf.string, default_value=-1, num_oov_buckets=0)),\n",
       " IndicatorColumn(categorical_column=VocabularyListCategoricalColumn(key='readmitted', vocabulary_list=('NO', '>30', '<30'), dtype=tf.string, default_value=-1, num_oov_buckets=0))]"
      ]
     },
     "execution_count": 55,
     "metadata": {},
     "output_type": "execute_result"
    }
   ],
   "source": [
    "features"
   ]
  },
  {
   "cell_type": "markdown",
   "metadata": {},
   "source": [
    "# 5. Create Numerical Features with TF Feature Columns"
   ]
  },
  {
   "cell_type": "markdown",
   "metadata": {},
   "source": [
    "**Question 8**: Using the TF Feature Column API(https://www.tensorflow.org/api_docs/python/tf/feature_column/), please create normalized Tensorflow numeric features for the model. Try to use the z-score normalizer function below to help as well as the 'calculate_stats_from_train_data' function."
   ]
  },
  {
   "cell_type": "markdown",
   "metadata": {},
   "source": [
    "# 6. Build Deep Learning Regression Model with Sequential API and TF Probability Layers"
   ]
  },
  {
   "cell_type": "markdown",
   "metadata": {},
   "source": [
    "## Use DenseFeatures to combine features for model"
   ]
  },
  {
   "cell_type": "markdown",
   "metadata": {},
   "source": [
    "Now that we have prepared categorical and numerical features using Tensorflow's Feature Column API, we can combine them into a dense vector representation for the model. Below we will create this new input layer, which we will call 'claim_feature_layer'."
   ]
  },
  {
   "cell_type": "code",
   "execution_count": 56,
   "metadata": {},
   "outputs": [],
   "source": [
    "input_layer = tf.keras.layers.DenseFeatures(features)"
   ]
  },
  {
   "cell_type": "markdown",
   "metadata": {},
   "source": [
    "## Build Sequential API Model from DenseFeatures and TF Probability Layers"
   ]
  },
  {
   "cell_type": "markdown",
   "metadata": {},
   "source": [
    "Below we have provided some boilerplate code for building a model that connects the Sequential API, DenseFeatures, and Tensorflow Probability layers into a deep learning model. There are many opportunities to further optimize and explore different architectures through benchmarking and testing approaches in various research papers, loss and evaluation metrics, learning curves, hyperparameter tuning, TF probability layers, etc. Feel free to modify and explore as you wish."
   ]
  },
  {
   "cell_type": "markdown",
   "metadata": {},
   "source": [
    "**OPTIONAL**: Come up with a more optimal neural network architecture and hyperparameters. Share the process in discovering the architecture and hyperparameters."
   ]
  },
  {
   "cell_type": "code",
   "execution_count": 70,
   "metadata": {},
   "outputs": [],
   "source": [
    "def build_sequential_model(feature_layer):\n",
    "    model = tf.keras.Sequential([\n",
    "        feature_layer,\n",
    "        tf.keras.layers.Dense(512, activation='relu'),\n",
    "        tf.keras.layers.Dense(256, activation='relu'),\n",
    "        tf.keras.layers.Dense(128, activation='relu'),\n",
    "        tf.keras.layers.Dense(64, activation='relu'),\n",
    "        tf.keras.layers.Dense(1 + 1),\n",
    "#         tfp.layers.DenseVariational(1+1, posterior_mean_field, prior_trainable),\n",
    "        tfp.layers.DistributionLambda(\n",
    "            lambda t:tfp.distributions.Normal(loc=t[..., :1],\n",
    "                                             scale=1e-3 + tf.math.softplus(0.01 * t[...,1:])\n",
    "                                             )\n",
    "        ),\n",
    "    ])\n",
    "    return model\n",
    "\n",
    "negloglik = lambda y, rv_y: -rv_y.log_prob(y)\n",
    "model = build_sequential_model(input_layer)\n",
    "optim = tf.keras.optimizers.Adam(learning_rate=1e-3)\n",
    "stop = tf.keras.callbacks.EarlyStopping(monitor='val_mse', patience=10, restore_best_weights=True)\n",
    "model.compile(optimizer=optim, loss=negloglik, metrics=['mse'])"
   ]
  },
  {
   "cell_type": "code",
   "execution_count": 71,
   "metadata": {},
   "outputs": [
    {
     "name": "stdout",
     "output_type": "stream",
     "text": [
      "Train for 1341 steps, validate for 447 steps\n",
      "Epoch 1/100\n",
      "1341/1341 [==============================] - 10s 8ms/step - loss: 2.9027 - mse: 11.8910 - val_loss: 2.3189 - val_mse: 13.6499\n",
      "Epoch 2/100\n",
      "1341/1341 [==============================] - 10s 7ms/step - loss: 2.2924 - mse: 12.2796 - val_loss: 2.3475 - val_mse: 12.8866\n",
      "Epoch 3/100\n",
      "1341/1341 [==============================] - 9s 6ms/step - loss: 2.2874 - mse: 12.1453 - val_loss: 2.2673 - val_mse: 11.3806\n",
      "Epoch 4/100\n",
      "1341/1341 [==============================] - 9s 7ms/step - loss: 2.2796 - mse: 12.1001 - val_loss: 2.3172 - val_mse: 13.8842\n",
      "Epoch 5/100\n",
      "1341/1341 [==============================] - 9s 6ms/step - loss: 2.2751 - mse: 12.1185 - val_loss: 2.2614 - val_mse: 11.4669\n",
      "Epoch 6/100\n",
      "1341/1341 [==============================] - 9s 7ms/step - loss: 2.2658 - mse: 11.9499 - val_loss: 2.2934 - val_mse: 12.3572\n",
      "Epoch 7/100\n",
      "1341/1341 [==============================] - 10s 7ms/step - loss: 2.2595 - mse: 11.7901 - val_loss: 2.2541 - val_mse: 11.4116\n",
      "Epoch 8/100\n",
      "1341/1341 [==============================] - 9s 7ms/step - loss: 2.2529 - mse: 11.7977 - val_loss: 2.2856 - val_mse: 12.1599\n",
      "Epoch 9/100\n",
      "1341/1341 [==============================] - 9s 7ms/step - loss: 2.2483 - mse: 11.8254 - val_loss: 2.2591 - val_mse: 11.8924\n",
      "Epoch 10/100\n",
      "1341/1341 [==============================] - 9s 7ms/step - loss: 2.2426 - mse: 11.7338 - val_loss: 2.2576 - val_mse: 11.5128\n",
      "Epoch 11/100\n",
      "1341/1341 [==============================] - 9s 7ms/step - loss: 2.2338 - mse: 11.7436 - val_loss: 2.2733 - val_mse: 10.9856\n",
      "Epoch 12/100\n",
      "1341/1341 [==============================] - 8s 6ms/step - loss: 2.2289 - mse: 11.6869 - val_loss: 2.2698 - val_mse: 12.0735\n",
      "Epoch 13/100\n",
      "1341/1341 [==============================] - 9s 6ms/step - loss: 2.2238 - mse: 11.4836 - val_loss: 2.2651 - val_mse: 11.3237\n",
      "Epoch 14/100\n",
      "1341/1341 [==============================] - 9s 6ms/step - loss: 2.2164 - mse: 11.4629 - val_loss: 2.2815 - val_mse: 12.6427\n",
      "Epoch 15/100\n",
      "1341/1341 [==============================] - 9s 7ms/step - loss: 2.2091 - mse: 11.4023 - val_loss: 2.2818 - val_mse: 11.7030\n",
      "Epoch 16/100\n",
      "1341/1341 [==============================] - 9s 6ms/step - loss: 2.2017 - mse: 11.3901 - val_loss: 2.2887 - val_mse: 12.4343\n",
      "Epoch 17/100\n",
      "1341/1341 [==============================] - 9s 6ms/step - loss: 2.1932 - mse: 11.2614 - val_loss: 2.2880 - val_mse: 11.4630\n",
      "Epoch 18/100\n",
      "1341/1341 [==============================] - 9s 6ms/step - loss: 2.1845 - mse: 11.1490 - val_loss: 2.2998 - val_mse: 11.8614\n",
      "Epoch 19/100\n",
      "1341/1341 [==============================] - 9s 7ms/step - loss: 2.1800 - mse: 11.2184 - val_loss: 2.3195 - val_mse: 11.4065\n",
      "Epoch 20/100\n",
      "1341/1341 [==============================] - 9s 7ms/step - loss: 2.1680 - mse: 11.1432 - val_loss: 2.3226 - val_mse: 10.7921\n",
      "Epoch 21/100\n",
      "1341/1341 [==============================] - 9s 6ms/step - loss: 2.1575 - mse: 11.0124 - val_loss: 2.3262 - val_mse: 11.6405\n",
      "Epoch 22/100\n",
      "1341/1341 [==============================] - 9s 7ms/step - loss: 2.1473 - mse: 10.7600 - val_loss: 2.3764 - val_mse: 11.1085\n",
      "Epoch 23/100\n",
      "1341/1341 [==============================] - 9s 7ms/step - loss: 2.1399 - mse: 10.9657 - val_loss: 2.3926 - val_mse: 11.3412\n",
      "Epoch 24/100\n",
      "1341/1341 [==============================] - 9s 7ms/step - loss: 2.1274 - mse: 10.8906 - val_loss: 2.4166 - val_mse: 10.9561\n",
      "Epoch 25/100\n",
      "1341/1341 [==============================] - 9s 7ms/step - loss: 2.1120 - mse: 10.5834 - val_loss: 2.4350 - val_mse: 11.1401\n",
      "Epoch 26/100\n",
      "1341/1341 [==============================] - 9s 7ms/step - loss: 2.1045 - mse: 10.3906 - val_loss: 2.4058 - val_mse: 11.4641\n",
      "Epoch 27/100\n",
      "1341/1341 [==============================] - 9s 7ms/step - loss: 2.0876 - mse: 10.3016 - val_loss: 2.4719 - val_mse: 12.2065\n",
      "Epoch 28/100\n",
      "1341/1341 [==============================] - 9s 7ms/step - loss: 2.0795 - mse: 10.2625 - val_loss: 2.5959 - val_mse: 10.7898\n",
      "Epoch 29/100\n",
      "1341/1341 [==============================] - 9s 7ms/step - loss: 2.0621 - mse: 10.1118 - val_loss: 2.5829 - val_mse: 11.6795\n",
      "Epoch 30/100\n",
      "1341/1341 [==============================] - 9s 6ms/step - loss: 2.0564 - mse: 10.0531 - val_loss: 2.6170 - val_mse: 11.4728\n",
      "Epoch 31/100\n",
      "1341/1341 [==============================] - 9s 6ms/step - loss: 2.0385 - mse: 9.9446 - val_loss: 2.7759 - val_mse: 10.6670\n",
      "Epoch 32/100\n",
      "1341/1341 [==============================] - 9s 6ms/step - loss: 2.0303 - mse: 9.8922 - val_loss: 2.6908 - val_mse: 12.0059\n",
      "Epoch 33/100\n",
      "1341/1341 [==============================] - 9s 6ms/step - loss: 2.0145 - mse: 9.9504 - val_loss: 2.8156 - val_mse: 10.9755\n",
      "Epoch 34/100\n",
      "1341/1341 [==============================] - 9s 6ms/step - loss: 2.0043 - mse: 9.7683 - val_loss: 2.8788 - val_mse: 11.6593\n",
      "Epoch 35/100\n",
      "1341/1341 [==============================] - 9s 6ms/step - loss: 1.9920 - mse: 9.5620 - val_loss: 2.9400 - val_mse: 10.7991\n",
      "Epoch 36/100\n",
      "1341/1341 [==============================] - 9s 6ms/step - loss: 1.9781 - mse: 9.4021 - val_loss: 2.8709 - val_mse: 11.3641\n",
      "Epoch 37/100\n",
      "1341/1341 [==============================] - 9s 6ms/step - loss: 1.9701 - mse: 9.3799 - val_loss: 2.9732 - val_mse: 11.1436\n",
      "Epoch 38/100\n",
      "1341/1341 [==============================] - 9s 7ms/step - loss: 1.9619 - mse: 9.4041 - val_loss: 3.3167 - val_mse: 11.5724\n",
      "Epoch 39/100\n",
      "1341/1341 [==============================] - 9s 7ms/step - loss: 1.9440 - mse: 9.3136 - val_loss: 3.1223 - val_mse: 11.9984\n",
      "Epoch 40/100\n",
      "1341/1341 [==============================] - 9s 7ms/step - loss: 1.9352 - mse: 9.0271 - val_loss: 3.0565 - val_mse: 11.4923\n",
      "Epoch 41/100\n",
      "1341/1341 [==============================] - 9s 6ms/step - loss: 1.9217 - mse: 8.9929 - val_loss: 3.4948 - val_mse: 10.7138\n"
     ]
    }
   ],
   "source": [
    "epochs = 100\n",
    "history = model.fit(diabetes_train_ds, validation_data=diabetes_val_ds,\n",
    "                    epochs=epochs, callbacks=[stop])"
   ]
  },
  {
   "cell_type": "code",
   "execution_count": 72,
   "metadata": {},
   "outputs": [
    {
     "name": "stdout",
     "output_type": "stream",
     "text": [
      "Model: \"sequential_4\"\n",
      "_________________________________________________________________\n",
      "Layer (type)                 Output Shape              Param #   \n",
      "=================================================================\n",
      "dense_features_1 (DenseFeatu multiple                  0         \n",
      "_________________________________________________________________\n",
      "dense_20 (Dense)             multiple                  20992     \n",
      "_________________________________________________________________\n",
      "dense_21 (Dense)             multiple                  131328    \n",
      "_________________________________________________________________\n",
      "dense_22 (Dense)             multiple                  32896     \n",
      "_________________________________________________________________\n",
      "dense_23 (Dense)             multiple                  8256      \n",
      "_________________________________________________________________\n",
      "dense_24 (Dense)             multiple                  130       \n",
      "_________________________________________________________________\n",
      "distribution_lambda_4 (Distr multiple                  0         \n",
      "=================================================================\n",
      "Total params: 193,602\n",
      "Trainable params: 193,602\n",
      "Non-trainable params: 0\n",
      "_________________________________________________________________\n"
     ]
    }
   ],
   "source": [
    "model.summary()"
   ]
  },
  {
   "cell_type": "code",
   "execution_count": 73,
   "metadata": {},
   "outputs": [],
   "source": [
    "modelpath = os.path.join('.', 'model', 'diabetes_model.hdf5')\n",
    "model.save(modelpath)"
   ]
  },
  {
   "cell_type": "markdown",
   "metadata": {},
   "source": [
    "## Show Model Uncertainty Range with TF Probability"
   ]
  },
  {
   "cell_type": "markdown",
   "metadata": {},
   "source": [
    "**Question 9**: Now that we have trained a model with TF Probability layers, we can extract the mean and standard deviation for each prediction. Please fill in the answer for the m and s variables below. The code for getting the predictions is provided for you below."
   ]
  },
  {
   "cell_type": "code",
   "execution_count": 64,
   "metadata": {},
   "outputs": [],
   "source": [
    "# feature_list = student_categorical_col_list + student_numerical_col_list\n",
    "feature_list = [c for c in d_test.columns if c != 'time_in_hospital']\n",
    "diabetes_x_tst = dict(d_test[feature_list])\n",
    "diabetes_yhat = model(diabetes_x_tst)\n",
    "preds = model.predict(diabetes_test_ds)"
   ]
  },
  {
   "cell_type": "code",
   "execution_count": 65,
   "metadata": {},
   "outputs": [],
   "source": [
    "from student_utils import get_mean_std_from_preds\n",
    "m, s = get_mean_std_from_preds(diabetes_yhat)"
   ]
  },
  {
   "cell_type": "markdown",
   "metadata": {},
   "source": [
    "## Show Prediction Output "
   ]
  },
  {
   "cell_type": "code",
   "execution_count": 66,
   "metadata": {},
   "outputs": [],
   "source": [
    "prob_outputs = {\n",
    "    \"pred\": preds.flatten(),\n",
    "    \"actual_value\": d_test['time_in_hospital'].values,\n",
    "    \"pred_mean\": m.numpy().flatten(),\n",
    "    \"pred_std\": s.numpy().flatten()\n",
    "}\n",
    "prob_output_df = pd.DataFrame(prob_outputs)"
   ]
  },
  {
   "cell_type": "code",
   "execution_count": 67,
   "metadata": {},
   "outputs": [
    {
     "data": {
      "text/html": [
       "<div>\n",
       "<style scoped>\n",
       "    .dataframe tbody tr th:only-of-type {\n",
       "        vertical-align: middle;\n",
       "    }\n",
       "\n",
       "    .dataframe tbody tr th {\n",
       "        vertical-align: top;\n",
       "    }\n",
       "\n",
       "    .dataframe thead th {\n",
       "        text-align: right;\n",
       "    }\n",
       "</style>\n",
       "<table border=\"1\" class=\"dataframe\">\n",
       "  <thead>\n",
       "    <tr style=\"text-align: right;\">\n",
       "      <th></th>\n",
       "      <th>pred</th>\n",
       "      <th>actual_value</th>\n",
       "      <th>pred_mean</th>\n",
       "      <th>pred_std</th>\n",
       "    </tr>\n",
       "  </thead>\n",
       "  <tbody>\n",
       "    <tr>\n",
       "      <th>0</th>\n",
       "      <td>2.245621</td>\n",
       "      <td>2.0</td>\n",
       "      <td>2.701845</td>\n",
       "      <td>1.499385</td>\n",
       "    </tr>\n",
       "    <tr>\n",
       "      <th>1</th>\n",
       "      <td>1.850029</td>\n",
       "      <td>1.0</td>\n",
       "      <td>1.720299</td>\n",
       "      <td>1.068224</td>\n",
       "    </tr>\n",
       "    <tr>\n",
       "      <th>2</th>\n",
       "      <td>3.486819</td>\n",
       "      <td>8.0</td>\n",
       "      <td>7.246751</td>\n",
       "      <td>2.938316</td>\n",
       "    </tr>\n",
       "    <tr>\n",
       "      <th>3</th>\n",
       "      <td>2.481288</td>\n",
       "      <td>5.0</td>\n",
       "      <td>3.612321</td>\n",
       "      <td>2.524172</td>\n",
       "    </tr>\n",
       "    <tr>\n",
       "      <th>4</th>\n",
       "      <td>2.810821</td>\n",
       "      <td>3.0</td>\n",
       "      <td>3.979717</td>\n",
       "      <td>2.334543</td>\n",
       "    </tr>\n",
       "    <tr>\n",
       "      <th>5</th>\n",
       "      <td>9.294781</td>\n",
       "      <td>1.0</td>\n",
       "      <td>4.216722</td>\n",
       "      <td>2.354958</td>\n",
       "    </tr>\n",
       "    <tr>\n",
       "      <th>6</th>\n",
       "      <td>2.934119</td>\n",
       "      <td>2.0</td>\n",
       "      <td>4.174205</td>\n",
       "      <td>2.453775</td>\n",
       "    </tr>\n",
       "    <tr>\n",
       "      <th>7</th>\n",
       "      <td>3.890482</td>\n",
       "      <td>3.0</td>\n",
       "      <td>3.096901</td>\n",
       "      <td>1.776315</td>\n",
       "    </tr>\n",
       "    <tr>\n",
       "      <th>8</th>\n",
       "      <td>9.351850</td>\n",
       "      <td>8.0</td>\n",
       "      <td>6.327807</td>\n",
       "      <td>2.919749</td>\n",
       "    </tr>\n",
       "    <tr>\n",
       "      <th>9</th>\n",
       "      <td>2.992442</td>\n",
       "      <td>3.0</td>\n",
       "      <td>4.285676</td>\n",
       "      <td>2.001877</td>\n",
       "    </tr>\n",
       "  </tbody>\n",
       "</table>\n",
       "</div>"
      ],
      "text/plain": [
       "       pred  actual_value  pred_mean  pred_std\n",
       "0  2.245621           2.0   2.701845  1.499385\n",
       "1  1.850029           1.0   1.720299  1.068224\n",
       "2  3.486819           8.0   7.246751  2.938316\n",
       "3  2.481288           5.0   3.612321  2.524172\n",
       "4  2.810821           3.0   3.979717  2.334543\n",
       "5  9.294781           1.0   4.216722  2.354958\n",
       "6  2.934119           2.0   4.174205  2.453775\n",
       "7  3.890482           3.0   3.096901  1.776315\n",
       "8  9.351850           8.0   6.327807  2.919749\n",
       "9  2.992442           3.0   4.285676  2.001877"
      ]
     },
     "execution_count": 67,
     "metadata": {},
     "output_type": "execute_result"
    }
   ],
   "source": [
    "prob_output_df.head(10)"
   ]
  },
  {
   "cell_type": "code",
   "execution_count": 68,
   "metadata": {},
   "outputs": [
    {
     "data": {
      "text/plain": [
       "array([2.7018447, 1.7202994, 7.2467513, ..., 2.4555311, 6.401886 ,\n",
       "       3.9414873], dtype=float32)"
      ]
     },
     "execution_count": 68,
     "metadata": {},
     "output_type": "execute_result"
    }
   ],
   "source": [
    "prob_output_df.pred_mean.unique()"
   ]
  },
  {
   "cell_type": "code",
   "execution_count": 69,
   "metadata": {},
   "outputs": [
    {
     "data": {
      "text/plain": [
       "array([1.4993845, 1.0682244, 2.9383159, ..., 1.6743522, 2.5711443,\n",
       "       2.4347777], dtype=float32)"
      ]
     },
     "execution_count": 69,
     "metadata": {},
     "output_type": "execute_result"
    }
   ],
   "source": [
    "prob_output_df.pred_std.unique()"
   ]
  },
  {
   "cell_type": "markdown",
   "metadata": {},
   "source": [
    "## Convert Regression Output to Classification Output for Patient Selection"
   ]
  },
  {
   "cell_type": "markdown",
   "metadata": {},
   "source": [
    "**Question 10**: Given the output predictions, convert it to a binary label for whether the patient meets the time criteria or does not (HINT: use the mean prediction numpy array). The expected output is a numpy array with a 1 or 0 based off if the prediction meets or doesnt meet the criteria."
   ]
  },
  {
   "cell_type": "code",
   "execution_count": null,
   "metadata": {},
   "outputs": [],
   "source": [
    "from student_utils import get_student_binary_prediction\n",
    "student_binary_prediction = get_student_binary_prediction(prob_output_df, 'pred_mean')"
   ]
  },
  {
   "cell_type": "markdown",
   "metadata": {},
   "source": [
    "### Add Binary Prediction to Test Dataframe"
   ]
  },
  {
   "cell_type": "markdown",
   "metadata": {},
   "source": [
    "Using the student_binary_prediction output that is a numpy array with binary labels, we can use this to add to a dataframe to better visualize and also to prepare the data for the Aequitas toolkit. The Aequitas toolkit requires that the predictions be mapped to a binary label for the predictions (called 'score' field) and the actual value (called 'label_value')."
   ]
  },
  {
   "cell_type": "code",
   "execution_count": null,
   "metadata": {},
   "outputs": [],
   "source": [
    "def add_pred_to_test(test_df, pred_np, demo_col_list):\n",
    "    for c in demo_col_list:\n",
    "        test_df[c] = test_df[c].astype(str)\n",
    "    test_df['score'] = pred_np\n",
    "    test_df['label_value'] = test_df['time_in_hospital'].apply(lambda x: 1 if x >=5 else 0)\n",
    "    return test_df\n",
    "\n",
    "pred_test_df = add_pred_to_test(d_test, student_binary_prediction, ['race', 'gender'])"
   ]
  },
  {
   "cell_type": "code",
   "execution_count": null,
   "metadata": {},
   "outputs": [],
   "source": [
    "pred_test_df[['patient_nbr', 'gender', 'race', 'time_in_hospital', 'score', 'label_value']].head()"
   ]
  },
  {
   "cell_type": "markdown",
   "metadata": {},
   "source": [
    "## Model Evaluation Metrics "
   ]
  },
  {
   "cell_type": "markdown",
   "metadata": {},
   "source": [
    "**Question 11**: Now it is time to use the newly created binary labels in the 'pred_test_df' dataframe to evaluate the model with some common classification metrics. Please create a report summary of the performance of the model and be sure to give the ROC AUC, F1 score(weighted), class precision and recall scores. "
   ]
  },
  {
   "cell_type": "markdown",
   "metadata": {},
   "source": [
    "For the report please be sure to include the following three parts:\n",
    "- With a non-technical audience in mind, explain the precision-recall tradeoff in regard to how you have optimized your model.\n",
    "\n",
    "- What are some areas of improvement for future iterations?"
   ]
  },
  {
   "cell_type": "code",
   "execution_count": null,
   "metadata": {},
   "outputs": [],
   "source": [
    "# AUC, F1, precision and recall\n",
    "# Summary"
   ]
  },
  {
   "cell_type": "markdown",
   "metadata": {},
   "source": [
    "# 7. Evaluating Potential Model Biases with Aequitas Toolkit"
   ]
  },
  {
   "cell_type": "markdown",
   "metadata": {},
   "source": [
    "## Prepare Data For Aequitas Bias Toolkit "
   ]
  },
  {
   "cell_type": "markdown",
   "metadata": {},
   "source": [
    "Using the gender and race fields, we will prepare the data for the Aequitas Toolkit."
   ]
  },
  {
   "cell_type": "code",
   "execution_count": null,
   "metadata": {},
   "outputs": [],
   "source": [
    "# Aequitas\n",
    "from aequitas.preprocessing import preprocess_input_df\n",
    "from aequitas.group import Group\n",
    "from aequitas.plotting import Plot\n",
    "from aequitas.bias import Bias\n",
    "from aequitas.fairness import Fairness\n",
    "\n",
    "ae_subset_df = pred_test_df[['race', 'gender', 'score', 'label_value']]\n",
    "ae_df, _ = preprocess_input_df(ae_subset_df)\n",
    "g = Group()\n",
    "xtab, _ = g.get_crosstabs(ae_df)\n",
    "absolute_metrics = g.list_absolute_metrics(xtab)\n",
    "clean_xtab = xtab.fillna(-1)\n",
    "aqp = Plot()\n",
    "b = Bias()\n"
   ]
  },
  {
   "cell_type": "markdown",
   "metadata": {},
   "source": [
    "## Reference Group Selection"
   ]
  },
  {
   "cell_type": "markdown",
   "metadata": {},
   "source": [
    "Below we have chosen the reference group for our analysis but feel free to select another one."
   ]
  },
  {
   "cell_type": "code",
   "execution_count": null,
   "metadata": {},
   "outputs": [],
   "source": [
    "# test reference group with Caucasian Male\n",
    "bdf = b.get_disparity_predefined_groups(clean_xtab, \n",
    "                    original_df=ae_df, \n",
    "                    ref_groups_dict={'race':'Caucasian', 'gender':'Male'\n",
    "                                     }, \n",
    "                    alpha=0.05, \n",
    "                    check_significance=False)\n",
    "\n",
    "\n",
    "f = Fairness()\n",
    "fdf = f.get_group_value_fairness(bdf)"
   ]
  },
  {
   "cell_type": "markdown",
   "metadata": {},
   "source": [
    "## Race and Gender Bias Analysis for Patient Selection"
   ]
  },
  {
   "cell_type": "markdown",
   "metadata": {},
   "source": [
    "**Question 12**: For the gender and race fields, please plot two metrics that are important for patient selection below and state whether there is a significant bias in your model across any of the groups along with justification for your statement."
   ]
  },
  {
   "cell_type": "code",
   "execution_count": null,
   "metadata": {},
   "outputs": [],
   "source": [
    "# Plot two metrics\n",
    "\n",
    "# Is there significant bias in your model for either race or gender?"
   ]
  },
  {
   "cell_type": "markdown",
   "metadata": {},
   "source": [
    "## Fairness Analysis Example - Relative to a Reference Group "
   ]
  },
  {
   "cell_type": "markdown",
   "metadata": {},
   "source": [
    "**Question 13**: Earlier we defined our reference group and then calculated disparity metrics relative to this grouping. Please provide a visualization of the fairness evaluation for this reference group and analyze whether there is disparity."
   ]
  },
  {
   "cell_type": "code",
   "execution_count": null,
   "metadata": {},
   "outputs": [],
   "source": [
    "# Reference group fairness plot"
   ]
  },
  {
   "cell_type": "code",
   "execution_count": null,
   "metadata": {},
   "outputs": [],
   "source": []
  },
  {
   "cell_type": "code",
   "execution_count": null,
   "metadata": {},
   "outputs": [],
   "source": []
  }
 ],
 "metadata": {
  "kernelspec": {
   "display_name": "Python 3",
   "language": "python",
   "name": "python3"
  },
  "language_info": {
   "codemirror_mode": {
    "name": "ipython",
    "version": 3
   },
   "file_extension": ".py",
   "mimetype": "text/x-python",
   "name": "python",
   "nbconvert_exporter": "python",
   "pygments_lexer": "ipython3",
   "version": "3.7.7"
  }
 },
 "nbformat": 4,
 "nbformat_minor": 4
}
