{
 "cells": [
  {
   "cell_type": "code",
   "execution_count": 1,
   "metadata": {
    "scrolled": false
   },
   "outputs": [],
   "source": [
    "# from __future__ import absolute_import, division, print_function, unicode_literals\n",
    "import os\n",
    "import numpy as np\n",
    "import tensorflow as tf\n",
    "from tensorflow import feature_column\n",
    "from tensorflow.keras import layers\n",
    "import tensorflow_probability as tfp\n",
    "# import tensorflow_data_validation as tfdv # blursed library\n",
    "import matplotlib.pyplot as plt\n",
    "import seaborn as sns\n",
    "import pandas as pd\n",
    "import aequitas as ae"
   ]
  },
  {
   "cell_type": "code",
   "execution_count": 2,
   "metadata": {
    "scrolled": true
   },
   "outputs": [],
   "source": [
    "# Put all of the helper functions in utils\n",
    "from utils import build_vocab_files, show_group_stats_viz, aggregate_dataset, preprocess_df, df_to_dataset, posterior_mean_field, prior_trainable\n",
    "pd.set_option('display.max_columns', 500)\n",
    "\n",
    "# this allows you to make changes and save in student_utils.py and the file is reloaded every time you run a code block\n",
    "%load_ext autoreload\n",
    "%autoreload"
   ]
  },
  {
   "cell_type": "code",
   "execution_count": 3,
   "metadata": {},
   "outputs": [],
   "source": [
    "#OPEN ISSUE ON MAC OSX for TF model training\n",
    "import os\n",
    "os.environ['KMP_DUPLICATE_LIB_OK']='True'"
   ]
  },
  {
   "cell_type": "code",
   "execution_count": 4,
   "metadata": {
    "scrolled": true
   },
   "outputs": [
    {
     "data": {
      "text/plain": [
       "[PhysicalDevice(name='/physical_device:GPU:0', device_type='GPU')]"
      ]
     },
     "execution_count": 4,
     "metadata": {},
     "output_type": "execute_result"
    }
   ],
   "source": [
    "tf.config.list_physical_devices('GPU')"
   ]
  },
  {
   "cell_type": "code",
   "execution_count": 5,
   "metadata": {},
   "outputs": [],
   "source": [
    "dataset_path = \"./data/final_project_dataset.csv\"\n",
    "df = pd.read_csv(dataset_path)"
   ]
  },
  {
   "cell_type": "code",
   "execution_count": 6,
   "metadata": {},
   "outputs": [],
   "source": [
    "processed_df = pd.read_csv('processed_data.csv', index_col=0)"
   ]
  },
  {
   "cell_type": "code",
   "execution_count": 7,
   "metadata": {},
   "outputs": [
    {
     "data": {
      "text/html": [
       "<div>\n",
       "<style scoped>\n",
       "    .dataframe tbody tr th:only-of-type {\n",
       "        vertical-align: middle;\n",
       "    }\n",
       "\n",
       "    .dataframe tbody tr th {\n",
       "        vertical-align: top;\n",
       "    }\n",
       "\n",
       "    .dataframe thead th {\n",
       "        text-align: right;\n",
       "    }\n",
       "</style>\n",
       "<table border=\"1\" class=\"dataframe\">\n",
       "  <thead>\n",
       "    <tr style=\"text-align: right;\">\n",
       "      <th></th>\n",
       "      <th>encounter_id</th>\n",
       "      <th>patient_nbr</th>\n",
       "      <th>bias</th>\n",
       "      <th>number_outpatient</th>\n",
       "      <th>number_inpatient</th>\n",
       "      <th>number_emergency</th>\n",
       "      <th>num_lab_procedures</th>\n",
       "      <th>number_diagnoses</th>\n",
       "      <th>num_medications</th>\n",
       "      <th>num_procedures</th>\n",
       "      <th>time_in_hospital</th>\n",
       "      <th>race</th>\n",
       "      <th>gender</th>\n",
       "      <th>age</th>\n",
       "      <th>max_glu_serum</th>\n",
       "      <th>A1Cresult</th>\n",
       "      <th>change</th>\n",
       "      <th>readmitted</th>\n",
       "      <th>acarbose</th>\n",
       "      <th>glimepiride</th>\n",
       "      <th>glipizide</th>\n",
       "      <th>glipizide_and_metformin_hcl</th>\n",
       "      <th>glipizide_and_metformin_hydrochloride</th>\n",
       "      <th>glyburide</th>\n",
       "      <th>glyburide_and_metformin_hydrochloride</th>\n",
       "      <th>glyburide-metformin_hydrochloride</th>\n",
       "      <th>human_insulin</th>\n",
       "      <th>insulin_human</th>\n",
       "      <th>metformin_hcl</th>\n",
       "      <th>metformin_hydrochloride</th>\n",
       "      <th>miglitol</th>\n",
       "      <th>nateglinide</th>\n",
       "      <th>none</th>\n",
       "      <th>pioglitazole_and_metformin_hydrochloride</th>\n",
       "      <th>pioglitazone</th>\n",
       "      <th>pioglitazone_hydrochloride_and_glimepiride</th>\n",
       "      <th>repaglinide</th>\n",
       "      <th>rosiglitazone_maleate</th>\n",
       "      <th>tolazamide</th>\n",
       "      <th>tolbutamide</th>\n",
       "    </tr>\n",
       "  </thead>\n",
       "  <tbody>\n",
       "    <tr>\n",
       "      <th>0</th>\n",
       "      <td>12522</td>\n",
       "      <td>48330783</td>\n",
       "      <td>1.0</td>\n",
       "      <td>-0.262004</td>\n",
       "      <td>-0.294524</td>\n",
       "      <td>-0.203346</td>\n",
       "      <td>1.249212</td>\n",
       "      <td>0.378159</td>\n",
       "      <td>1.479343</td>\n",
       "      <td>0.323563</td>\n",
       "      <td>13.0</td>\n",
       "      <td>Caucasian</td>\n",
       "      <td>Female</td>\n",
       "      <td>[80-90)</td>\n",
       "      <td>None</td>\n",
       "      <td>None</td>\n",
       "      <td>Ch</td>\n",
       "      <td>NO</td>\n",
       "      <td>0</td>\n",
       "      <td>0</td>\n",
       "      <td>1</td>\n",
       "      <td>0</td>\n",
       "      <td>0</td>\n",
       "      <td>0</td>\n",
       "      <td>0</td>\n",
       "      <td>0</td>\n",
       "      <td>0</td>\n",
       "      <td>1</td>\n",
       "      <td>0</td>\n",
       "      <td>0</td>\n",
       "      <td>0</td>\n",
       "      <td>0</td>\n",
       "      <td>0</td>\n",
       "      <td>0</td>\n",
       "      <td>0</td>\n",
       "      <td>0</td>\n",
       "      <td>0</td>\n",
       "      <td>0</td>\n",
       "      <td>0</td>\n",
       "      <td>0</td>\n",
       "    </tr>\n",
       "    <tr>\n",
       "      <th>1</th>\n",
       "      <td>15738</td>\n",
       "      <td>63555939</td>\n",
       "      <td>1.0</td>\n",
       "      <td>-0.262004</td>\n",
       "      <td>-0.294524</td>\n",
       "      <td>-0.203346</td>\n",
       "      <td>-0.504981</td>\n",
       "      <td>0.378159</td>\n",
       "      <td>0.276134</td>\n",
       "      <td>0.891793</td>\n",
       "      <td>12.0</td>\n",
       "      <td>Caucasian</td>\n",
       "      <td>Female</td>\n",
       "      <td>[90-100)</td>\n",
       "      <td>None</td>\n",
       "      <td>None</td>\n",
       "      <td>Ch</td>\n",
       "      <td>NO</td>\n",
       "      <td>0</td>\n",
       "      <td>0</td>\n",
       "      <td>0</td>\n",
       "      <td>0</td>\n",
       "      <td>0</td>\n",
       "      <td>0</td>\n",
       "      <td>0</td>\n",
       "      <td>0</td>\n",
       "      <td>1</td>\n",
       "      <td>0</td>\n",
       "      <td>0</td>\n",
       "      <td>0</td>\n",
       "      <td>0</td>\n",
       "      <td>0</td>\n",
       "      <td>0</td>\n",
       "      <td>0</td>\n",
       "      <td>0</td>\n",
       "      <td>0</td>\n",
       "      <td>0</td>\n",
       "      <td>1</td>\n",
       "      <td>0</td>\n",
       "      <td>0</td>\n",
       "    </tr>\n",
       "    <tr>\n",
       "      <th>2</th>\n",
       "      <td>16680</td>\n",
       "      <td>42519267</td>\n",
       "      <td>1.0</td>\n",
       "      <td>-0.262004</td>\n",
       "      <td>-0.294524</td>\n",
       "      <td>-0.203346</td>\n",
       "      <td>0.397175</td>\n",
       "      <td>-1.125856</td>\n",
       "      <td>-0.927076</td>\n",
       "      <td>-0.812896</td>\n",
       "      <td>1.0</td>\n",
       "      <td>Caucasian</td>\n",
       "      <td>Male</td>\n",
       "      <td>[40-50)</td>\n",
       "      <td>None</td>\n",
       "      <td>None</td>\n",
       "      <td>Ch</td>\n",
       "      <td>NO</td>\n",
       "      <td>0</td>\n",
       "      <td>0</td>\n",
       "      <td>1</td>\n",
       "      <td>0</td>\n",
       "      <td>0</td>\n",
       "      <td>0</td>\n",
       "      <td>0</td>\n",
       "      <td>0</td>\n",
       "      <td>1</td>\n",
       "      <td>0</td>\n",
       "      <td>0</td>\n",
       "      <td>0</td>\n",
       "      <td>0</td>\n",
       "      <td>0</td>\n",
       "      <td>0</td>\n",
       "      <td>0</td>\n",
       "      <td>0</td>\n",
       "      <td>0</td>\n",
       "      <td>0</td>\n",
       "      <td>0</td>\n",
       "      <td>0</td>\n",
       "      <td>0</td>\n",
       "    </tr>\n",
       "  </tbody>\n",
       "</table>\n",
       "</div>"
      ],
      "text/plain": [
       "   encounter_id  patient_nbr  bias  number_outpatient  number_inpatient  \\\n",
       "0         12522     48330783   1.0          -0.262004         -0.294524   \n",
       "1         15738     63555939   1.0          -0.262004         -0.294524   \n",
       "2         16680     42519267   1.0          -0.262004         -0.294524   \n",
       "\n",
       "   number_emergency  num_lab_procedures  number_diagnoses  num_medications  \\\n",
       "0         -0.203346            1.249212          0.378159         1.479343   \n",
       "1         -0.203346           -0.504981          0.378159         0.276134   \n",
       "2         -0.203346            0.397175         -1.125856        -0.927076   \n",
       "\n",
       "   num_procedures  time_in_hospital       race  gender       age  \\\n",
       "0        0.323563              13.0  Caucasian  Female   [80-90)   \n",
       "1        0.891793              12.0  Caucasian  Female  [90-100)   \n",
       "2       -0.812896               1.0  Caucasian    Male   [40-50)   \n",
       "\n",
       "  max_glu_serum A1Cresult change readmitted  acarbose  glimepiride  glipizide  \\\n",
       "0          None      None     Ch         NO         0            0          1   \n",
       "1          None      None     Ch         NO         0            0          0   \n",
       "2          None      None     Ch         NO         0            0          1   \n",
       "\n",
       "   glipizide_and_metformin_hcl  glipizide_and_metformin_hydrochloride  \\\n",
       "0                            0                                      0   \n",
       "1                            0                                      0   \n",
       "2                            0                                      0   \n",
       "\n",
       "   glyburide  glyburide_and_metformin_hydrochloride  \\\n",
       "0          0                                      0   \n",
       "1          0                                      0   \n",
       "2          0                                      0   \n",
       "\n",
       "   glyburide-metformin_hydrochloride  human_insulin  insulin_human  \\\n",
       "0                                  0              0              1   \n",
       "1                                  0              1              0   \n",
       "2                                  0              1              0   \n",
       "\n",
       "   metformin_hcl  metformin_hydrochloride  miglitol  nateglinide  none  \\\n",
       "0              0                        0         0            0     0   \n",
       "1              0                        0         0            0     0   \n",
       "2              0                        0         0            0     0   \n",
       "\n",
       "   pioglitazole_and_metformin_hydrochloride  pioglitazone  \\\n",
       "0                                         0             0   \n",
       "1                                         0             0   \n",
       "2                                         0             0   \n",
       "\n",
       "   pioglitazone_hydrochloride_and_glimepiride  repaglinide  \\\n",
       "0                                           0            0   \n",
       "1                                           0            0   \n",
       "2                                           0            0   \n",
       "\n",
       "   rosiglitazone_maleate  tolazamide  tolbutamide  \n",
       "0                      0           0            0  \n",
       "1                      1           0            0  \n",
       "2                      0           0            0  "
      ]
     },
     "execution_count": 7,
     "metadata": {},
     "output_type": "execute_result"
    }
   ],
   "source": [
    "processed_df.head(3)"
   ]
  },
  {
   "cell_type": "code",
   "execution_count": 8,
   "metadata": {},
   "outputs": [],
   "source": [
    "numeric = [\n",
    "    'bias',\n",
    "    'number_outpatient', \n",
    "    'number_inpatient', \n",
    "    'number_emergency', \n",
    "    'num_lab_procedures',\n",
    "    'number_diagnoses',\n",
    "    'num_medications',\n",
    "    'num_procedures']\n",
    "\n",
    "categorical = [\n",
    "    'race',\n",
    "    'gender',\n",
    "    'age',\n",
    "    'max_glu_serum',\n",
    "    'A1Cresult',\n",
    "    'change',\n",
    "    'readmitted'\n",
    "]\n",
    "\n",
    "ids = [\n",
    "    'encounter_id',\n",
    "    'patient_nbr'\n",
    "]\n",
    "\n",
    "target = ['time_in_hospital']\n",
    "\n",
    "other = [\n",
    "    'admission_type_id',\n",
    "    'discharge_disposition_id',\n",
    "    'admission_source_id',\n",
    "    'other_diagnosis_codes',\n",
    "    'primary_diagnosis_code',\n",
    "    'ndc_code',\n",
    "    'medical_specialty',\n",
    "    'payer_code',\n",
    "    'weight',\n",
    "    'generic_drug_name',\n",
    "]\n",
    "\n",
    "allcols = numeric + categorical + ids + target + other"
   ]
  },
  {
   "cell_type": "code",
   "execution_count": 9,
   "metadata": {},
   "outputs": [
    {
     "data": {
      "text/plain": [
       "['acarbose',\n",
       " 'glimepiride',\n",
       " 'glipizide',\n",
       " 'glipizide_and_metformin_hcl',\n",
       " 'glipizide_and_metformin_hydrochloride',\n",
       " 'glyburide',\n",
       " 'glyburide_and_metformin_hydrochloride',\n",
       " 'glyburide-metformin_hydrochloride',\n",
       " 'human_insulin',\n",
       " 'insulin_human',\n",
       " 'metformin_hcl',\n",
       " 'metformin_hydrochloride',\n",
       " 'miglitol',\n",
       " 'nateglinide',\n",
       " 'none',\n",
       " 'pioglitazole_and_metformin_hydrochloride',\n",
       " 'pioglitazone',\n",
       " 'pioglitazone_hydrochloride_and_glimepiride',\n",
       " 'repaglinide',\n",
       " 'rosiglitazone_maleate',\n",
       " 'tolazamide',\n",
       " 'tolbutamide']"
      ]
     },
     "execution_count": 9,
     "metadata": {},
     "output_type": "execute_result"
    }
   ],
   "source": [
    "[c for c in processed_df.columns if c not in allcols]"
   ]
  },
  {
   "cell_type": "code",
   "execution_count": 10,
   "metadata": {},
   "outputs": [
    {
     "data": {
      "text/plain": [
       "40"
      ]
     },
     "execution_count": 10,
     "metadata": {},
     "output_type": "execute_result"
    }
   ],
   "source": [
    "len(processed_df.columns)"
   ]
  },
  {
   "cell_type": "code",
   "execution_count": 11,
   "metadata": {},
   "outputs": [
    {
     "name": "stdout",
     "output_type": "stream",
     "text": [
      "\n",
      "Numeric: 8\n",
      "Categorical: 7\n",
      "ID/Other: 13\n",
      "Total: 28\n",
      "\n"
     ]
    }
   ],
   "source": [
    "print(f\"\"\"\n",
    "Numeric: {len(numeric)}\n",
    "Categorical: {len(categorical)}\n",
    "ID/Other: {len(other) + len(ids) + len(target)}\n",
    "Total: {len(numeric) + len(categorical) + len(other) + len(ids) + len(target)}\n",
    "\"\"\")"
   ]
  },
  {
   "cell_type": "code",
   "execution_count": 12,
   "metadata": {},
   "outputs": [],
   "source": [
    "'''\n",
    "Please update the list to include the features you think are appropriate for the model \n",
    "and the field that we will be using to train the model. There are three required demographic features for the model \n",
    "and I have inserted a list with them already in the categorical list. \n",
    "These will be required for later steps when analyzing data splits and model biases.\n",
    "'''\n",
    "required_demo_col_list = ['race', 'gender', 'age']\n",
    "student_categorical_col_list = [c for c in df.columns if c not in ids + numeric + target + other]\n",
    "student_numerical_col_list = numeric\n",
    "PREDICTOR_FIELD = 'time_in_hospital'"
   ]
  },
  {
   "cell_type": "markdown",
   "metadata": {},
   "source": [
    "## Split Dataset into Train, Validation, and Test Partitions"
   ]
  },
  {
   "cell_type": "markdown",
   "metadata": {},
   "source": [
    "**Question 6**: In order to prepare the data for being trained and evaluated by a deep learning model, we will split the dataset into three partitions, with the validation partition used for optimizing the model hyperparameters during training. One of the key parts is that we need to be sure that the data does not accidently leak across partitions.\n",
    "\n",
    "Please complete the function below to split the input dataset into three partitions(train, validation, test) with the following requirements.\n",
    "- Approximately 60%/20%/20%  train/validation/test split\n",
    "- Randomly sample different patients into each data partition\n",
    "- **IMPORTANT** Make sure that a patient's data is not in more than one partition, so that we can avoid possible data leakage.\n",
    "- Make sure that the total number of unique patients across the splits is equal to the total number of unique patients in the original dataset\n",
    "- Total number of rows in original dataset = sum of rows across all three dataset partitions"
   ]
  },
  {
   "cell_type": "code",
   "execution_count": 13,
   "metadata": {},
   "outputs": [],
   "source": [
    "processed_df = pd.read_csv('processed_data.csv', index_col=0)"
   ]
  },
  {
   "cell_type": "code",
   "execution_count": 14,
   "metadata": {},
   "outputs": [
    {
     "data": {
      "text/html": [
       "<div>\n",
       "<style scoped>\n",
       "    .dataframe tbody tr th:only-of-type {\n",
       "        vertical-align: middle;\n",
       "    }\n",
       "\n",
       "    .dataframe tbody tr th {\n",
       "        vertical-align: top;\n",
       "    }\n",
       "\n",
       "    .dataframe thead th {\n",
       "        text-align: right;\n",
       "    }\n",
       "</style>\n",
       "<table border=\"1\" class=\"dataframe\">\n",
       "  <thead>\n",
       "    <tr style=\"text-align: right;\">\n",
       "      <th></th>\n",
       "      <th>encounter_id</th>\n",
       "      <th>patient_nbr</th>\n",
       "      <th>bias</th>\n",
       "      <th>number_outpatient</th>\n",
       "      <th>number_inpatient</th>\n",
       "      <th>number_emergency</th>\n",
       "      <th>num_lab_procedures</th>\n",
       "      <th>number_diagnoses</th>\n",
       "      <th>num_medications</th>\n",
       "      <th>num_procedures</th>\n",
       "      <th>time_in_hospital</th>\n",
       "      <th>race</th>\n",
       "      <th>gender</th>\n",
       "      <th>age</th>\n",
       "      <th>max_glu_serum</th>\n",
       "      <th>A1Cresult</th>\n",
       "      <th>change</th>\n",
       "      <th>readmitted</th>\n",
       "      <th>acarbose</th>\n",
       "      <th>glimepiride</th>\n",
       "      <th>glipizide</th>\n",
       "      <th>glipizide_and_metformin_hcl</th>\n",
       "      <th>glipizide_and_metformin_hydrochloride</th>\n",
       "      <th>glyburide</th>\n",
       "      <th>glyburide_and_metformin_hydrochloride</th>\n",
       "      <th>glyburide-metformin_hydrochloride</th>\n",
       "      <th>human_insulin</th>\n",
       "      <th>insulin_human</th>\n",
       "      <th>metformin_hcl</th>\n",
       "      <th>metformin_hydrochloride</th>\n",
       "      <th>miglitol</th>\n",
       "      <th>nateglinide</th>\n",
       "      <th>none</th>\n",
       "      <th>pioglitazole_and_metformin_hydrochloride</th>\n",
       "      <th>pioglitazone</th>\n",
       "      <th>pioglitazone_hydrochloride_and_glimepiride</th>\n",
       "      <th>repaglinide</th>\n",
       "      <th>rosiglitazone_maleate</th>\n",
       "      <th>tolazamide</th>\n",
       "      <th>tolbutamide</th>\n",
       "    </tr>\n",
       "  </thead>\n",
       "  <tbody>\n",
       "    <tr>\n",
       "      <th>0</th>\n",
       "      <td>12522</td>\n",
       "      <td>48330783</td>\n",
       "      <td>1.0</td>\n",
       "      <td>-0.262004</td>\n",
       "      <td>-0.294524</td>\n",
       "      <td>-0.203346</td>\n",
       "      <td>1.249212</td>\n",
       "      <td>0.378159</td>\n",
       "      <td>1.479343</td>\n",
       "      <td>0.323563</td>\n",
       "      <td>13.0</td>\n",
       "      <td>Caucasian</td>\n",
       "      <td>Female</td>\n",
       "      <td>[80-90)</td>\n",
       "      <td>None</td>\n",
       "      <td>None</td>\n",
       "      <td>Ch</td>\n",
       "      <td>NO</td>\n",
       "      <td>0</td>\n",
       "      <td>0</td>\n",
       "      <td>1</td>\n",
       "      <td>0</td>\n",
       "      <td>0</td>\n",
       "      <td>0</td>\n",
       "      <td>0</td>\n",
       "      <td>0</td>\n",
       "      <td>0</td>\n",
       "      <td>1</td>\n",
       "      <td>0</td>\n",
       "      <td>0</td>\n",
       "      <td>0</td>\n",
       "      <td>0</td>\n",
       "      <td>0</td>\n",
       "      <td>0</td>\n",
       "      <td>0</td>\n",
       "      <td>0</td>\n",
       "      <td>0</td>\n",
       "      <td>0</td>\n",
       "      <td>0</td>\n",
       "      <td>0</td>\n",
       "    </tr>\n",
       "    <tr>\n",
       "      <th>1</th>\n",
       "      <td>15738</td>\n",
       "      <td>63555939</td>\n",
       "      <td>1.0</td>\n",
       "      <td>-0.262004</td>\n",
       "      <td>-0.294524</td>\n",
       "      <td>-0.203346</td>\n",
       "      <td>-0.504981</td>\n",
       "      <td>0.378159</td>\n",
       "      <td>0.276134</td>\n",
       "      <td>0.891793</td>\n",
       "      <td>12.0</td>\n",
       "      <td>Caucasian</td>\n",
       "      <td>Female</td>\n",
       "      <td>[90-100)</td>\n",
       "      <td>None</td>\n",
       "      <td>None</td>\n",
       "      <td>Ch</td>\n",
       "      <td>NO</td>\n",
       "      <td>0</td>\n",
       "      <td>0</td>\n",
       "      <td>0</td>\n",
       "      <td>0</td>\n",
       "      <td>0</td>\n",
       "      <td>0</td>\n",
       "      <td>0</td>\n",
       "      <td>0</td>\n",
       "      <td>1</td>\n",
       "      <td>0</td>\n",
       "      <td>0</td>\n",
       "      <td>0</td>\n",
       "      <td>0</td>\n",
       "      <td>0</td>\n",
       "      <td>0</td>\n",
       "      <td>0</td>\n",
       "      <td>0</td>\n",
       "      <td>0</td>\n",
       "      <td>0</td>\n",
       "      <td>1</td>\n",
       "      <td>0</td>\n",
       "      <td>0</td>\n",
       "    </tr>\n",
       "    <tr>\n",
       "      <th>2</th>\n",
       "      <td>16680</td>\n",
       "      <td>42519267</td>\n",
       "      <td>1.0</td>\n",
       "      <td>-0.262004</td>\n",
       "      <td>-0.294524</td>\n",
       "      <td>-0.203346</td>\n",
       "      <td>0.397175</td>\n",
       "      <td>-1.125856</td>\n",
       "      <td>-0.927076</td>\n",
       "      <td>-0.812896</td>\n",
       "      <td>1.0</td>\n",
       "      <td>Caucasian</td>\n",
       "      <td>Male</td>\n",
       "      <td>[40-50)</td>\n",
       "      <td>None</td>\n",
       "      <td>None</td>\n",
       "      <td>Ch</td>\n",
       "      <td>NO</td>\n",
       "      <td>0</td>\n",
       "      <td>0</td>\n",
       "      <td>1</td>\n",
       "      <td>0</td>\n",
       "      <td>0</td>\n",
       "      <td>0</td>\n",
       "      <td>0</td>\n",
       "      <td>0</td>\n",
       "      <td>1</td>\n",
       "      <td>0</td>\n",
       "      <td>0</td>\n",
       "      <td>0</td>\n",
       "      <td>0</td>\n",
       "      <td>0</td>\n",
       "      <td>0</td>\n",
       "      <td>0</td>\n",
       "      <td>0</td>\n",
       "      <td>0</td>\n",
       "      <td>0</td>\n",
       "      <td>0</td>\n",
       "      <td>0</td>\n",
       "      <td>0</td>\n",
       "    </tr>\n",
       "  </tbody>\n",
       "</table>\n",
       "</div>"
      ],
      "text/plain": [
       "   encounter_id  patient_nbr  bias  number_outpatient  number_inpatient  \\\n",
       "0         12522     48330783   1.0          -0.262004         -0.294524   \n",
       "1         15738     63555939   1.0          -0.262004         -0.294524   \n",
       "2         16680     42519267   1.0          -0.262004         -0.294524   \n",
       "\n",
       "   number_emergency  num_lab_procedures  number_diagnoses  num_medications  \\\n",
       "0         -0.203346            1.249212          0.378159         1.479343   \n",
       "1         -0.203346           -0.504981          0.378159         0.276134   \n",
       "2         -0.203346            0.397175         -1.125856        -0.927076   \n",
       "\n",
       "   num_procedures  time_in_hospital       race  gender       age  \\\n",
       "0        0.323563              13.0  Caucasian  Female   [80-90)   \n",
       "1        0.891793              12.0  Caucasian  Female  [90-100)   \n",
       "2       -0.812896               1.0  Caucasian    Male   [40-50)   \n",
       "\n",
       "  max_glu_serum A1Cresult change readmitted  acarbose  glimepiride  glipizide  \\\n",
       "0          None      None     Ch         NO         0            0          1   \n",
       "1          None      None     Ch         NO         0            0          0   \n",
       "2          None      None     Ch         NO         0            0          1   \n",
       "\n",
       "   glipizide_and_metformin_hcl  glipizide_and_metformin_hydrochloride  \\\n",
       "0                            0                                      0   \n",
       "1                            0                                      0   \n",
       "2                            0                                      0   \n",
       "\n",
       "   glyburide  glyburide_and_metformin_hydrochloride  \\\n",
       "0          0                                      0   \n",
       "1          0                                      0   \n",
       "2          0                                      0   \n",
       "\n",
       "   glyburide-metformin_hydrochloride  human_insulin  insulin_human  \\\n",
       "0                                  0              0              1   \n",
       "1                                  0              1              0   \n",
       "2                                  0              1              0   \n",
       "\n",
       "   metformin_hcl  metformin_hydrochloride  miglitol  nateglinide  none  \\\n",
       "0              0                        0         0            0     0   \n",
       "1              0                        0         0            0     0   \n",
       "2              0                        0         0            0     0   \n",
       "\n",
       "   pioglitazole_and_metformin_hydrochloride  pioglitazone  \\\n",
       "0                                         0             0   \n",
       "1                                         0             0   \n",
       "2                                         0             0   \n",
       "\n",
       "   pioglitazone_hydrochloride_and_glimepiride  repaglinide  \\\n",
       "0                                           0            0   \n",
       "1                                           0            0   \n",
       "2                                           0            0   \n",
       "\n",
       "   rosiglitazone_maleate  tolazamide  tolbutamide  \n",
       "0                      0           0            0  \n",
       "1                      1           0            0  \n",
       "2                      0           0            0  "
      ]
     },
     "execution_count": 14,
     "metadata": {},
     "output_type": "execute_result"
    }
   ],
   "source": [
    "processed_df.head(3)"
   ]
  },
  {
   "cell_type": "code",
   "execution_count": 15,
   "metadata": {},
   "outputs": [],
   "source": [
    "from student_utils import patient_dataset_splitter\n",
    "d_train, d_val, d_test = patient_dataset_splitter(processed_df, 'patient_nbr')"
   ]
  },
  {
   "cell_type": "code",
   "execution_count": 16,
   "metadata": {},
   "outputs": [
    {
     "name": "stdout",
     "output_type": "stream",
     "text": [
      "Test passed for number of total rows equal!\n"
     ]
    }
   ],
   "source": [
    "assert len(d_train) + len(d_val) + len(d_test) == len(processed_df)\n",
    "print(\"Test passed for number of total rows equal!\")"
   ]
  },
  {
   "cell_type": "code",
   "execution_count": 17,
   "metadata": {},
   "outputs": [
    {
     "name": "stdout",
     "output_type": "stream",
     "text": [
      "Test passed for number of unique patients being equal!\n"
     ]
    }
   ],
   "source": [
    "assert (d_train['patient_nbr'].nunique() + d_val['patient_nbr'].nunique() + d_test['patient_nbr'].nunique()) == processed_df['patient_nbr'].nunique()\n",
    "print(\"Test passed for number of unique patients being equal!\")"
   ]
  },
  {
   "cell_type": "markdown",
   "metadata": {},
   "source": [
    "## Lost EDA"
   ]
  },
  {
   "cell_type": "markdown",
   "metadata": {},
   "source": [
    "## Demographic Representation Analysis of Split"
   ]
  },
  {
   "cell_type": "markdown",
   "metadata": {},
   "source": [
    "After the split, we should check to see the distribution of key features/groups and make sure that there is representative samples across the partitions. The show_group_stats_viz function in the utils.py file can be used to group and visualize different groups and dataframe partitions."
   ]
  },
  {
   "cell_type": "markdown",
   "metadata": {},
   "source": [
    "### Label Distribution Across Partitions"
   ]
  },
  {
   "cell_type": "markdown",
   "metadata": {},
   "source": [
    "Below you can see the distributution of the label across your splits. Are the histogram distribution shapes similar across partitions?"
   ]
  },
  {
   "cell_type": "code",
   "execution_count": 18,
   "metadata": {},
   "outputs": [],
   "source": [
    "splits = [processed_df, d_train, d_val, d_test]\n",
    "snames = ['Full', 'Train', 'Validation', 'Test']"
   ]
  },
  {
   "cell_type": "code",
   "execution_count": 19,
   "metadata": {},
   "outputs": [
    {
     "data": {
      "image/png": "[encoded data removed]",
      "text/plain": [
       "<Figure size 864x864 with 4 Axes>"
      ]
     },
     "metadata": {
      "needs_background": "light"
     },
     "output_type": "display_data"
    }
   ],
   "source": [
    "plt.figure(figsize=(12,12))\n",
    "for i in range(len(splits)):\n",
    "    plt.subplot(2, 2, i+1)\n",
    "    plt.title(snames[i])\n",
    "    y = splits[i].groupby(PREDICTOR_FIELD).size()\n",
    "    sns.barplot(sorted(processed_df[PREDICTOR_FIELD].unique()), y)"
   ]
  },
  {
   "cell_type": "markdown",
   "metadata": {},
   "source": [
    "## Demographic Group Analysis"
   ]
  },
  {
   "cell_type": "markdown",
   "metadata": {},
   "source": [
    "We should check that our partitions/splits of the dataset are similar in terms of their demographic profiles. Below you can see how we might visualize and analyze the full dataset vs. the partitions."
   ]
  },
  {
   "cell_type": "code",
   "execution_count": 20,
   "metadata": {},
   "outputs": [
    {
     "data": {
      "image/png": "[encoded data removed]",
      "text/plain": [
       "<Figure size 864x864 with 4 Axes>"
      ]
     },
     "metadata": {
      "needs_background": "light"
     },
     "output_type": "display_data"
    }
   ],
   "source": [
    "plt.figure(figsize=(12,12))\n",
    "for i in range(len(splits)):\n",
    "    plt.subplot(2, 2, i+1)\n",
    "    plt.title(snames[i])\n",
    "    sns.barplot(sorted(processed_df.gender.unique()), processed_df.groupby('gender').size())"
   ]
  },
  {
   "cell_type": "code",
   "execution_count": 21,
   "metadata": {},
   "outputs": [
    {
     "data": {
      "image/png": "[encoded data removed]",
      "text/plain": [
       "<Figure size 864x864 with 4 Axes>"
      ]
     },
     "metadata": {
      "needs_background": "light"
     },
     "output_type": "display_data"
    }
   ],
   "source": [
    "plt.figure(figsize=(12,12))\n",
    "for i in range(len(splits)):\n",
    "    plt.subplot(2, 2, i+1)\n",
    "    plt.title(snames[i])\n",
    "    plt.xticks(rotation=30)\n",
    "    sns.barplot(sorted(processed_df.race.unique()), processed_df.groupby('race').size())"
   ]
  },
  {
   "cell_type": "markdown",
   "metadata": {},
   "source": [
    "## Convert Dataset Splits to TF Dataset"
   ]
  },
  {
   "cell_type": "markdown",
   "metadata": {},
   "source": [
    "We have provided you the function to convert the Pandas dataframe to TF tensors using the TF Dataset API. \n",
    "Please note that this is not a scalable method and for larger datasets, the 'make_csv_dataset' method is recommended -https://www.tensorflow.org/api_docs/python/tf/data/experimental/make_csv_dataset."
   ]
  },
  {
   "cell_type": "markdown",
   "metadata": {},
   "source": [
    "We need to drop the UID columns at this point and retain only our data columns. _(I suspect that the TF input layer actually removes the need for this but better safe than sorry)_"
   ]
  },
  {
   "cell_type": "code",
   "execution_count": 22,
   "metadata": {},
   "outputs": [
    {
     "data": {
      "text/plain": [
       "Index(['bias', 'number_outpatient', 'number_inpatient', 'number_emergency',\n",
       "       'num_lab_procedures', 'number_diagnoses', 'num_medications',\n",
       "       'num_procedures', 'time_in_hospital', 'race', 'gender', 'age',\n",
       "       'max_glu_serum', 'A1Cresult', 'change', 'readmitted', 'acarbose',\n",
       "       'glimepiride', 'glipizide', 'glipizide_and_metformin_hcl',\n",
       "       'glipizide_and_metformin_hydrochloride', 'glyburide',\n",
       "       'glyburide_and_metformin_hydrochloride',\n",
       "       'glyburide-metformin_hydrochloride', 'human_insulin', 'insulin_human',\n",
       "       'metformin_hcl', 'metformin_hydrochloride', 'miglitol', 'nateglinide',\n",
       "       'none', 'pioglitazole_and_metformin_hydrochloride', 'pioglitazone',\n",
       "       'pioglitazone_hydrochloride_and_glimepiride', 'repaglinide',\n",
       "       'rosiglitazone_maleate', 'tolazamide', 'tolbutamide'],\n",
       "      dtype='object')"
      ]
     },
     "execution_count": 22,
     "metadata": {},
     "output_type": "execute_result"
    }
   ],
   "source": [
    "dcols = d_train.columns[2:]\n",
    "dcols"
   ]
  },
  {
   "cell_type": "code",
   "execution_count": 23,
   "metadata": {},
   "outputs": [],
   "source": [
    "# A utility method to create a tf.data dataset from a Pandas Dataframe\n",
    "def df_to_dataset(dataframe, target, shuffle=True, batch_size=32):\n",
    "  dataframe = dataframe.copy()\n",
    "  labels = dataframe.pop(target)\n",
    "  ds = tf.data.Dataset.from_tensor_slices((dict(dataframe), labels))\n",
    "  if shuffle:\n",
    "    ds = ds.shuffle(buffer_size=len(dataframe))\n",
    "  ds = ds.batch(batch_size)\n",
    "  return ds\n"
   ]
  },
  {
   "cell_type": "code",
   "execution_count": 24,
   "metadata": {},
   "outputs": [],
   "source": [
    "BATCH_SIZE = 32\n",
    "\n",
    "diabetes_train_ds = df_to_dataset(d_train[dcols], PREDICTOR_FIELD, shuffle=True, batch_size=BATCH_SIZE)\n",
    "diabetes_val_ds = df_to_dataset(d_val[dcols], PREDICTOR_FIELD, shuffle=False, batch_size=BATCH_SIZE)\n",
    "diabetes_test_ds = df_to_dataset(d_test[dcols], PREDICTOR_FIELD, shuffle=False, batch_size=BATCH_SIZE)"
   ]
  },
  {
   "cell_type": "markdown",
   "metadata": {},
   "source": [
    "# 4. Create Categorical Features with TF Feature Columns"
   ]
  },
  {
   "cell_type": "markdown",
   "metadata": {},
   "source": [
    "## Build Vocabulary for Categorical Features"
   ]
  },
  {
   "cell_type": "markdown",
   "metadata": {},
   "source": [
    "Before we can create the TF categorical features, we must first create the vocab files with the unique values for a given field that are from the **training** dataset. Below we have provided a function that you can use that only requires providing the pandas train dataset partition and the list of the categorical columns in a list format. The output variable 'vocab_file_list' will be a list of the file paths that can be used in the next step for creating the categorical features."
   ]
  },
  {
   "cell_type": "markdown",
   "metadata": {},
   "source": [
    "_Note: Switched to non-filepath method but completed the function in the code file_"
   ]
  },
  {
   "cell_type": "markdown",
   "metadata": {},
   "source": [
    "## Create Categorical Features with Tensorflow Feature Column API"
   ]
  },
  {
   "cell_type": "markdown",
   "metadata": {},
   "source": [
    "**Question 7**: Using the vocab file list from above that was derived fromt the features you selected earlier, please create categorical features with the Tensorflow Feature Column API, https://www.tensorflow.org/api_docs/python/tf/feature_column. Below is a function to help guide you."
   ]
  },
  {
   "cell_type": "code",
   "execution_count": 25,
   "metadata": {},
   "outputs": [],
   "source": [
    "features = []\n",
    "\n",
    "for c in numeric:\n",
    "    features.append(feature_column.numeric_column(c))\n",
    "\n",
    "for c in categorical:\n",
    "    vocab = processed_df[c].unique()\n",
    "    ft = feature_column.categorical_column_with_vocabulary_list(c, vocab)\n",
    "    features.append(feature_column.indicator_column(ft))"
   ]
  },
  {
   "cell_type": "code",
   "execution_count": 26,
   "metadata": {},
   "outputs": [
    {
     "data": {
      "text/plain": [
       "[NumericColumn(key='bias', shape=(1,), default_value=None, dtype=tf.float32, normalizer_fn=None),\n",
       " NumericColumn(key='number_outpatient', shape=(1,), default_value=None, dtype=tf.float32, normalizer_fn=None),\n",
       " NumericColumn(key='number_inpatient', shape=(1,), default_value=None, dtype=tf.float32, normalizer_fn=None),\n",
       " NumericColumn(key='number_emergency', shape=(1,), default_value=None, dtype=tf.float32, normalizer_fn=None),\n",
       " NumericColumn(key='num_lab_procedures', shape=(1,), default_value=None, dtype=tf.float32, normalizer_fn=None),\n",
       " NumericColumn(key='number_diagnoses', shape=(1,), default_value=None, dtype=tf.float32, normalizer_fn=None),\n",
       " NumericColumn(key='num_medications', shape=(1,), default_value=None, dtype=tf.float32, normalizer_fn=None),\n",
       " NumericColumn(key='num_procedures', shape=(1,), default_value=None, dtype=tf.float32, normalizer_fn=None),\n",
       " IndicatorColumn(categorical_column=VocabularyListCategoricalColumn(key='race', vocabulary_list=('Caucasian', 'AfricanAmerican', '?', 'Other', 'Asian', 'Hispanic'), dtype=tf.string, default_value=-1, num_oov_buckets=0)),\n",
       " IndicatorColumn(categorical_column=VocabularyListCategoricalColumn(key='gender', vocabulary_list=('Female', 'Male', 'Unknown/Invalid'), dtype=tf.string, default_value=-1, num_oov_buckets=0)),\n",
       " IndicatorColumn(categorical_column=VocabularyListCategoricalColumn(key='age', vocabulary_list=('[80-90)', '[90-100)', '[40-50)', '[50-60)', '[60-70)', '[70-80)', '[20-30)', '[10-20)', '[30-40)', '[0-10)'), dtype=tf.string, default_value=-1, num_oov_buckets=0)),\n",
       " IndicatorColumn(categorical_column=VocabularyListCategoricalColumn(key='max_glu_serum', vocabulary_list=('None', '>300', 'Norm', '>200'), dtype=tf.string, default_value=-1, num_oov_buckets=0)),\n",
       " IndicatorColumn(categorical_column=VocabularyListCategoricalColumn(key='A1Cresult', vocabulary_list=('None', '>7', '>8', 'Norm'), dtype=tf.string, default_value=-1, num_oov_buckets=0)),\n",
       " IndicatorColumn(categorical_column=VocabularyListCategoricalColumn(key='change', vocabulary_list=('Ch', 'No'), dtype=tf.string, default_value=-1, num_oov_buckets=0)),\n",
       " IndicatorColumn(categorical_column=VocabularyListCategoricalColumn(key='readmitted', vocabulary_list=('NO', '>30', '<30'), dtype=tf.string, default_value=-1, num_oov_buckets=0))]"
      ]
     },
     "execution_count": 26,
     "metadata": {},
     "output_type": "execute_result"
    }
   ],
   "source": [
    "features"
   ]
  },
  {
   "cell_type": "markdown",
   "metadata": {},
   "source": [
    "# 5. Create Numerical Features with TF Feature Columns"
   ]
  },
  {
   "cell_type": "markdown",
   "metadata": {},
   "source": [
    "**Question 8**: Using the TF Feature Column API(https://www.tensorflow.org/api_docs/python/tf/feature_column/), please create normalized Tensorflow numeric features for the model. Try to use the z-score normalizer function below to help as well as the 'calculate_stats_from_train_data' function."
   ]
  },
  {
   "cell_type": "markdown",
   "metadata": {},
   "source": [
    "# 6. Build Deep Learning Regression Model with Sequential API and TF Probability Layers"
   ]
  },
  {
   "cell_type": "markdown",
   "metadata": {},
   "source": [
    "## Use DenseFeatures to combine features for model"
   ]
  },
  {
   "cell_type": "markdown",
   "metadata": {},
   "source": [
    "Now that we have prepared categorical and numerical features using Tensorflow's Feature Column API, we can combine them into a dense vector representation for the model. Below we will create this new input layer, which we will call 'claim_feature_layer'."
   ]
  },
  {
   "cell_type": "code",
   "execution_count": 27,
   "metadata": {},
   "outputs": [],
   "source": [
    "input_layer = tf.keras.layers.DenseFeatures(features)"
   ]
  },
  {
   "cell_type": "markdown",
   "metadata": {},
   "source": [
    "## Build Sequential API Model from DenseFeatures and TF Probability Layers"
   ]
  },
  {
   "cell_type": "markdown",
   "metadata": {},
   "source": [
    "Below we have provided some boilerplate code for building a model that connects the Sequential API, DenseFeatures, and Tensorflow Probability layers into a deep learning model. There are many opportunities to further optimize and explore different architectures through benchmarking and testing approaches in various research papers, loss and evaluation metrics, learning curves, hyperparameter tuning, TF probability layers, etc. Feel free to modify and explore as you wish."
   ]
  },
  {
   "cell_type": "markdown",
   "metadata": {},
   "source": [
    "**OPTIONAL**: Come up with a more optimal neural network architecture and hyperparameters. Share the process in discovering the architecture and hyperparameters."
   ]
  },
  {
   "cell_type": "markdown",
   "metadata": {},
   "source": [
    "**Network Architecture and Bias/Variance:** Given that, after reducing the number of dimensions, the dataset contains a smaller number of features (the majority of which are the generic drug dummy variables) I felt it was unlikely that the dataset would run into issues with overfitting if more layers were added. I added several dense layers bringing the total params up to ~200K, much more expressive than a simple regression (which would have ~40 params), but similarly far less than a very dense and very deep network which could have tens of millions of params to train. Experimentally this seemed to offer modest improvements over simpler architectures without overfitting.\n",
    "\n",
    "I also removed the `DenseVariational` layer for two reasons: 1) It will generate different results every time the priors are added to the layer after training which makes it difficult to debug, but primarily 2) it raised the overall loss metric significantly and changes in the learning rate/architecture were unable to overcome this. "
   ]
  },
  {
   "cell_type": "code",
   "execution_count": 28,
   "metadata": {},
   "outputs": [],
   "source": [
    "def build_sequential_model(feature_layer):\n",
    "    model = tf.keras.Sequential([\n",
    "        feature_layer,\n",
    "        tf.keras.layers.Dense(512, activation='relu'),\n",
    "        tf.keras.layers.Dense(256, activation='relu'),\n",
    "        tf.keras.layers.Dense(128, activation='relu'),\n",
    "        tf.keras.layers.Dense(64, activation='relu'),\n",
    "        tf.keras.layers.Dense(1 + 1),\n",
    "#         tfp.layers.DenseVariational(1+1, posterior_mean_field, prior_trainable),\n",
    "        tfp.layers.DistributionLambda(\n",
    "            lambda t:tfp.distributions.Normal(loc=t[..., :1],\n",
    "                                             scale=1e-3 + tf.math.softplus(0.01 * t[...,1:])\n",
    "                                             )\n",
    "        ),\n",
    "    ])\n",
    "    return model\n",
    "\n",
    "negloglik = lambda y, rv_y: -rv_y.log_prob(y)\n",
    "model = build_sequential_model(input_layer)\n",
    "modelpath = os.path.join('.', 'model', 'diabetes_model.skpt')\n",
    "optim = tf.keras.optimizers.Adam(learning_rate=1e-3)\n",
    "stop = tf.keras.callbacks.EarlyStopping(monitor='val_mse', patience=10, restore_best_weights=True)\n",
    "model.compile(optimizer=optim, loss=negloglik, metrics=['mse'])"
   ]
  },
  {
   "cell_type": "code",
   "execution_count": 71,
   "metadata": {},
   "outputs": [
    {
     "name": "stdout",
     "output_type": "stream",
     "text": [
      "Train for 1341 steps, validate for 447 steps\n",
      "Epoch 1/100\n",
      "1341/1341 [==============================] - 10s 8ms/step - loss: 2.9027 - mse: 11.8910 - val_loss: 2.3189 - val_mse: 13.6499\n",
      "Epoch 2/100\n",
      "1341/1341 [==============================] - 10s 7ms/step - loss: 2.2924 - mse: 12.2796 - val_loss: 2.3475 - val_mse: 12.8866\n",
      "Epoch 3/100\n",
      "1341/1341 [==============================] - 9s 6ms/step - loss: 2.2874 - mse: 12.1453 - val_loss: 2.2673 - val_mse: 11.3806\n",
      "Epoch 4/100\n",
      "1341/1341 [==============================] - 9s 7ms/step - loss: 2.2796 - mse: 12.1001 - val_loss: 2.3172 - val_mse: 13.8842\n",
      "Epoch 5/100\n",
      "1341/1341 [==============================] - 9s 6ms/step - loss: 2.2751 - mse: 12.1185 - val_loss: 2.2614 - val_mse: 11.4669\n",
      "Epoch 6/100\n",
      "1341/1341 [==============================] - 9s 7ms/step - loss: 2.2658 - mse: 11.9499 - val_loss: 2.2934 - val_mse: 12.3572\n",
      "Epoch 7/100\n",
      "1341/1341 [==============================] - 10s 7ms/step - loss: 2.2595 - mse: 11.7901 - val_loss: 2.2541 - val_mse: 11.4116\n",
      "Epoch 8/100\n",
      "1341/1341 [==============================] - 9s 7ms/step - loss: 2.2529 - mse: 11.7977 - val_loss: 2.2856 - val_mse: 12.1599\n",
      "Epoch 9/100\n",
      "1341/1341 [==============================] - 9s 7ms/step - loss: 2.2483 - mse: 11.8254 - val_loss: 2.2591 - val_mse: 11.8924\n",
      "Epoch 10/100\n",
      "1341/1341 [==============================] - 9s 7ms/step - loss: 2.2426 - mse: 11.7338 - val_loss: 2.2576 - val_mse: 11.5128\n",
      "Epoch 11/100\n",
      "1341/1341 [==============================] - 9s 7ms/step - loss: 2.2338 - mse: 11.7436 - val_loss: 2.2733 - val_mse: 10.9856\n",
      "Epoch 12/100\n",
      "1341/1341 [==============================] - 8s 6ms/step - loss: 2.2289 - mse: 11.6869 - val_loss: 2.2698 - val_mse: 12.0735\n",
      "Epoch 13/100\n",
      "1341/1341 [==============================] - 9s 6ms/step - loss: 2.2238 - mse: 11.4836 - val_loss: 2.2651 - val_mse: 11.3237\n",
      "Epoch 14/100\n",
      "1341/1341 [==============================] - 9s 6ms/step - loss: 2.2164 - mse: 11.4629 - val_loss: 2.2815 - val_mse: 12.6427\n",
      "Epoch 15/100\n",
      "1341/1341 [==============================] - 9s 7ms/step - loss: 2.2091 - mse: 11.4023 - val_loss: 2.2818 - val_mse: 11.7030\n",
      "Epoch 16/100\n",
      "1341/1341 [==============================] - 9s 6ms/step - loss: 2.2017 - mse: 11.3901 - val_loss: 2.2887 - val_mse: 12.4343\n",
      "Epoch 17/100\n",
      "1341/1341 [==============================] - 9s 6ms/step - loss: 2.1932 - mse: 11.2614 - val_loss: 2.2880 - val_mse: 11.4630\n",
      "Epoch 18/100\n",
      "1341/1341 [==============================] - 9s 6ms/step - loss: 2.1845 - mse: 11.1490 - val_loss: 2.2998 - val_mse: 11.8614\n",
      "Epoch 19/100\n",
      "1341/1341 [==============================] - 9s 7ms/step - loss: 2.1800 - mse: 11.2184 - val_loss: 2.3195 - val_mse: 11.4065\n",
      "Epoch 20/100\n",
      "1341/1341 [==============================] - 9s 7ms/step - loss: 2.1680 - mse: 11.1432 - val_loss: 2.3226 - val_mse: 10.7921\n",
      "Epoch 21/100\n",
      "1341/1341 [==============================] - 9s 6ms/step - loss: 2.1575 - mse: 11.0124 - val_loss: 2.3262 - val_mse: 11.6405\n",
      "Epoch 22/100\n",
      "1341/1341 [==============================] - 9s 7ms/step - loss: 2.1473 - mse: 10.7600 - val_loss: 2.3764 - val_mse: 11.1085\n",
      "Epoch 23/100\n",
      "1341/1341 [==============================] - 9s 7ms/step - loss: 2.1399 - mse: 10.9657 - val_loss: 2.3926 - val_mse: 11.3412\n",
      "Epoch 24/100\n",
      "1341/1341 [==============================] - 9s 7ms/step - loss: 2.1274 - mse: 10.8906 - val_loss: 2.4166 - val_mse: 10.9561\n",
      "Epoch 25/100\n",
      "1341/1341 [==============================] - 9s 7ms/step - loss: 2.1120 - mse: 10.5834 - val_loss: 2.4350 - val_mse: 11.1401\n",
      "Epoch 26/100\n",
      "1341/1341 [==============================] - 9s 7ms/step - loss: 2.1045 - mse: 10.3906 - val_loss: 2.4058 - val_mse: 11.4641\n",
      "Epoch 27/100\n",
      "1341/1341 [==============================] - 9s 7ms/step - loss: 2.0876 - mse: 10.3016 - val_loss: 2.4719 - val_mse: 12.2065\n",
      "Epoch 28/100\n",
      "1341/1341 [==============================] - 9s 7ms/step - loss: 2.0795 - mse: 10.2625 - val_loss: 2.5959 - val_mse: 10.7898\n",
      "Epoch 29/100\n",
      "1341/1341 [==============================] - 9s 7ms/step - loss: 2.0621 - mse: 10.1118 - val_loss: 2.5829 - val_mse: 11.6795\n",
      "Epoch 30/100\n",
      "1341/1341 [==============================] - 9s 6ms/step - loss: 2.0564 - mse: 10.0531 - val_loss: 2.6170 - val_mse: 11.4728\n",
      "Epoch 31/100\n",
      "1341/1341 [==============================] - 9s 6ms/step - loss: 2.0385 - mse: 9.9446 - val_loss: 2.7759 - val_mse: 10.6670\n",
      "Epoch 32/100\n",
      "1341/1341 [==============================] - 9s 6ms/step - loss: 2.0303 - mse: 9.8922 - val_loss: 2.6908 - val_mse: 12.0059\n",
      "Epoch 33/100\n",
      "1341/1341 [==============================] - 9s 6ms/step - loss: 2.0145 - mse: 9.9504 - val_loss: 2.8156 - val_mse: 10.9755\n",
      "Epoch 34/100\n",
      "1341/1341 [==============================] - 9s 6ms/step - loss: 2.0043 - mse: 9.7683 - val_loss: 2.8788 - val_mse: 11.6593\n",
      "Epoch 35/100\n",
      "1341/1341 [==============================] - 9s 6ms/step - loss: 1.9920 - mse: 9.5620 - val_loss: 2.9400 - val_mse: 10.7991\n",
      "Epoch 36/100\n",
      "1341/1341 [==============================] - 9s 6ms/step - loss: 1.9781 - mse: 9.4021 - val_loss: 2.8709 - val_mse: 11.3641\n",
      "Epoch 37/100\n",
      "1341/1341 [==============================] - 9s 6ms/step - loss: 1.9701 - mse: 9.3799 - val_loss: 2.9732 - val_mse: 11.1436\n",
      "Epoch 38/100\n",
      "1341/1341 [==============================] - 9s 7ms/step - loss: 1.9619 - mse: 9.4041 - val_loss: 3.3167 - val_mse: 11.5724\n",
      "Epoch 39/100\n",
      "1341/1341 [==============================] - 9s 7ms/step - loss: 1.9440 - mse: 9.3136 - val_loss: 3.1223 - val_mse: 11.9984\n",
      "Epoch 40/100\n",
      "1341/1341 [==============================] - 9s 7ms/step - loss: 1.9352 - mse: 9.0271 - val_loss: 3.0565 - val_mse: 11.4923\n",
      "Epoch 41/100\n",
      "1341/1341 [==============================] - 9s 6ms/step - loss: 1.9217 - mse: 8.9929 - val_loss: 3.4948 - val_mse: 10.7138\n"
     ]
    }
   ],
   "source": [
    "epochs = 100\n",
    "history = model.fit(diabetes_train_ds, validation_data=diabetes_val_ds,\n",
    "                    epochs=epochs, callbacks=[stop])"
   ]
  },
  {
   "cell_type": "code",
   "execution_count": 72,
   "metadata": {},
   "outputs": [
    {
     "name": "stdout",
     "output_type": "stream",
     "text": [
      "Model: \"sequential_4\"\n",
      "_________________________________________________________________\n",
      "Layer (type)                 Output Shape              Param #   \n",
      "=================================================================\n",
      "dense_features_1 (DenseFeatu multiple                  0         \n",
      "_________________________________________________________________\n",
      "dense_20 (Dense)             multiple                  20992     \n",
      "_________________________________________________________________\n",
      "dense_21 (Dense)             multiple                  131328    \n",
      "_________________________________________________________________\n",
      "dense_22 (Dense)             multiple                  32896     \n",
      "_________________________________________________________________\n",
      "dense_23 (Dense)             multiple                  8256      \n",
      "_________________________________________________________________\n",
      "dense_24 (Dense)             multiple                  130       \n",
      "_________________________________________________________________\n",
      "distribution_lambda_4 (Distr multiple                  0         \n",
      "=================================================================\n",
      "Total params: 193,602\n",
      "Trainable params: 193,602\n",
      "Non-trainable params: 0\n",
      "_________________________________________________________________\n"
     ]
    }
   ],
   "source": [
    "model.summary()"
   ]
  },
  {
   "cell_type": "code",
   "execution_count": 101,
   "metadata": {},
   "outputs": [],
   "source": [
    "model.save_weights(modelpath)"
   ]
  },
  {
   "cell_type": "markdown",
   "metadata": {},
   "source": [
    "## Show Model Uncertainty Range with TF Probability"
   ]
  },
  {
   "cell_type": "markdown",
   "metadata": {},
   "source": [
    "**Question 9**: Now that we have trained a model with TF Probability layers, we can extract the mean and standard deviation for each prediction. Please fill in the answer for the m and s variables below. The code for getting the predictions is provided for you below."
   ]
  },
  {
   "cell_type": "code",
   "execution_count": 29,
   "metadata": {},
   "outputs": [
    {
     "data": {
      "text/plain": [
       "<tensorflow.python.training.tracking.util.CheckpointLoadStatus at 0x1928980dbc8>"
      ]
     },
     "execution_count": 29,
     "metadata": {},
     "output_type": "execute_result"
    }
   ],
   "source": [
    "model = build_sequential_model(input_layer)\n",
    "model.load_weights(modelpath)"
   ]
  },
  {
   "cell_type": "code",
   "execution_count": 30,
   "metadata": {},
   "outputs": [
    {
     "name": "stdout",
     "output_type": "stream",
     "text": [
      "WARNING:tensorflow:From C:\\Users\\Ryan\\Anaconda3\\envs\\ehr_gpu\\lib\\site-packages\\tensorflow_core\\python\\feature_column\\feature_column_v2.py:4267: IndicatorColumn._variable_shape (from tensorflow.python.feature_column.feature_column_v2) is deprecated and will be removed in a future version.\n",
      "Instructions for updating:\n",
      "The old _FeatureColumn APIs are being deprecated. Please use the new FeatureColumn APIs instead.\n",
      "WARNING:tensorflow:From C:\\Users\\Ryan\\Anaconda3\\envs\\ehr_gpu\\lib\\site-packages\\tensorflow_core\\python\\feature_column\\feature_column_v2.py:4322: VocabularyListCategoricalColumn._num_buckets (from tensorflow.python.feature_column.feature_column_v2) is deprecated and will be removed in a future version.\n",
      "Instructions for updating:\n",
      "The old _FeatureColumn APIs are being deprecated. Please use the new FeatureColumn APIs instead.\n"
     ]
    }
   ],
   "source": [
    "# feature_list = student_categorical_col_list + student_numerical_col_list\n",
    "feature_list = [c for c in d_test.columns if c != 'time_in_hospital']\n",
    "diabetes_x_tst = dict(d_test[feature_list])\n",
    "diabetes_yhat = model(diabetes_x_tst)\n",
    "preds = model.predict(diabetes_test_ds)"
   ]
  },
  {
   "cell_type": "code",
   "execution_count": 31,
   "metadata": {},
   "outputs": [],
   "source": [
    "from student_utils import get_mean_std_from_preds\n",
    "m, s = get_mean_std_from_preds(diabetes_yhat)"
   ]
  },
  {
   "cell_type": "markdown",
   "metadata": {},
   "source": [
    "## Show Prediction Output "
   ]
  },
  {
   "cell_type": "code",
   "execution_count": 32,
   "metadata": {},
   "outputs": [],
   "source": [
    "prob_outputs = {\n",
    "    \"pred\": preds.flatten(),\n",
    "    \"actual_value\": d_test['time_in_hospital'].values,\n",
    "    \"pred_mean\": m.numpy().flatten(),\n",
    "    \"pred_std\": s.numpy().flatten()\n",
    "}\n",
    "prob_output_df = pd.DataFrame(prob_outputs)"
   ]
  },
  {
   "cell_type": "code",
   "execution_count": 33,
   "metadata": {},
   "outputs": [
    {
     "data": {
      "text/plain": [
       "14304"
      ]
     },
     "execution_count": 33,
     "metadata": {},
     "output_type": "execute_result"
    }
   ],
   "source": [
    "len(prob_output_df)"
   ]
  },
  {
   "cell_type": "code",
   "execution_count": 34,
   "metadata": {},
   "outputs": [
    {
     "data": {
      "text/html": [
       "<div>\n",
       "<style scoped>\n",
       "    .dataframe tbody tr th:only-of-type {\n",
       "        vertical-align: middle;\n",
       "    }\n",
       "\n",
       "    .dataframe tbody tr th {\n",
       "        vertical-align: top;\n",
       "    }\n",
       "\n",
       "    .dataframe thead th {\n",
       "        text-align: right;\n",
       "    }\n",
       "</style>\n",
       "<table border=\"1\" class=\"dataframe\">\n",
       "  <thead>\n",
       "    <tr style=\"text-align: right;\">\n",
       "      <th></th>\n",
       "      <th>pred</th>\n",
       "      <th>actual_value</th>\n",
       "      <th>pred_mean</th>\n",
       "      <th>pred_std</th>\n",
       "    </tr>\n",
       "  </thead>\n",
       "  <tbody>\n",
       "    <tr>\n",
       "      <th>0</th>\n",
       "      <td>5.945456</td>\n",
       "      <td>3.0</td>\n",
       "      <td>2.537642</td>\n",
       "      <td>1.728768</td>\n",
       "    </tr>\n",
       "    <tr>\n",
       "      <th>1</th>\n",
       "      <td>6.724997</td>\n",
       "      <td>5.0</td>\n",
       "      <td>7.984324</td>\n",
       "      <td>2.998356</td>\n",
       "    </tr>\n",
       "    <tr>\n",
       "      <th>2</th>\n",
       "      <td>6.662012</td>\n",
       "      <td>8.0</td>\n",
       "      <td>7.529450</td>\n",
       "      <td>2.075785</td>\n",
       "    </tr>\n",
       "    <tr>\n",
       "      <th>3</th>\n",
       "      <td>7.594665</td>\n",
       "      <td>8.0</td>\n",
       "      <td>4.473454</td>\n",
       "      <td>2.474643</td>\n",
       "    </tr>\n",
       "    <tr>\n",
       "      <th>4</th>\n",
       "      <td>1.885892</td>\n",
       "      <td>6.0</td>\n",
       "      <td>3.412266</td>\n",
       "      <td>1.872985</td>\n",
       "    </tr>\n",
       "    <tr>\n",
       "      <th>5</th>\n",
       "      <td>2.220034</td>\n",
       "      <td>4.0</td>\n",
       "      <td>2.017311</td>\n",
       "      <td>1.329459</td>\n",
       "    </tr>\n",
       "    <tr>\n",
       "      <th>6</th>\n",
       "      <td>2.251939</td>\n",
       "      <td>3.0</td>\n",
       "      <td>2.493691</td>\n",
       "      <td>1.496531</td>\n",
       "    </tr>\n",
       "    <tr>\n",
       "      <th>7</th>\n",
       "      <td>5.545232</td>\n",
       "      <td>1.0</td>\n",
       "      <td>3.045019</td>\n",
       "      <td>1.542586</td>\n",
       "    </tr>\n",
       "    <tr>\n",
       "      <th>8</th>\n",
       "      <td>-0.060459</td>\n",
       "      <td>10.0</td>\n",
       "      <td>3.747425</td>\n",
       "      <td>2.195255</td>\n",
       "    </tr>\n",
       "    <tr>\n",
       "      <th>9</th>\n",
       "      <td>4.789576</td>\n",
       "      <td>4.0</td>\n",
       "      <td>3.151385</td>\n",
       "      <td>1.588177</td>\n",
       "    </tr>\n",
       "  </tbody>\n",
       "</table>\n",
       "</div>"
      ],
      "text/plain": [
       "       pred  actual_value  pred_mean  pred_std\n",
       "0  5.945456           3.0   2.537642  1.728768\n",
       "1  6.724997           5.0   7.984324  2.998356\n",
       "2  6.662012           8.0   7.529450  2.075785\n",
       "3  7.594665           8.0   4.473454  2.474643\n",
       "4  1.885892           6.0   3.412266  1.872985\n",
       "5  2.220034           4.0   2.017311  1.329459\n",
       "6  2.251939           3.0   2.493691  1.496531\n",
       "7  5.545232           1.0   3.045019  1.542586\n",
       "8 -0.060459          10.0   3.747425  2.195255\n",
       "9  4.789576           4.0   3.151385  1.588177"
      ]
     },
     "execution_count": 34,
     "metadata": {},
     "output_type": "execute_result"
    }
   ],
   "source": [
    "prob_output_df.head(10)"
   ]
  },
  {
   "cell_type": "markdown",
   "metadata": {},
   "source": [
    "## Convert Regression Output to Classification Output for Patient Selection"
   ]
  },
  {
   "cell_type": "markdown",
   "metadata": {},
   "source": [
    "**Question 10**: Given the output predictions, convert it to a binary label for whether the patient meets the time criteria or does not (HINT: use the mean prediction numpy array). The expected output is a numpy array with a 1 or 0 based off if the prediction meets or doesnt meet the criteria."
   ]
  },
  {
   "cell_type": "code",
   "execution_count": 35,
   "metadata": {},
   "outputs": [],
   "source": [
    "from student_utils import get_student_binary_prediction\n",
    "student_binary_prediction = get_student_binary_prediction(prob_output_df, 'pred_mean')"
   ]
  },
  {
   "cell_type": "code",
   "execution_count": 36,
   "metadata": {},
   "outputs": [],
   "source": [
    "labels = d_test.time_in_hospital.map(lambda x: 1 if x >= 5 else 0)"
   ]
  },
  {
   "cell_type": "code",
   "execution_count": 37,
   "metadata": {},
   "outputs": [
    {
     "data": {
      "text/plain": [
       "0.23566834451901567"
      ]
     },
     "execution_count": 37,
     "metadata": {},
     "output_type": "execute_result"
    }
   ],
   "source": [
    "student_binary_prediction.sum() / len(student_binary_prediction)"
   ]
  },
  {
   "cell_type": "code",
   "execution_count": 38,
   "metadata": {},
   "outputs": [
    {
     "data": {
      "text/plain": [
       "0.3691275167785235"
      ]
     },
     "execution_count": 38,
     "metadata": {},
     "output_type": "execute_result"
    }
   ],
   "source": [
    "labels.sum() / len(labels)"
   ]
  },
  {
   "cell_type": "code",
   "execution_count": 39,
   "metadata": {},
   "outputs": [],
   "source": [
    "assert len(student_binary_prediction) == len(labels)"
   ]
  },
  {
   "cell_type": "markdown",
   "metadata": {},
   "source": [
    "### Add Binary Prediction to Test Dataframe"
   ]
  },
  {
   "cell_type": "markdown",
   "metadata": {},
   "source": [
    "Using the student_binary_prediction output that is a numpy array with binary labels, we can use this to add to a dataframe to better visualize and also to prepare the data for the Aequitas toolkit. The Aequitas toolkit requires that the predictions be mapped to a binary label for the predictions (called 'score' field) and the actual value (called 'label_value')."
   ]
  },
  {
   "cell_type": "code",
   "execution_count": 45,
   "metadata": {},
   "outputs": [],
   "source": [
    "cols = ['patient_nbr', 'race', 'gender', 'age', 'time_in_hospital']\n",
    "labels = d_test.time_in_hospital.map(lambda x: 1 if x >= 5 else 0)"
   ]
  },
  {
   "cell_type": "code",
   "execution_count": 46,
   "metadata": {},
   "outputs": [],
   "source": [
    "demo_df = d_test[cols].copy()\n",
    "demo_df['label_value'] = labels\n",
    "demo_df['score'] = student_binary_prediction"
   ]
  },
  {
   "cell_type": "code",
   "execution_count": 47,
   "metadata": {},
   "outputs": [
    {
     "data": {
      "text/html": [
       "<div>\n",
       "<style scoped>\n",
       "    .dataframe tbody tr th:only-of-type {\n",
       "        vertical-align: middle;\n",
       "    }\n",
       "\n",
       "    .dataframe tbody tr th {\n",
       "        vertical-align: top;\n",
       "    }\n",
       "\n",
       "    .dataframe thead th {\n",
       "        text-align: right;\n",
       "    }\n",
       "</style>\n",
       "<table border=\"1\" class=\"dataframe\">\n",
       "  <thead>\n",
       "    <tr style=\"text-align: right;\">\n",
       "      <th></th>\n",
       "      <th>patient_nbr</th>\n",
       "      <th>race</th>\n",
       "      <th>gender</th>\n",
       "      <th>age</th>\n",
       "      <th>time_in_hospital</th>\n",
       "      <th>label_value</th>\n",
       "      <th>score</th>\n",
       "    </tr>\n",
       "  </thead>\n",
       "  <tbody>\n",
       "    <tr>\n",
       "      <th>12496</th>\n",
       "      <td>20188809</td>\n",
       "      <td>AfricanAmerican</td>\n",
       "      <td>Female</td>\n",
       "      <td>[50-60)</td>\n",
       "      <td>3.0</td>\n",
       "      <td>0</td>\n",
       "      <td>0</td>\n",
       "    </tr>\n",
       "    <tr>\n",
       "      <th>29681</th>\n",
       "      <td>19749510</td>\n",
       "      <td>Caucasian</td>\n",
       "      <td>Male</td>\n",
       "      <td>[50-60)</td>\n",
       "      <td>5.0</td>\n",
       "      <td>1</td>\n",
       "      <td>1</td>\n",
       "    </tr>\n",
       "    <tr>\n",
       "      <th>6193</th>\n",
       "      <td>5209488</td>\n",
       "      <td>AfricanAmerican</td>\n",
       "      <td>Female</td>\n",
       "      <td>[70-80)</td>\n",
       "      <td>8.0</td>\n",
       "      <td>1</td>\n",
       "      <td>1</td>\n",
       "    </tr>\n",
       "    <tr>\n",
       "      <th>11307</th>\n",
       "      <td>6098067</td>\n",
       "      <td>Caucasian</td>\n",
       "      <td>Male</td>\n",
       "      <td>[80-90)</td>\n",
       "      <td>8.0</td>\n",
       "      <td>1</td>\n",
       "      <td>0</td>\n",
       "    </tr>\n",
       "    <tr>\n",
       "      <th>23324</th>\n",
       "      <td>18154584</td>\n",
       "      <td>?</td>\n",
       "      <td>Male</td>\n",
       "      <td>[50-60)</td>\n",
       "      <td>6.0</td>\n",
       "      <td>1</td>\n",
       "      <td>0</td>\n",
       "    </tr>\n",
       "    <tr>\n",
       "      <th>...</th>\n",
       "      <td>...</td>\n",
       "      <td>...</td>\n",
       "      <td>...</td>\n",
       "      <td>...</td>\n",
       "      <td>...</td>\n",
       "      <td>...</td>\n",
       "      <td>...</td>\n",
       "    </tr>\n",
       "    <tr>\n",
       "      <th>71096</th>\n",
       "      <td>85488858</td>\n",
       "      <td>Caucasian</td>\n",
       "      <td>Female</td>\n",
       "      <td>[70-80)</td>\n",
       "      <td>5.0</td>\n",
       "      <td>1</td>\n",
       "      <td>0</td>\n",
       "    </tr>\n",
       "    <tr>\n",
       "      <th>17747</th>\n",
       "      <td>23404635</td>\n",
       "      <td>Caucasian</td>\n",
       "      <td>Male</td>\n",
       "      <td>[50-60)</td>\n",
       "      <td>4.0</td>\n",
       "      <td>0</td>\n",
       "      <td>0</td>\n",
       "    </tr>\n",
       "    <tr>\n",
       "      <th>68671</th>\n",
       "      <td>125221334</td>\n",
       "      <td>Caucasian</td>\n",
       "      <td>Female</td>\n",
       "      <td>[60-70)</td>\n",
       "      <td>5.0</td>\n",
       "      <td>1</td>\n",
       "      <td>1</td>\n",
       "    </tr>\n",
       "    <tr>\n",
       "      <th>60327</th>\n",
       "      <td>85667580</td>\n",
       "      <td>Caucasian</td>\n",
       "      <td>Male</td>\n",
       "      <td>[30-40)</td>\n",
       "      <td>2.0</td>\n",
       "      <td>0</td>\n",
       "      <td>0</td>\n",
       "    </tr>\n",
       "    <tr>\n",
       "      <th>58799</th>\n",
       "      <td>78132087</td>\n",
       "      <td>Caucasian</td>\n",
       "      <td>Male</td>\n",
       "      <td>[40-50)</td>\n",
       "      <td>1.0</td>\n",
       "      <td>0</td>\n",
       "      <td>0</td>\n",
       "    </tr>\n",
       "  </tbody>\n",
       "</table>\n",
       "<p>14304 rows × 7 columns</p>\n",
       "</div>"
      ],
      "text/plain": [
       "       patient_nbr             race  gender      age  time_in_hospital  \\\n",
       "12496     20188809  AfricanAmerican  Female  [50-60)               3.0   \n",
       "29681     19749510        Caucasian    Male  [50-60)               5.0   \n",
       "6193       5209488  AfricanAmerican  Female  [70-80)               8.0   \n",
       "11307      6098067        Caucasian    Male  [80-90)               8.0   \n",
       "23324     18154584                ?    Male  [50-60)               6.0   \n",
       "...            ...              ...     ...      ...               ...   \n",
       "71096     85488858        Caucasian  Female  [70-80)               5.0   \n",
       "17747     23404635        Caucasian    Male  [50-60)               4.0   \n",
       "68671    125221334        Caucasian  Female  [60-70)               5.0   \n",
       "60327     85667580        Caucasian    Male  [30-40)               2.0   \n",
       "58799     78132087        Caucasian    Male  [40-50)               1.0   \n",
       "\n",
       "       label_value  score  \n",
       "12496            0      0  \n",
       "29681            1      1  \n",
       "6193             1      1  \n",
       "11307            1      0  \n",
       "23324            1      0  \n",
       "...            ...    ...  \n",
       "71096            1      0  \n",
       "17747            0      0  \n",
       "68671            1      1  \n",
       "60327            0      0  \n",
       "58799            0      0  \n",
       "\n",
       "[14304 rows x 7 columns]"
      ]
     },
     "execution_count": 47,
     "metadata": {},
     "output_type": "execute_result"
    }
   ],
   "source": [
    "demo_df"
   ]
  },
  {
   "cell_type": "code",
   "execution_count": 48,
   "metadata": {},
   "outputs": [],
   "source": [
    "pred_test_df = demo_df"
   ]
  },
  {
   "cell_type": "code",
   "execution_count": 49,
   "metadata": {},
   "outputs": [
    {
     "data": {
      "text/html": [
       "<div>\n",
       "<style scoped>\n",
       "    .dataframe tbody tr th:only-of-type {\n",
       "        vertical-align: middle;\n",
       "    }\n",
       "\n",
       "    .dataframe tbody tr th {\n",
       "        vertical-align: top;\n",
       "    }\n",
       "\n",
       "    .dataframe thead th {\n",
       "        text-align: right;\n",
       "    }\n",
       "</style>\n",
       "<table border=\"1\" class=\"dataframe\">\n",
       "  <thead>\n",
       "    <tr style=\"text-align: right;\">\n",
       "      <th></th>\n",
       "      <th>patient_nbr</th>\n",
       "      <th>gender</th>\n",
       "      <th>race</th>\n",
       "      <th>time_in_hospital</th>\n",
       "      <th>score</th>\n",
       "      <th>label_value</th>\n",
       "    </tr>\n",
       "  </thead>\n",
       "  <tbody>\n",
       "    <tr>\n",
       "      <th>12496</th>\n",
       "      <td>20188809</td>\n",
       "      <td>Female</td>\n",
       "      <td>AfricanAmerican</td>\n",
       "      <td>3.0</td>\n",
       "      <td>0</td>\n",
       "      <td>0</td>\n",
       "    </tr>\n",
       "    <tr>\n",
       "      <th>29681</th>\n",
       "      <td>19749510</td>\n",
       "      <td>Male</td>\n",
       "      <td>Caucasian</td>\n",
       "      <td>5.0</td>\n",
       "      <td>1</td>\n",
       "      <td>1</td>\n",
       "    </tr>\n",
       "    <tr>\n",
       "      <th>6193</th>\n",
       "      <td>5209488</td>\n",
       "      <td>Female</td>\n",
       "      <td>AfricanAmerican</td>\n",
       "      <td>8.0</td>\n",
       "      <td>1</td>\n",
       "      <td>1</td>\n",
       "    </tr>\n",
       "    <tr>\n",
       "      <th>11307</th>\n",
       "      <td>6098067</td>\n",
       "      <td>Male</td>\n",
       "      <td>Caucasian</td>\n",
       "      <td>8.0</td>\n",
       "      <td>0</td>\n",
       "      <td>1</td>\n",
       "    </tr>\n",
       "    <tr>\n",
       "      <th>23324</th>\n",
       "      <td>18154584</td>\n",
       "      <td>Male</td>\n",
       "      <td>?</td>\n",
       "      <td>6.0</td>\n",
       "      <td>0</td>\n",
       "      <td>1</td>\n",
       "    </tr>\n",
       "    <tr>\n",
       "      <th>...</th>\n",
       "      <td>...</td>\n",
       "      <td>...</td>\n",
       "      <td>...</td>\n",
       "      <td>...</td>\n",
       "      <td>...</td>\n",
       "      <td>...</td>\n",
       "    </tr>\n",
       "    <tr>\n",
       "      <th>71096</th>\n",
       "      <td>85488858</td>\n",
       "      <td>Female</td>\n",
       "      <td>Caucasian</td>\n",
       "      <td>5.0</td>\n",
       "      <td>0</td>\n",
       "      <td>1</td>\n",
       "    </tr>\n",
       "    <tr>\n",
       "      <th>17747</th>\n",
       "      <td>23404635</td>\n",
       "      <td>Male</td>\n",
       "      <td>Caucasian</td>\n",
       "      <td>4.0</td>\n",
       "      <td>0</td>\n",
       "      <td>0</td>\n",
       "    </tr>\n",
       "    <tr>\n",
       "      <th>68671</th>\n",
       "      <td>125221334</td>\n",
       "      <td>Female</td>\n",
       "      <td>Caucasian</td>\n",
       "      <td>5.0</td>\n",
       "      <td>1</td>\n",
       "      <td>1</td>\n",
       "    </tr>\n",
       "    <tr>\n",
       "      <th>60327</th>\n",
       "      <td>85667580</td>\n",
       "      <td>Male</td>\n",
       "      <td>Caucasian</td>\n",
       "      <td>2.0</td>\n",
       "      <td>0</td>\n",
       "      <td>0</td>\n",
       "    </tr>\n",
       "    <tr>\n",
       "      <th>58799</th>\n",
       "      <td>78132087</td>\n",
       "      <td>Male</td>\n",
       "      <td>Caucasian</td>\n",
       "      <td>1.0</td>\n",
       "      <td>0</td>\n",
       "      <td>0</td>\n",
       "    </tr>\n",
       "  </tbody>\n",
       "</table>\n",
       "<p>14304 rows × 6 columns</p>\n",
       "</div>"
      ],
      "text/plain": [
       "       patient_nbr  gender             race  time_in_hospital  score  \\\n",
       "12496     20188809  Female  AfricanAmerican               3.0      0   \n",
       "29681     19749510    Male        Caucasian               5.0      1   \n",
       "6193       5209488  Female  AfricanAmerican               8.0      1   \n",
       "11307      6098067    Male        Caucasian               8.0      0   \n",
       "23324     18154584    Male                ?               6.0      0   \n",
       "...            ...     ...              ...               ...    ...   \n",
       "71096     85488858  Female        Caucasian               5.0      0   \n",
       "17747     23404635    Male        Caucasian               4.0      0   \n",
       "68671    125221334  Female        Caucasian               5.0      1   \n",
       "60327     85667580    Male        Caucasian               2.0      0   \n",
       "58799     78132087    Male        Caucasian               1.0      0   \n",
       "\n",
       "       label_value  \n",
       "12496            0  \n",
       "29681            1  \n",
       "6193             1  \n",
       "11307            1  \n",
       "23324            1  \n",
       "...            ...  \n",
       "71096            1  \n",
       "17747            0  \n",
       "68671            1  \n",
       "60327            0  \n",
       "58799            0  \n",
       "\n",
       "[14304 rows x 6 columns]"
      ]
     },
     "execution_count": 49,
     "metadata": {},
     "output_type": "execute_result"
    }
   ],
   "source": [
    "pred_test_df[['patient_nbr', 'gender', 'race', 'time_in_hospital', 'score', 'label_value']]"
   ]
  },
  {
   "cell_type": "markdown",
   "metadata": {},
   "source": [
    "## Model Evaluation Metrics "
   ]
  },
  {
   "cell_type": "markdown",
   "metadata": {},
   "source": [
    "**Question 11**: Now it is time to use the newly created binary labels in the 'pred_test_df' dataframe to evaluate the model with some common classification metrics. Please create a report summary of the performance of the model and be sure to give the ROC AUC, F1 score(weighted), class precision and recall scores. "
   ]
  },
  {
   "cell_type": "markdown",
   "metadata": {},
   "source": [
    "For the report please be sure to include the following three parts:\n",
    "- With a non-technical audience in mind, explain the precision-recall tradeoff in regard to how you have optimized your model.\n",
    "\n",
    "- What are some areas of improvement for future iterations?"
   ]
  },
  {
   "cell_type": "code",
   "execution_count": 58,
   "metadata": {},
   "outputs": [],
   "source": [
    "from sklearn.metrics import roc_auc_score, roc_curve, f1_score, precision_score, recall_score, classification_report"
   ]
  },
  {
   "cell_type": "code",
   "execution_count": 52,
   "metadata": {},
   "outputs": [
    {
     "data": {
      "text/plain": [
       "0.6950868391360413"
      ]
     },
     "execution_count": 52,
     "metadata": {},
     "output_type": "execute_result"
    }
   ],
   "source": [
    "roc_auc_score(labels, student_binary_prediction)"
   ]
  },
  {
   "cell_type": "code",
   "execution_count": 56,
   "metadata": {},
   "outputs": [
    {
     "data": {
      "text/plain": [
       "0.7353390857512828"
      ]
     },
     "execution_count": 56,
     "metadata": {},
     "output_type": "execute_result"
    }
   ],
   "source": [
    "f1_score(labels, student_binary_prediction, average='weighted')"
   ]
  },
  {
   "cell_type": "code",
   "execution_count": 54,
   "metadata": {},
   "outputs": [
    {
     "data": {
      "text/plain": [
       "0.7546722040937407"
      ]
     },
     "execution_count": 54,
     "metadata": {},
     "output_type": "execute_result"
    }
   ],
   "source": [
    "precision_score(labels, student_binary_prediction)"
   ]
  },
  {
   "cell_type": "code",
   "execution_count": 55,
   "metadata": {},
   "outputs": [
    {
     "data": {
      "text/plain": [
       "0.4818181818181818"
      ]
     },
     "execution_count": 55,
     "metadata": {},
     "output_type": "execute_result"
    }
   ],
   "source": [
    "recall_score(labels, student_binary_prediction)"
   ]
  },
  {
   "cell_type": "code",
   "execution_count": 60,
   "metadata": {},
   "outputs": [
    {
     "data": {
      "text/plain": [
       "{'0': {'precision': 0.7497484679410957,\n",
       "  'recall': 0.9083554964539007,\n",
       "  'f1-score': 0.8214661522272887,\n",
       "  'support': 9024},\n",
       " '1': {'precision': 0.7546722040937407,\n",
       "  'recall': 0.4818181818181818,\n",
       "  'f1-score': 0.5881400994104728,\n",
       "  'support': 5280},\n",
       " 'accuracy': 0.7509088366890381,\n",
       " 'macro avg': {'precision': 0.7522103360174182,\n",
       "  'recall': 0.6950868391360412,\n",
       "  'f1-score': 0.7048031258188807,\n",
       "  'support': 14304},\n",
       " 'weighted avg': {'precision': 0.7515659544403942,\n",
       "  'recall': 0.7509088366890381,\n",
       "  'f1-score': 0.7353390857512828,\n",
       "  'support': 14304}}"
      ]
     },
     "execution_count": 60,
     "metadata": {},
     "output_type": "execute_result"
    }
   ],
   "source": [
    "classification_report(labels, student_binary_prediction, output_dict=True)"
   ]
  },
  {
   "cell_type": "markdown",
   "metadata": {},
   "source": [
    "### Summary\n",
    "\n",
    "The model was trained as a regression model to predict the number of days of hospitalization, from that we selected patients who were predicted to require five or more days of hospitalization and compared these to the actual values.\n",
    "\n",
    "There are very few strong correlations here to help our predictions, so rather than look at the overall accuracy of the model, which is affected by the general complexity of the problem, we should instead look at how it performs on the problem we are targeting: Finding patients who will require five or more days of hospitalization, ie: the `1` group in our classification report. In this the model performs well, with 75% of the predictions being accurate. Normally achieving a higher precision worsens the overall recall (the number of positives that we detected out of the total). That pattern continues here with recall being less than 50%, but for the purposes of the problem we are primarily interested in finding a \"sure thing\" and the tradeoff the model exhibits is well suited for that.\n",
    "\n",
    "Beyond that, and on a more technical note, we see that the AUC score along with the weighted precision, recall, and F1 scores all show that our model performs well above random chance in making these selections. Future improvements on this algorithm would likely delve into clinical knowledge regarding the diagnosis codes and identifying specific diagnoses that have a known correlation with longer hospitalization. The current model does not consider diagnoses as there are so many that it becomes hard to draw relevant conclusions from them without either more data or better domain guidance."
   ]
  },
  {
   "cell_type": "markdown",
   "metadata": {},
   "source": [
    "# 7. Evaluating Potential Model Biases with Aequitas Toolkit"
   ]
  },
  {
   "cell_type": "markdown",
   "metadata": {},
   "source": [
    "## Prepare Data For Aequitas Bias Toolkit "
   ]
  },
  {
   "cell_type": "markdown",
   "metadata": {},
   "source": [
    "Using the gender and race fields, we will prepare the data for the Aequitas Toolkit."
   ]
  },
  {
   "cell_type": "code",
   "execution_count": 79,
   "metadata": {},
   "outputs": [
    {
     "name": "stdout",
     "output_type": "stream",
     "text": [
      "model_id, score_thresholds 1 {'rank_abs': [3371]}\n"
     ]
    }
   ],
   "source": [
    "# Aequitas\n",
    "from aequitas.preprocessing import preprocess_input_df\n",
    "from aequitas.group import Group\n",
    "from aequitas.plotting import Plot\n",
    "from aequitas.bias import Bias\n",
    "from aequitas.fairness import Fairness\n",
    "\n",
    "import aequitas as ae\n",
    "\n",
    "ae_subset_df = pred_test_df[['race', 'gender', 'score', 'label_value']]\n",
    "ae_df, _ = preprocess_input_df(ae_subset_df)\n",
    "g = Group()\n",
    "xtab, _ = g.get_crosstabs(ae_df)\n",
    "absolute_metrics = g.list_absolute_metrics(xtab)\n",
    "clean_xtab = xtab.fillna(-1)\n",
    "aqp = Plot()\n",
    "b = Bias()"
   ]
  },
  {
   "cell_type": "markdown",
   "metadata": {},
   "source": [
    "## Reference Group Selection"
   ]
  },
  {
   "cell_type": "markdown",
   "metadata": {},
   "source": [
    "Below we have chosen the reference group for our analysis but feel free to select another one."
   ]
  },
  {
   "cell_type": "code",
   "execution_count": 64,
   "metadata": {},
   "outputs": [
    {
     "name": "stdout",
     "output_type": "stream",
     "text": [
      "get_disparity_predefined_group()\n"
     ]
    }
   ],
   "source": [
    "# test reference group with Caucasian Male\n",
    "bdf = b.get_disparity_predefined_groups(clean_xtab, \n",
    "                    original_df=ae_df, \n",
    "                    ref_groups_dict={'race':'Caucasian', 'gender':'Male'\n",
    "                                     }, \n",
    "                    alpha=0.05, \n",
    "                    check_significance=False)\n",
    "\n",
    "\n",
    "f = Fairness()\n",
    "fdf = f.get_group_value_fairness(bdf)"
   ]
  },
  {
   "cell_type": "markdown",
   "metadata": {},
   "source": [
    "## Race and Gender Bias Analysis for Patient Selection"
   ]
  },
  {
   "cell_type": "markdown",
   "metadata": {},
   "source": [
    "**Question 12**: For the gender and race fields, please plot two metrics that are important for patient selection below and state whether there is a significant bias in your model across any of the groups along with justification for your statement."
   ]
  },
  {
   "cell_type": "code",
   "execution_count": null,
   "metadata": {},
   "outputs": [],
   "source": [
    "# Plot two metrics\n",
    "\n",
    "# Is there significant bias in your model for either race or gender?"
   ]
  },
  {
   "cell_type": "code",
   "execution_count": 86,
   "metadata": {},
   "outputs": [
    {
     "data": {
      "text/html": [
       "<div>\n",
       "<style scoped>\n",
       "    .dataframe tbody tr th:only-of-type {\n",
       "        vertical-align: middle;\n",
       "    }\n",
       "\n",
       "    .dataframe tbody tr th {\n",
       "        vertical-align: top;\n",
       "    }\n",
       "\n",
       "    .dataframe thead th {\n",
       "        text-align: right;\n",
       "    }\n",
       "</style>\n",
       "<table border=\"1\" class=\"dataframe\">\n",
       "  <thead>\n",
       "    <tr style=\"text-align: right;\">\n",
       "      <th></th>\n",
       "      <th>model_id</th>\n",
       "      <th>score_threshold</th>\n",
       "      <th>k</th>\n",
       "      <th>attribute_name</th>\n",
       "      <th>attribute_value</th>\n",
       "      <th>tpr</th>\n",
       "      <th>tnr</th>\n",
       "      <th>for</th>\n",
       "      <th>fdr</th>\n",
       "      <th>fpr</th>\n",
       "      <th>fnr</th>\n",
       "      <th>npv</th>\n",
       "      <th>precision</th>\n",
       "      <th>pp</th>\n",
       "      <th>pn</th>\n",
       "      <th>ppr</th>\n",
       "      <th>pprev</th>\n",
       "      <th>fp</th>\n",
       "      <th>fn</th>\n",
       "      <th>tn</th>\n",
       "      <th>tp</th>\n",
       "      <th>group_label_pos</th>\n",
       "      <th>group_label_neg</th>\n",
       "      <th>group_size</th>\n",
       "      <th>total_entities</th>\n",
       "      <th>prev</th>\n",
       "    </tr>\n",
       "  </thead>\n",
       "  <tbody>\n",
       "    <tr>\n",
       "      <th>0</th>\n",
       "      <td>1</td>\n",
       "      <td>binary 0/1</td>\n",
       "      <td>3371</td>\n",
       "      <td>race</td>\n",
       "      <td>?</td>\n",
       "      <td>0.552239</td>\n",
       "      <td>0.929461</td>\n",
       "      <td>0.211268</td>\n",
       "      <td>0.186813</td>\n",
       "      <td>0.070539</td>\n",
       "      <td>0.447761</td>\n",
       "      <td>0.788732</td>\n",
       "      <td>0.813187</td>\n",
       "      <td>91</td>\n",
       "      <td>284</td>\n",
       "      <td>0.026995</td>\n",
       "      <td>0.242667</td>\n",
       "      <td>17</td>\n",
       "      <td>60</td>\n",
       "      <td>224</td>\n",
       "      <td>74</td>\n",
       "      <td>134</td>\n",
       "      <td>241</td>\n",
       "      <td>375</td>\n",
       "      <td>14304</td>\n",
       "      <td>0.357333</td>\n",
       "    </tr>\n",
       "    <tr>\n",
       "      <th>1</th>\n",
       "      <td>1</td>\n",
       "      <td>binary 0/1</td>\n",
       "      <td>3371</td>\n",
       "      <td>race</td>\n",
       "      <td>AfricanAmerican</td>\n",
       "      <td>0.481818</td>\n",
       "      <td>0.898097</td>\n",
       "      <td>0.259615</td>\n",
       "      <td>0.258165</td>\n",
       "      <td>0.101903</td>\n",
       "      <td>0.518182</td>\n",
       "      <td>0.740385</td>\n",
       "      <td>0.741835</td>\n",
       "      <td>643</td>\n",
       "      <td>1976</td>\n",
       "      <td>0.190745</td>\n",
       "      <td>0.245514</td>\n",
       "      <td>166</td>\n",
       "      <td>513</td>\n",
       "      <td>1463</td>\n",
       "      <td>477</td>\n",
       "      <td>990</td>\n",
       "      <td>1629</td>\n",
       "      <td>2619</td>\n",
       "      <td>14304</td>\n",
       "      <td>0.378007</td>\n",
       "    </tr>\n",
       "    <tr>\n",
       "      <th>2</th>\n",
       "      <td>1</td>\n",
       "      <td>binary 0/1</td>\n",
       "      <td>3371</td>\n",
       "      <td>race</td>\n",
       "      <td>Asian</td>\n",
       "      <td>0.538462</td>\n",
       "      <td>0.935897</td>\n",
       "      <td>0.141176</td>\n",
       "      <td>0.263158</td>\n",
       "      <td>0.064103</td>\n",
       "      <td>0.461538</td>\n",
       "      <td>0.858824</td>\n",
       "      <td>0.736842</td>\n",
       "      <td>19</td>\n",
       "      <td>85</td>\n",
       "      <td>0.005636</td>\n",
       "      <td>0.182692</td>\n",
       "      <td>5</td>\n",
       "      <td>12</td>\n",
       "      <td>73</td>\n",
       "      <td>14</td>\n",
       "      <td>26</td>\n",
       "      <td>78</td>\n",
       "      <td>104</td>\n",
       "      <td>14304</td>\n",
       "      <td>0.250000</td>\n",
       "    </tr>\n",
       "    <tr>\n",
       "      <th>3</th>\n",
       "      <td>1</td>\n",
       "      <td>binary 0/1</td>\n",
       "      <td>3371</td>\n",
       "      <td>race</td>\n",
       "      <td>Caucasian</td>\n",
       "      <td>0.473804</td>\n",
       "      <td>0.910000</td>\n",
       "      <td>0.254281</td>\n",
       "      <td>0.243636</td>\n",
       "      <td>0.090000</td>\n",
       "      <td>0.526196</td>\n",
       "      <td>0.745719</td>\n",
       "      <td>0.756364</td>\n",
       "      <td>2475</td>\n",
       "      <td>8176</td>\n",
       "      <td>0.734204</td>\n",
       "      <td>0.232373</td>\n",
       "      <td>603</td>\n",
       "      <td>2079</td>\n",
       "      <td>6097</td>\n",
       "      <td>1872</td>\n",
       "      <td>3951</td>\n",
       "      <td>6700</td>\n",
       "      <td>10651</td>\n",
       "      <td>14304</td>\n",
       "      <td>0.370951</td>\n",
       "    </tr>\n",
       "    <tr>\n",
       "      <th>4</th>\n",
       "      <td>1</td>\n",
       "      <td>binary 0/1</td>\n",
       "      <td>3371</td>\n",
       "      <td>race</td>\n",
       "      <td>Hispanic</td>\n",
       "      <td>0.576923</td>\n",
       "      <td>0.895928</td>\n",
       "      <td>0.181818</td>\n",
       "      <td>0.277108</td>\n",
       "      <td>0.104072</td>\n",
       "      <td>0.423077</td>\n",
       "      <td>0.818182</td>\n",
       "      <td>0.722892</td>\n",
       "      <td>83</td>\n",
       "      <td>242</td>\n",
       "      <td>0.024622</td>\n",
       "      <td>0.255385</td>\n",
       "      <td>23</td>\n",
       "      <td>44</td>\n",
       "      <td>198</td>\n",
       "      <td>60</td>\n",
       "      <td>104</td>\n",
       "      <td>221</td>\n",
       "      <td>325</td>\n",
       "      <td>14304</td>\n",
       "      <td>0.320000</td>\n",
       "    </tr>\n",
       "    <tr>\n",
       "      <th>5</th>\n",
       "      <td>1</td>\n",
       "      <td>binary 0/1</td>\n",
       "      <td>3371</td>\n",
       "      <td>race</td>\n",
       "      <td>Other</td>\n",
       "      <td>0.626667</td>\n",
       "      <td>0.916129</td>\n",
       "      <td>0.164706</td>\n",
       "      <td>0.216667</td>\n",
       "      <td>0.083871</td>\n",
       "      <td>0.373333</td>\n",
       "      <td>0.835294</td>\n",
       "      <td>0.783333</td>\n",
       "      <td>60</td>\n",
       "      <td>170</td>\n",
       "      <td>0.017799</td>\n",
       "      <td>0.260870</td>\n",
       "      <td>13</td>\n",
       "      <td>28</td>\n",
       "      <td>142</td>\n",
       "      <td>47</td>\n",
       "      <td>75</td>\n",
       "      <td>155</td>\n",
       "      <td>230</td>\n",
       "      <td>14304</td>\n",
       "      <td>0.326087</td>\n",
       "    </tr>\n",
       "    <tr>\n",
       "      <th>6</th>\n",
       "      <td>1</td>\n",
       "      <td>binary 0/1</td>\n",
       "      <td>3371</td>\n",
       "      <td>gender</td>\n",
       "      <td>Female</td>\n",
       "      <td>0.475364</td>\n",
       "      <td>0.904822</td>\n",
       "      <td>0.260286</td>\n",
       "      <td>0.248079</td>\n",
       "      <td>0.095178</td>\n",
       "      <td>0.524636</td>\n",
       "      <td>0.739714</td>\n",
       "      <td>0.751921</td>\n",
       "      <td>1822</td>\n",
       "      <td>5809</td>\n",
       "      <td>0.540492</td>\n",
       "      <td>0.238763</td>\n",
       "      <td>452</td>\n",
       "      <td>1512</td>\n",
       "      <td>4297</td>\n",
       "      <td>1370</td>\n",
       "      <td>2882</td>\n",
       "      <td>4749</td>\n",
       "      <td>7631</td>\n",
       "      <td>14304</td>\n",
       "      <td>0.377670</td>\n",
       "    </tr>\n",
       "    <tr>\n",
       "      <th>7</th>\n",
       "      <td>1</td>\n",
       "      <td>binary 0/1</td>\n",
       "      <td>3371</td>\n",
       "      <td>gender</td>\n",
       "      <td>Male</td>\n",
       "      <td>0.489575</td>\n",
       "      <td>0.912281</td>\n",
       "      <td>0.238876</td>\n",
       "      <td>0.242092</td>\n",
       "      <td>0.087719</td>\n",
       "      <td>0.510425</td>\n",
       "      <td>0.761124</td>\n",
       "      <td>0.757908</td>\n",
       "      <td>1549</td>\n",
       "      <td>5124</td>\n",
       "      <td>0.459508</td>\n",
       "      <td>0.232129</td>\n",
       "      <td>375</td>\n",
       "      <td>1224</td>\n",
       "      <td>3900</td>\n",
       "      <td>1174</td>\n",
       "      <td>2398</td>\n",
       "      <td>4275</td>\n",
       "      <td>6673</td>\n",
       "      <td>14304</td>\n",
       "      <td>0.359359</td>\n",
       "    </tr>\n",
       "  </tbody>\n",
       "</table>\n",
       "</div>"
      ],
      "text/plain": [
       "   model_id score_threshold     k attribute_name  attribute_value       tpr  \\\n",
       "0         1      binary 0/1  3371           race                ?  0.552239   \n",
       "1         1      binary 0/1  3371           race  AfricanAmerican  0.481818   \n",
       "2         1      binary 0/1  3371           race            Asian  0.538462   \n",
       "3         1      binary 0/1  3371           race        Caucasian  0.473804   \n",
       "4         1      binary 0/1  3371           race         Hispanic  0.576923   \n",
       "5         1      binary 0/1  3371           race            Other  0.626667   \n",
       "6         1      binary 0/1  3371         gender           Female  0.475364   \n",
       "7         1      binary 0/1  3371         gender             Male  0.489575   \n",
       "\n",
       "        tnr       for       fdr       fpr       fnr       npv  precision  \\\n",
       "0  0.929461  0.211268  0.186813  0.070539  0.447761  0.788732   0.813187   \n",
       "1  0.898097  0.259615  0.258165  0.101903  0.518182  0.740385   0.741835   \n",
       "2  0.935897  0.141176  0.263158  0.064103  0.461538  0.858824   0.736842   \n",
       "3  0.910000  0.254281  0.243636  0.090000  0.526196  0.745719   0.756364   \n",
       "4  0.895928  0.181818  0.277108  0.104072  0.423077  0.818182   0.722892   \n",
       "5  0.916129  0.164706  0.216667  0.083871  0.373333  0.835294   0.783333   \n",
       "6  0.904822  0.260286  0.248079  0.095178  0.524636  0.739714   0.751921   \n",
       "7  0.912281  0.238876  0.242092  0.087719  0.510425  0.761124   0.757908   \n",
       "\n",
       "     pp    pn       ppr     pprev   fp    fn    tn    tp  group_label_pos  \\\n",
       "0    91   284  0.026995  0.242667   17    60   224    74              134   \n",
       "1   643  1976  0.190745  0.245514  166   513  1463   477              990   \n",
       "2    19    85  0.005636  0.182692    5    12    73    14               26   \n",
       "3  2475  8176  0.734204  0.232373  603  2079  6097  1872             3951   \n",
       "4    83   242  0.024622  0.255385   23    44   198    60              104   \n",
       "5    60   170  0.017799  0.260870   13    28   142    47               75   \n",
       "6  1822  5809  0.540492  0.238763  452  1512  4297  1370             2882   \n",
       "7  1549  5124  0.459508  0.232129  375  1224  3900  1174             2398   \n",
       "\n",
       "   group_label_neg  group_size  total_entities      prev  \n",
       "0              241         375           14304  0.357333  \n",
       "1             1629        2619           14304  0.378007  \n",
       "2               78         104           14304  0.250000  \n",
       "3             6700       10651           14304  0.370951  \n",
       "4              221         325           14304  0.320000  \n",
       "5              155         230           14304  0.326087  \n",
       "6             4749        7631           14304  0.377670  \n",
       "7             4275        6673           14304  0.359359  "
      ]
     },
     "execution_count": 86,
     "metadata": {},
     "output_type": "execute_result"
    }
   ],
   "source": [
    "clean_xtab"
   ]
  },
  {
   "cell_type": "code",
   "execution_count": 70,
   "metadata": {},
   "outputs": [
    {
     "data": {
      "text/plain": [
       "<matplotlib.axes._subplots.AxesSubplot at 0x19385f81b88>"
      ]
     },
     "execution_count": 70,
     "metadata": {},
     "output_type": "execute_result"
    },
    {
     "data": {
      "image/png": "[encoded data removed]",
      "text/plain": [
       "<Figure size 720x360 with 1 Axes>"
      ]
     },
     "metadata": {
      "needs_background": "light"
     },
     "output_type": "display_data"
    }
   ],
   "source": [
    "aqp.plot_group_metric(clean_xtab, 'tpr')"
   ]
  },
  {
   "cell_type": "code",
   "execution_count": 71,
   "metadata": {},
   "outputs": [
    {
     "data": {
      "text/plain": [
       "<matplotlib.axes._subplots.AxesSubplot at 0x19386bcf288>"
      ]
     },
     "execution_count": 71,
     "metadata": {},
     "output_type": "execute_result"
    },
    {
     "data": {
      "image/png": "[encoded data removed]",
      "text/plain": [
       "<Figure size 720x360 with 1 Axes>"
      ]
     },
     "metadata": {
      "needs_background": "light"
     },
     "output_type": "display_data"
    }
   ],
   "source": [
    "aqp.plot_group_metric(clean_xtab, 'fpr')"
   ]
  },
  {
   "cell_type": "code",
   "execution_count": 92,
   "metadata": {},
   "outputs": [
    {
     "data": {
      "text/plain": [
       "<matplotlib.axes._subplots.AxesSubplot at 0x19285e34b88>"
      ]
     },
     "execution_count": 92,
     "metadata": {},
     "output_type": "execute_result"
    },
    {
     "data": {
      "image/png": "[encoded data removed]",
      "text/plain": [
       "<Figure size 720x360 with 1 Axes>"
      ]
     },
     "metadata": {
      "needs_background": "light"
     },
     "output_type": "display_data"
    }
   ],
   "source": [
    "aqp.plot_group_metric(clean_xtab, 'tnr')"
   ]
  },
  {
   "cell_type": "code",
   "execution_count": 91,
   "metadata": {
    "scrolled": false
   },
   "outputs": [
    {
     "data": {
      "text/plain": [
       "<matplotlib.axes._subplots.AxesSubplot at 0x1928780fc48>"
      ]
     },
     "execution_count": 91,
     "metadata": {},
     "output_type": "execute_result"
    },
    {
     "data": {
      "image/png": "[encoded data removed]",
      "text/plain": [
       "<Figure size 720x360 with 1 Axes>"
      ]
     },
     "metadata": {
      "needs_background": "light"
     },
     "output_type": "display_data"
    }
   ],
   "source": [
    "aqp.plot_group_metric(clean_xtab, 'fnr')"
   ]
  },
  {
   "cell_type": "code",
   "execution_count": 93,
   "metadata": {},
   "outputs": [
    {
     "data": {
      "text/plain": [
       "<matplotlib.axes._subplots.AxesSubplot at 0x19288c67608>"
      ]
     },
     "execution_count": 93,
     "metadata": {},
     "output_type": "execute_result"
    },
    {
     "data": {
      "image/png": "[encoded data removed]",
      "text/plain": [
       "<Figure size 720x360 with 1 Axes>"
      ]
     },
     "metadata": {
      "needs_background": "light"
     },
     "output_type": "display_data"
    }
   ],
   "source": [
    "aqp.plot_group_metric(clean_xtab, 'precision')"
   ]
  },
  {
   "cell_type": "markdown",
   "metadata": {},
   "source": [
    "### Interpretation\n",
    "\n",
    "The model does not show significant bias in terms of how it classifies by either race or gender. While there are some discrepancies for both Caucasian and African-American populations in a few statistics (TPR, FNR, and somewhat in FPR) these are likely due to sampling issues considering these are the two largest groups. With more data on the other populations we would expect these to converge. \n",
    "\n",
    "Regarding gender there is minimal difference between male and female groups. "
   ]
  },
  {
   "cell_type": "markdown",
   "metadata": {},
   "source": [
    "## Fairness Analysis Example - Relative to a Reference Group "
   ]
  },
  {
   "cell_type": "markdown",
   "metadata": {},
   "source": [
    "**Question 13**: Earlier we defined our reference group and then calculated disparity metrics relative to this grouping. Please provide a visualization of the fairness evaluation for this reference group and analyze whether there is disparity."
   ]
  },
  {
   "cell_type": "code",
   "execution_count": 99,
   "metadata": {},
   "outputs": [
    {
     "data": {
      "text/html": [
       "<div>\n",
       "<style scoped>\n",
       "    .dataframe tbody tr th:only-of-type {\n",
       "        vertical-align: middle;\n",
       "    }\n",
       "\n",
       "    .dataframe tbody tr th {\n",
       "        vertical-align: top;\n",
       "    }\n",
       "\n",
       "    .dataframe thead th {\n",
       "        text-align: right;\n",
       "    }\n",
       "</style>\n",
       "<table border=\"1\" class=\"dataframe\">\n",
       "  <thead>\n",
       "    <tr style=\"text-align: right;\">\n",
       "      <th></th>\n",
       "      <th>model_id</th>\n",
       "      <th>score_threshold</th>\n",
       "      <th>k</th>\n",
       "      <th>attribute_name</th>\n",
       "      <th>attribute_value</th>\n",
       "      <th>tpr</th>\n",
       "      <th>tnr</th>\n",
       "      <th>for</th>\n",
       "      <th>fdr</th>\n",
       "      <th>fpr</th>\n",
       "      <th>fnr</th>\n",
       "      <th>npv</th>\n",
       "      <th>precision</th>\n",
       "      <th>pp</th>\n",
       "      <th>pn</th>\n",
       "      <th>ppr</th>\n",
       "      <th>pprev</th>\n",
       "      <th>fp</th>\n",
       "      <th>fn</th>\n",
       "      <th>tn</th>\n",
       "      <th>tp</th>\n",
       "      <th>group_label_pos</th>\n",
       "      <th>group_label_neg</th>\n",
       "      <th>group_size</th>\n",
       "      <th>total_entities</th>\n",
       "      <th>prev</th>\n",
       "      <th>ppr_disparity</th>\n",
       "      <th>pprev_disparity</th>\n",
       "      <th>precision_disparity</th>\n",
       "      <th>fdr_disparity</th>\n",
       "      <th>for_disparity</th>\n",
       "      <th>fpr_disparity</th>\n",
       "      <th>fnr_disparity</th>\n",
       "      <th>tpr_disparity</th>\n",
       "      <th>tnr_disparity</th>\n",
       "      <th>npv_disparity</th>\n",
       "      <th>ppr_ref_group_value</th>\n",
       "      <th>pprev_ref_group_value</th>\n",
       "      <th>precision_ref_group_value</th>\n",
       "      <th>fdr_ref_group_value</th>\n",
       "      <th>for_ref_group_value</th>\n",
       "      <th>fpr_ref_group_value</th>\n",
       "      <th>fnr_ref_group_value</th>\n",
       "      <th>tpr_ref_group_value</th>\n",
       "      <th>tnr_ref_group_value</th>\n",
       "      <th>npv_ref_group_value</th>\n",
       "      <th>Statistical Parity</th>\n",
       "      <th>Impact Parity</th>\n",
       "      <th>FDR Parity</th>\n",
       "      <th>FPR Parity</th>\n",
       "      <th>FOR Parity</th>\n",
       "      <th>FNR Parity</th>\n",
       "      <th>TPR Parity</th>\n",
       "      <th>TNR Parity</th>\n",
       "      <th>NPV Parity</th>\n",
       "      <th>Precision Parity</th>\n",
       "      <th>TypeI Parity</th>\n",
       "      <th>TypeII Parity</th>\n",
       "      <th>Equalized Odds</th>\n",
       "      <th>Unsupervised Fairness</th>\n",
       "      <th>Supervised Fairness</th>\n",
       "    </tr>\n",
       "  </thead>\n",
       "  <tbody>\n",
       "    <tr>\n",
       "      <th>0</th>\n",
       "      <td>1</td>\n",
       "      <td>binary 0/1</td>\n",
       "      <td>3371</td>\n",
       "      <td>race</td>\n",
       "      <td>?</td>\n",
       "      <td>0.552239</td>\n",
       "      <td>0.929461</td>\n",
       "      <td>0.211268</td>\n",
       "      <td>0.186813</td>\n",
       "      <td>0.070539</td>\n",
       "      <td>0.447761</td>\n",
       "      <td>0.788732</td>\n",
       "      <td>0.813187</td>\n",
       "      <td>91</td>\n",
       "      <td>284</td>\n",
       "      <td>0.026995</td>\n",
       "      <td>0.242667</td>\n",
       "      <td>17</td>\n",
       "      <td>60</td>\n",
       "      <td>224</td>\n",
       "      <td>74</td>\n",
       "      <td>134</td>\n",
       "      <td>241</td>\n",
       "      <td>375</td>\n",
       "      <td>14304</td>\n",
       "      <td>0.357333</td>\n",
       "      <td>0.036768</td>\n",
       "      <td>1.044300</td>\n",
       "      <td>1.075127</td>\n",
       "      <td>0.766771</td>\n",
       "      <td>0.830844</td>\n",
       "      <td>0.783771</td>\n",
       "      <td>0.850940</td>\n",
       "      <td>1.165542</td>\n",
       "      <td>1.021385</td>\n",
       "      <td>1.057680</td>\n",
       "      <td>Caucasian</td>\n",
       "      <td>Caucasian</td>\n",
       "      <td>Caucasian</td>\n",
       "      <td>Caucasian</td>\n",
       "      <td>Caucasian</td>\n",
       "      <td>Caucasian</td>\n",
       "      <td>Caucasian</td>\n",
       "      <td>Caucasian</td>\n",
       "      <td>Caucasian</td>\n",
       "      <td>Caucasian</td>\n",
       "      <td>False</td>\n",
       "      <td>True</td>\n",
       "      <td>False</td>\n",
       "      <td>False</td>\n",
       "      <td>True</td>\n",
       "      <td>True</td>\n",
       "      <td>True</td>\n",
       "      <td>True</td>\n",
       "      <td>True</td>\n",
       "      <td>True</td>\n",
       "      <td>False</td>\n",
       "      <td>True</td>\n",
       "      <td>False</td>\n",
       "      <td>False</td>\n",
       "      <td>False</td>\n",
       "    </tr>\n",
       "    <tr>\n",
       "      <th>1</th>\n",
       "      <td>1</td>\n",
       "      <td>binary 0/1</td>\n",
       "      <td>3371</td>\n",
       "      <td>race</td>\n",
       "      <td>AfricanAmerican</td>\n",
       "      <td>0.481818</td>\n",
       "      <td>0.898097</td>\n",
       "      <td>0.259615</td>\n",
       "      <td>0.258165</td>\n",
       "      <td>0.101903</td>\n",
       "      <td>0.518182</td>\n",
       "      <td>0.740385</td>\n",
       "      <td>0.741835</td>\n",
       "      <td>643</td>\n",
       "      <td>1976</td>\n",
       "      <td>0.190745</td>\n",
       "      <td>0.245514</td>\n",
       "      <td>166</td>\n",
       "      <td>513</td>\n",
       "      <td>1463</td>\n",
       "      <td>477</td>\n",
       "      <td>990</td>\n",
       "      <td>1629</td>\n",
       "      <td>2619</td>\n",
       "      <td>14304</td>\n",
       "      <td>0.378007</td>\n",
       "      <td>0.259798</td>\n",
       "      <td>1.056551</td>\n",
       "      <td>0.980792</td>\n",
       "      <td>1.059632</td>\n",
       "      <td>1.020979</td>\n",
       "      <td>1.132256</td>\n",
       "      <td>0.984770</td>\n",
       "      <td>1.016914</td>\n",
       "      <td>0.986920</td>\n",
       "      <td>0.992846</td>\n",
       "      <td>Caucasian</td>\n",
       "      <td>Caucasian</td>\n",
       "      <td>Caucasian</td>\n",
       "      <td>Caucasian</td>\n",
       "      <td>Caucasian</td>\n",
       "      <td>Caucasian</td>\n",
       "      <td>Caucasian</td>\n",
       "      <td>Caucasian</td>\n",
       "      <td>Caucasian</td>\n",
       "      <td>Caucasian</td>\n",
       "      <td>False</td>\n",
       "      <td>True</td>\n",
       "      <td>True</td>\n",
       "      <td>True</td>\n",
       "      <td>True</td>\n",
       "      <td>True</td>\n",
       "      <td>True</td>\n",
       "      <td>True</td>\n",
       "      <td>True</td>\n",
       "      <td>True</td>\n",
       "      <td>True</td>\n",
       "      <td>True</td>\n",
       "      <td>True</td>\n",
       "      <td>False</td>\n",
       "      <td>True</td>\n",
       "    </tr>\n",
       "    <tr>\n",
       "      <th>2</th>\n",
       "      <td>1</td>\n",
       "      <td>binary 0/1</td>\n",
       "      <td>3371</td>\n",
       "      <td>race</td>\n",
       "      <td>Asian</td>\n",
       "      <td>0.538462</td>\n",
       "      <td>0.935897</td>\n",
       "      <td>0.141176</td>\n",
       "      <td>0.263158</td>\n",
       "      <td>0.064103</td>\n",
       "      <td>0.461538</td>\n",
       "      <td>0.858824</td>\n",
       "      <td>0.736842</td>\n",
       "      <td>19</td>\n",
       "      <td>85</td>\n",
       "      <td>0.005636</td>\n",
       "      <td>0.182692</td>\n",
       "      <td>5</td>\n",
       "      <td>12</td>\n",
       "      <td>73</td>\n",
       "      <td>14</td>\n",
       "      <td>26</td>\n",
       "      <td>78</td>\n",
       "      <td>104</td>\n",
       "      <td>14304</td>\n",
       "      <td>0.250000</td>\n",
       "      <td>0.007677</td>\n",
       "      <td>0.786204</td>\n",
       "      <td>0.974190</td>\n",
       "      <td>1.080126</td>\n",
       "      <td>0.555199</td>\n",
       "      <td>0.712251</td>\n",
       "      <td>0.877123</td>\n",
       "      <td>1.136464</td>\n",
       "      <td>1.028459</td>\n",
       "      <td>1.151672</td>\n",
       "      <td>Caucasian</td>\n",
       "      <td>Caucasian</td>\n",
       "      <td>Caucasian</td>\n",
       "      <td>Caucasian</td>\n",
       "      <td>Caucasian</td>\n",
       "      <td>Caucasian</td>\n",
       "      <td>Caucasian</td>\n",
       "      <td>Caucasian</td>\n",
       "      <td>Caucasian</td>\n",
       "      <td>Caucasian</td>\n",
       "      <td>False</td>\n",
       "      <td>False</td>\n",
       "      <td>True</td>\n",
       "      <td>False</td>\n",
       "      <td>False</td>\n",
       "      <td>True</td>\n",
       "      <td>True</td>\n",
       "      <td>True</td>\n",
       "      <td>True</td>\n",
       "      <td>True</td>\n",
       "      <td>False</td>\n",
       "      <td>False</td>\n",
       "      <td>False</td>\n",
       "      <td>False</td>\n",
       "      <td>False</td>\n",
       "    </tr>\n",
       "    <tr>\n",
       "      <th>3</th>\n",
       "      <td>1</td>\n",
       "      <td>binary 0/1</td>\n",
       "      <td>3371</td>\n",
       "      <td>race</td>\n",
       "      <td>Caucasian</td>\n",
       "      <td>0.473804</td>\n",
       "      <td>0.910000</td>\n",
       "      <td>0.254281</td>\n",
       "      <td>0.243636</td>\n",
       "      <td>0.090000</td>\n",
       "      <td>0.526196</td>\n",
       "      <td>0.745719</td>\n",
       "      <td>0.756364</td>\n",
       "      <td>2475</td>\n",
       "      <td>8176</td>\n",
       "      <td>0.734204</td>\n",
       "      <td>0.232373</td>\n",
       "      <td>603</td>\n",
       "      <td>2079</td>\n",
       "      <td>6097</td>\n",
       "      <td>1872</td>\n",
       "      <td>3951</td>\n",
       "      <td>6700</td>\n",
       "      <td>10651</td>\n",
       "      <td>14304</td>\n",
       "      <td>0.370951</td>\n",
       "      <td>1.000000</td>\n",
       "      <td>1.000000</td>\n",
       "      <td>1.000000</td>\n",
       "      <td>1.000000</td>\n",
       "      <td>1.000000</td>\n",
       "      <td>1.000000</td>\n",
       "      <td>1.000000</td>\n",
       "      <td>1.000000</td>\n",
       "      <td>1.000000</td>\n",
       "      <td>1.000000</td>\n",
       "      <td>Caucasian</td>\n",
       "      <td>Caucasian</td>\n",
       "      <td>Caucasian</td>\n",
       "      <td>Caucasian</td>\n",
       "      <td>Caucasian</td>\n",
       "      <td>Caucasian</td>\n",
       "      <td>Caucasian</td>\n",
       "      <td>Caucasian</td>\n",
       "      <td>Caucasian</td>\n",
       "      <td>Caucasian</td>\n",
       "      <td>True</td>\n",
       "      <td>True</td>\n",
       "      <td>True</td>\n",
       "      <td>True</td>\n",
       "      <td>True</td>\n",
       "      <td>True</td>\n",
       "      <td>True</td>\n",
       "      <td>True</td>\n",
       "      <td>True</td>\n",
       "      <td>True</td>\n",
       "      <td>True</td>\n",
       "      <td>True</td>\n",
       "      <td>True</td>\n",
       "      <td>True</td>\n",
       "      <td>True</td>\n",
       "    </tr>\n",
       "    <tr>\n",
       "      <th>4</th>\n",
       "      <td>1</td>\n",
       "      <td>binary 0/1</td>\n",
       "      <td>3371</td>\n",
       "      <td>race</td>\n",
       "      <td>Hispanic</td>\n",
       "      <td>0.576923</td>\n",
       "      <td>0.895928</td>\n",
       "      <td>0.181818</td>\n",
       "      <td>0.277108</td>\n",
       "      <td>0.104072</td>\n",
       "      <td>0.423077</td>\n",
       "      <td>0.818182</td>\n",
       "      <td>0.722892</td>\n",
       "      <td>83</td>\n",
       "      <td>242</td>\n",
       "      <td>0.024622</td>\n",
       "      <td>0.255385</td>\n",
       "      <td>23</td>\n",
       "      <td>44</td>\n",
       "      <td>198</td>\n",
       "      <td>60</td>\n",
       "      <td>104</td>\n",
       "      <td>221</td>\n",
       "      <td>325</td>\n",
       "      <td>14304</td>\n",
       "      <td>0.320000</td>\n",
       "      <td>0.033535</td>\n",
       "      <td>1.099031</td>\n",
       "      <td>0.955746</td>\n",
       "      <td>1.137385</td>\n",
       "      <td>0.715029</td>\n",
       "      <td>1.156360</td>\n",
       "      <td>0.804029</td>\n",
       "      <td>1.217641</td>\n",
       "      <td>0.984536</td>\n",
       "      <td>1.097171</td>\n",
       "      <td>Caucasian</td>\n",
       "      <td>Caucasian</td>\n",
       "      <td>Caucasian</td>\n",
       "      <td>Caucasian</td>\n",
       "      <td>Caucasian</td>\n",
       "      <td>Caucasian</td>\n",
       "      <td>Caucasian</td>\n",
       "      <td>Caucasian</td>\n",
       "      <td>Caucasian</td>\n",
       "      <td>Caucasian</td>\n",
       "      <td>False</td>\n",
       "      <td>True</td>\n",
       "      <td>True</td>\n",
       "      <td>True</td>\n",
       "      <td>False</td>\n",
       "      <td>True</td>\n",
       "      <td>True</td>\n",
       "      <td>True</td>\n",
       "      <td>True</td>\n",
       "      <td>True</td>\n",
       "      <td>True</td>\n",
       "      <td>False</td>\n",
       "      <td>True</td>\n",
       "      <td>False</td>\n",
       "      <td>False</td>\n",
       "    </tr>\n",
       "    <tr>\n",
       "      <th>5</th>\n",
       "      <td>1</td>\n",
       "      <td>binary 0/1</td>\n",
       "      <td>3371</td>\n",
       "      <td>race</td>\n",
       "      <td>Other</td>\n",
       "      <td>0.626667</td>\n",
       "      <td>0.916129</td>\n",
       "      <td>0.164706</td>\n",
       "      <td>0.216667</td>\n",
       "      <td>0.083871</td>\n",
       "      <td>0.373333</td>\n",
       "      <td>0.835294</td>\n",
       "      <td>0.783333</td>\n",
       "      <td>60</td>\n",
       "      <td>170</td>\n",
       "      <td>0.017799</td>\n",
       "      <td>0.260870</td>\n",
       "      <td>13</td>\n",
       "      <td>28</td>\n",
       "      <td>142</td>\n",
       "      <td>47</td>\n",
       "      <td>75</td>\n",
       "      <td>155</td>\n",
       "      <td>230</td>\n",
       "      <td>14304</td>\n",
       "      <td>0.326087</td>\n",
       "      <td>0.024242</td>\n",
       "      <td>1.122635</td>\n",
       "      <td>1.035657</td>\n",
       "      <td>0.889303</td>\n",
       "      <td>0.647732</td>\n",
       "      <td>0.931900</td>\n",
       "      <td>0.709495</td>\n",
       "      <td>1.322628</td>\n",
       "      <td>1.006735</td>\n",
       "      <td>1.120119</td>\n",
       "      <td>Caucasian</td>\n",
       "      <td>Caucasian</td>\n",
       "      <td>Caucasian</td>\n",
       "      <td>Caucasian</td>\n",
       "      <td>Caucasian</td>\n",
       "      <td>Caucasian</td>\n",
       "      <td>Caucasian</td>\n",
       "      <td>Caucasian</td>\n",
       "      <td>Caucasian</td>\n",
       "      <td>Caucasian</td>\n",
       "      <td>False</td>\n",
       "      <td>True</td>\n",
       "      <td>True</td>\n",
       "      <td>True</td>\n",
       "      <td>False</td>\n",
       "      <td>False</td>\n",
       "      <td>False</td>\n",
       "      <td>True</td>\n",
       "      <td>True</td>\n",
       "      <td>True</td>\n",
       "      <td>True</td>\n",
       "      <td>False</td>\n",
       "      <td>False</td>\n",
       "      <td>False</td>\n",
       "      <td>False</td>\n",
       "    </tr>\n",
       "    <tr>\n",
       "      <th>6</th>\n",
       "      <td>1</td>\n",
       "      <td>binary 0/1</td>\n",
       "      <td>3371</td>\n",
       "      <td>gender</td>\n",
       "      <td>Female</td>\n",
       "      <td>0.475364</td>\n",
       "      <td>0.904822</td>\n",
       "      <td>0.260286</td>\n",
       "      <td>0.248079</td>\n",
       "      <td>0.095178</td>\n",
       "      <td>0.524636</td>\n",
       "      <td>0.739714</td>\n",
       "      <td>0.751921</td>\n",
       "      <td>1822</td>\n",
       "      <td>5809</td>\n",
       "      <td>0.540492</td>\n",
       "      <td>0.238763</td>\n",
       "      <td>452</td>\n",
       "      <td>1512</td>\n",
       "      <td>4297</td>\n",
       "      <td>1370</td>\n",
       "      <td>2882</td>\n",
       "      <td>4749</td>\n",
       "      <td>7631</td>\n",
       "      <td>14304</td>\n",
       "      <td>0.377670</td>\n",
       "      <td>1.176243</td>\n",
       "      <td>1.028577</td>\n",
       "      <td>0.992100</td>\n",
       "      <td>1.024732</td>\n",
       "      <td>1.089628</td>\n",
       "      <td>1.085028</td>\n",
       "      <td>1.027840</td>\n",
       "      <td>0.970974</td>\n",
       "      <td>0.991824</td>\n",
       "      <td>0.971871</td>\n",
       "      <td>Male</td>\n",
       "      <td>Male</td>\n",
       "      <td>Male</td>\n",
       "      <td>Male</td>\n",
       "      <td>Male</td>\n",
       "      <td>Male</td>\n",
       "      <td>Male</td>\n",
       "      <td>Male</td>\n",
       "      <td>Male</td>\n",
       "      <td>Male</td>\n",
       "      <td>True</td>\n",
       "      <td>True</td>\n",
       "      <td>True</td>\n",
       "      <td>True</td>\n",
       "      <td>True</td>\n",
       "      <td>True</td>\n",
       "      <td>True</td>\n",
       "      <td>True</td>\n",
       "      <td>True</td>\n",
       "      <td>True</td>\n",
       "      <td>True</td>\n",
       "      <td>True</td>\n",
       "      <td>True</td>\n",
       "      <td>True</td>\n",
       "      <td>True</td>\n",
       "    </tr>\n",
       "    <tr>\n",
       "      <th>7</th>\n",
       "      <td>1</td>\n",
       "      <td>binary 0/1</td>\n",
       "      <td>3371</td>\n",
       "      <td>gender</td>\n",
       "      <td>Male</td>\n",
       "      <td>0.489575</td>\n",
       "      <td>0.912281</td>\n",
       "      <td>0.238876</td>\n",
       "      <td>0.242092</td>\n",
       "      <td>0.087719</td>\n",
       "      <td>0.510425</td>\n",
       "      <td>0.761124</td>\n",
       "      <td>0.757908</td>\n",
       "      <td>1549</td>\n",
       "      <td>5124</td>\n",
       "      <td>0.459508</td>\n",
       "      <td>0.232129</td>\n",
       "      <td>375</td>\n",
       "      <td>1224</td>\n",
       "      <td>3900</td>\n",
       "      <td>1174</td>\n",
       "      <td>2398</td>\n",
       "      <td>4275</td>\n",
       "      <td>6673</td>\n",
       "      <td>14304</td>\n",
       "      <td>0.359359</td>\n",
       "      <td>1.000000</td>\n",
       "      <td>1.000000</td>\n",
       "      <td>1.000000</td>\n",
       "      <td>1.000000</td>\n",
       "      <td>1.000000</td>\n",
       "      <td>1.000000</td>\n",
       "      <td>1.000000</td>\n",
       "      <td>1.000000</td>\n",
       "      <td>1.000000</td>\n",
       "      <td>1.000000</td>\n",
       "      <td>Male</td>\n",
       "      <td>Male</td>\n",
       "      <td>Male</td>\n",
       "      <td>Male</td>\n",
       "      <td>Male</td>\n",
       "      <td>Male</td>\n",
       "      <td>Male</td>\n",
       "      <td>Male</td>\n",
       "      <td>Male</td>\n",
       "      <td>Male</td>\n",
       "      <td>True</td>\n",
       "      <td>True</td>\n",
       "      <td>True</td>\n",
       "      <td>True</td>\n",
       "      <td>True</td>\n",
       "      <td>True</td>\n",
       "      <td>True</td>\n",
       "      <td>True</td>\n",
       "      <td>True</td>\n",
       "      <td>True</td>\n",
       "      <td>True</td>\n",
       "      <td>True</td>\n",
       "      <td>True</td>\n",
       "      <td>True</td>\n",
       "      <td>True</td>\n",
       "    </tr>\n",
       "  </tbody>\n",
       "</table>\n",
       "</div>"
      ],
      "text/plain": [
       "   model_id score_threshold     k attribute_name  attribute_value       tpr  \\\n",
       "0         1      binary 0/1  3371           race                ?  0.552239   \n",
       "1         1      binary 0/1  3371           race  AfricanAmerican  0.481818   \n",
       "2         1      binary 0/1  3371           race            Asian  0.538462   \n",
       "3         1      binary 0/1  3371           race        Caucasian  0.473804   \n",
       "4         1      binary 0/1  3371           race         Hispanic  0.576923   \n",
       "5         1      binary 0/1  3371           race            Other  0.626667   \n",
       "6         1      binary 0/1  3371         gender           Female  0.475364   \n",
       "7         1      binary 0/1  3371         gender             Male  0.489575   \n",
       "\n",
       "        tnr       for       fdr       fpr       fnr       npv  precision  \\\n",
       "0  0.929461  0.211268  0.186813  0.070539  0.447761  0.788732   0.813187   \n",
       "1  0.898097  0.259615  0.258165  0.101903  0.518182  0.740385   0.741835   \n",
       "2  0.935897  0.141176  0.263158  0.064103  0.461538  0.858824   0.736842   \n",
       "3  0.910000  0.254281  0.243636  0.090000  0.526196  0.745719   0.756364   \n",
       "4  0.895928  0.181818  0.277108  0.104072  0.423077  0.818182   0.722892   \n",
       "5  0.916129  0.164706  0.216667  0.083871  0.373333  0.835294   0.783333   \n",
       "6  0.904822  0.260286  0.248079  0.095178  0.524636  0.739714   0.751921   \n",
       "7  0.912281  0.238876  0.242092  0.087719  0.510425  0.761124   0.757908   \n",
       "\n",
       "     pp    pn       ppr     pprev   fp    fn    tn    tp  group_label_pos  \\\n",
       "0    91   284  0.026995  0.242667   17    60   224    74              134   \n",
       "1   643  1976  0.190745  0.245514  166   513  1463   477              990   \n",
       "2    19    85  0.005636  0.182692    5    12    73    14               26   \n",
       "3  2475  8176  0.734204  0.232373  603  2079  6097  1872             3951   \n",
       "4    83   242  0.024622  0.255385   23    44   198    60              104   \n",
       "5    60   170  0.017799  0.260870   13    28   142    47               75   \n",
       "6  1822  5809  0.540492  0.238763  452  1512  4297  1370             2882   \n",
       "7  1549  5124  0.459508  0.232129  375  1224  3900  1174             2398   \n",
       "\n",
       "   group_label_neg  group_size  total_entities      prev  ppr_disparity  \\\n",
       "0              241         375           14304  0.357333       0.036768   \n",
       "1             1629        2619           14304  0.378007       0.259798   \n",
       "2               78         104           14304  0.250000       0.007677   \n",
       "3             6700       10651           14304  0.370951       1.000000   \n",
       "4              221         325           14304  0.320000       0.033535   \n",
       "5              155         230           14304  0.326087       0.024242   \n",
       "6             4749        7631           14304  0.377670       1.176243   \n",
       "7             4275        6673           14304  0.359359       1.000000   \n",
       "\n",
       "   pprev_disparity  precision_disparity  fdr_disparity  for_disparity  \\\n",
       "0         1.044300             1.075127       0.766771       0.830844   \n",
       "1         1.056551             0.980792       1.059632       1.020979   \n",
       "2         0.786204             0.974190       1.080126       0.555199   \n",
       "3         1.000000             1.000000       1.000000       1.000000   \n",
       "4         1.099031             0.955746       1.137385       0.715029   \n",
       "5         1.122635             1.035657       0.889303       0.647732   \n",
       "6         1.028577             0.992100       1.024732       1.089628   \n",
       "7         1.000000             1.000000       1.000000       1.000000   \n",
       "\n",
       "   fpr_disparity  fnr_disparity  tpr_disparity  tnr_disparity  npv_disparity  \\\n",
       "0       0.783771       0.850940       1.165542       1.021385       1.057680   \n",
       "1       1.132256       0.984770       1.016914       0.986920       0.992846   \n",
       "2       0.712251       0.877123       1.136464       1.028459       1.151672   \n",
       "3       1.000000       1.000000       1.000000       1.000000       1.000000   \n",
       "4       1.156360       0.804029       1.217641       0.984536       1.097171   \n",
       "5       0.931900       0.709495       1.322628       1.006735       1.120119   \n",
       "6       1.085028       1.027840       0.970974       0.991824       0.971871   \n",
       "7       1.000000       1.000000       1.000000       1.000000       1.000000   \n",
       "\n",
       "  ppr_ref_group_value pprev_ref_group_value precision_ref_group_value  \\\n",
       "0           Caucasian             Caucasian                 Caucasian   \n",
       "1           Caucasian             Caucasian                 Caucasian   \n",
       "2           Caucasian             Caucasian                 Caucasian   \n",
       "3           Caucasian             Caucasian                 Caucasian   \n",
       "4           Caucasian             Caucasian                 Caucasian   \n",
       "5           Caucasian             Caucasian                 Caucasian   \n",
       "6                Male                  Male                      Male   \n",
       "7                Male                  Male                      Male   \n",
       "\n",
       "  fdr_ref_group_value for_ref_group_value fpr_ref_group_value  \\\n",
       "0           Caucasian           Caucasian           Caucasian   \n",
       "1           Caucasian           Caucasian           Caucasian   \n",
       "2           Caucasian           Caucasian           Caucasian   \n",
       "3           Caucasian           Caucasian           Caucasian   \n",
       "4           Caucasian           Caucasian           Caucasian   \n",
       "5           Caucasian           Caucasian           Caucasian   \n",
       "6                Male                Male                Male   \n",
       "7                Male                Male                Male   \n",
       "\n",
       "  fnr_ref_group_value tpr_ref_group_value tnr_ref_group_value  \\\n",
       "0           Caucasian           Caucasian           Caucasian   \n",
       "1           Caucasian           Caucasian           Caucasian   \n",
       "2           Caucasian           Caucasian           Caucasian   \n",
       "3           Caucasian           Caucasian           Caucasian   \n",
       "4           Caucasian           Caucasian           Caucasian   \n",
       "5           Caucasian           Caucasian           Caucasian   \n",
       "6                Male                Male                Male   \n",
       "7                Male                Male                Male   \n",
       "\n",
       "  npv_ref_group_value  Statistical Parity  Impact Parity  FDR Parity  \\\n",
       "0           Caucasian               False           True       False   \n",
       "1           Caucasian               False           True        True   \n",
       "2           Caucasian               False          False        True   \n",
       "3           Caucasian                True           True        True   \n",
       "4           Caucasian               False           True        True   \n",
       "5           Caucasian               False           True        True   \n",
       "6                Male                True           True        True   \n",
       "7                Male                True           True        True   \n",
       "\n",
       "   FPR Parity  FOR Parity  FNR Parity  TPR Parity  TNR Parity  NPV Parity  \\\n",
       "0       False        True        True        True        True        True   \n",
       "1        True        True        True        True        True        True   \n",
       "2       False       False        True        True        True        True   \n",
       "3        True        True        True        True        True        True   \n",
       "4        True       False        True        True        True        True   \n",
       "5        True       False       False       False        True        True   \n",
       "6        True        True        True        True        True        True   \n",
       "7        True        True        True        True        True        True   \n",
       "\n",
       "   Precision Parity  TypeI Parity  TypeII Parity  Equalized Odds  \\\n",
       "0              True         False           True           False   \n",
       "1              True          True           True            True   \n",
       "2              True         False          False           False   \n",
       "3              True          True           True            True   \n",
       "4              True          True          False            True   \n",
       "5              True          True          False           False   \n",
       "6              True          True           True            True   \n",
       "7              True          True           True            True   \n",
       "\n",
       "   Unsupervised Fairness  Supervised Fairness  \n",
       "0                  False                False  \n",
       "1                  False                 True  \n",
       "2                  False                False  \n",
       "3                   True                 True  \n",
       "4                  False                False  \n",
       "5                  False                False  \n",
       "6                   True                 True  \n",
       "7                   True                 True  "
      ]
     },
     "execution_count": 99,
     "metadata": {},
     "output_type": "execute_result"
    }
   ],
   "source": [
    "fdf"
   ]
  },
  {
   "cell_type": "code",
   "execution_count": 101,
   "metadata": {},
   "outputs": [
    {
     "data": {
      "image/png": "[encoded data removed]",
      "text/plain": [
       "<Figure size 360x288 with 2 Axes>"
      ]
     },
     "metadata": {
      "needs_background": "light"
     },
     "output_type": "display_data"
    }
   ],
   "source": [
    "# Reference group fairness plot\\\n",
    "aqp.plot_disparity(fdf, group_metric='tpr_disparity', attribute_name='race')"
   ]
  },
  {
   "cell_type": "code",
   "execution_count": 102,
   "metadata": {},
   "outputs": [
    {
     "data": {
      "image/png": "[encoded data removed]",
      "text/plain": [
       "<Figure size 360x288 with 2 Axes>"
      ]
     },
     "metadata": {
      "needs_background": "light"
     },
     "output_type": "display_data"
    }
   ],
   "source": [
    "# Reference group fairness plot\\\n",
    "aqp.plot_disparity(fdf, group_metric='tpr_disparity', attribute_name='gender')"
   ]
  },
  {
   "cell_type": "code",
   "execution_count": 105,
   "metadata": {},
   "outputs": [
    {
     "data": {
      "image/png": "[encoded data removed]",
      "text/plain": [
       "<Figure size 360x288 with 2 Axes>"
      ]
     },
     "metadata": {
      "needs_background": "light"
     },
     "output_type": "display_data"
    }
   ],
   "source": [
    "# Reference group fairness plot\\\n",
    "aqp.plot_disparity(fdf, group_metric='precision_disparity', attribute_name='race')"
   ]
  },
  {
   "cell_type": "code",
   "execution_count": 104,
   "metadata": {},
   "outputs": [
    {
     "data": {
      "image/png": "[encoded data removed]",
      "text/plain": [
       "<Figure size 360x288 with 2 Axes>"
      ]
     },
     "metadata": {
      "needs_background": "light"
     },
     "output_type": "display_data"
    }
   ],
   "source": [
    "# Reference group fairness plot\\\n",
    "aqp.plot_disparity(fdf, group_metric='precision_disparity', attribute_name='gender')"
   ]
  },
  {
   "cell_type": "markdown",
   "metadata": {},
   "source": [
    "### Interpretation\n",
    "\n",
    "Looking at the statistics regarding group dispairites we once again see only minor differences. Where the differences exist they are hard to interpret, Both `Caucasian` and `African-American` have lower true-positive rates than the others, but also larger sample sizes. Given that the differences are potentially the result of sampling errors, and that they are not significant enough to affect the algorithm, we can say that the algorithm is unbiased with regards to race and gender in all the categories we have looked at."
   ]
  }
 ],
 "metadata": {
  "kernelspec": {
   "display_name": "Python 3",
   "language": "python",
   "name": "python3"
  },
  "language_info": {
   "codemirror_mode": {
    "name": "ipython",
    "version": 3
   },
   "file_extension": ".py",
   "mimetype": "text/x-python",
   "name": "python",
   "nbconvert_exporter": "python",
   "pygments_lexer": "ipython3",
   "version": "3.7.7"
  }
 },
 "nbformat": 4,
 "nbformat_minor": 4
}
