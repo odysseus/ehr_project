{
 "cells": [
  {
   "cell_type": "markdown",
   "metadata": {},
   "source": [
    "# EHR Project Extract/Transform/Load"
   ]
  },
  {
   "cell_type": "code",
   "execution_count": 1,
   "metadata": {
    "scrolled": false
   },
   "outputs": [],
   "source": [
    "# from __future__ import absolute_import, division, print_function, unicode_literals\n",
    "import os\n",
    "import numpy as np\n",
    "import tensorflow as tf\n",
    "from tensorflow.keras import layers\n",
    "import tensorflow_probability as tfp\n",
    "# import tensorflow_data_validation as tfdv # blursed library\n",
    "import matplotlib.pyplot as plt\n",
    "import seaborn as sns\n",
    "import pandas as pd\n",
    "import aequitas as ae"
   ]
  },
  {
   "cell_type": "code",
   "execution_count": 2,
   "metadata": {
    "scrolled": true
   },
   "outputs": [],
   "source": [
    "# Put all of the helper functions in utils\n",
    "from utils import build_vocab_files, show_group_stats_viz, aggregate_dataset, preprocess_df, df_to_dataset, posterior_mean_field, prior_trainable\n",
    "pd.set_option('display.max_columns', 500)\n",
    "\n",
    "# this allows you to make changes and save in student_utils.py and the file is reloaded every time you run a code block\n",
    "%load_ext autoreload\n",
    "%autoreload"
   ]
  },
  {
   "cell_type": "code",
   "execution_count": 3,
   "metadata": {},
   "outputs": [],
   "source": [
    "#OPEN ISSUE ON MAC OSX for TF model training\n",
    "import os\n",
    "os.environ['KMP_DUPLICATE_LIB_OK']='True'"
   ]
  },
  {
   "cell_type": "code",
   "execution_count": 4,
   "metadata": {},
   "outputs": [
    {
     "data": {
      "text/plain": [
       "[PhysicalDevice(name='/physical_device:GPU:0', device_type='GPU')]"
      ]
     },
     "execution_count": 4,
     "metadata": {},
     "output_type": "execute_result"
    }
   ],
   "source": [
    "tf.config.list_physical_devices('GPU')"
   ]
  },
  {
   "cell_type": "code",
   "execution_count": 5,
   "metadata": {},
   "outputs": [],
   "source": [
    "dataset_path = \"./data/final_project_dataset.csv\"\n",
    "df = pd.read_csv(dataset_path)"
   ]
  },
  {
   "cell_type": "markdown",
   "metadata": {},
   "source": [
    "## Reduce Dimensionality of the NDC Code Feature"
   ]
  },
  {
   "cell_type": "markdown",
   "metadata": {},
   "source": [
    "**Question 3**: NDC codes are a common format to represent the wide variety of drugs that are prescribed for patient care in the United States. The challenge is that there are many codes that map to the same or similar drug. You are provided with the ndc drug lookup file https://github.com/udacity/nd320-c1-emr-data-starter/blob/master/project/data_schema_references/ndc_lookup_table.csv derived from the National Drug Codes List site(https://ndclist.com/). Please use this file to come up with a way to reduce the dimensionality of this field and create a new field in the dataset called \"generic_drug_name\" in the output dataframe. "
   ]
  },
  {
   "cell_type": "code",
   "execution_count": 6,
   "metadata": {},
   "outputs": [],
   "source": [
    "#NDC code lookup file\n",
    "ndc_code_path = \"./medication_lookup_tables/final_ndc_lookup_table\"\n",
    "ndc_code_df = pd.read_csv(ndc_code_path)"
   ]
  },
  {
   "cell_type": "code",
   "execution_count": 7,
   "metadata": {},
   "outputs": [],
   "source": [
    "from student_utils import reduce_dimension_ndc"
   ]
  },
  {
   "cell_type": "code",
   "execution_count": 8,
   "metadata": {},
   "outputs": [],
   "source": [
    "reduce_dim_df = reduce_dimension_ndc(df, ndc_code_df)"
   ]
  },
  {
   "cell_type": "code",
   "execution_count": 9,
   "metadata": {},
   "outputs": [],
   "source": [
    "# Number of unique values should be less for the new output field\n",
    "assert df['ndc_code'].nunique() > reduce_dim_df['generic_drug_name'].nunique()"
   ]
  },
  {
   "cell_type": "code",
   "execution_count": 10,
   "metadata": {},
   "outputs": [
    {
     "data": {
      "text/plain": [
       "0.09163346613545817"
      ]
     },
     "execution_count": 10,
     "metadata": {},
     "output_type": "execute_result"
    }
   ],
   "source": [
    "reduce_dim_df.generic_drug_name.nunique() / df.ndc_code.nunique()"
   ]
  },
  {
   "cell_type": "code",
   "execution_count": 11,
   "metadata": {},
   "outputs": [
    {
     "data": {
      "text/plain": [
       "23"
      ]
     },
     "execution_count": 11,
     "metadata": {},
     "output_type": "execute_result"
    }
   ],
   "source": [
    "reduce_dim_df.generic_drug_name.nunique()"
   ]
  },
  {
   "cell_type": "code",
   "execution_count": 12,
   "metadata": {},
   "outputs": [
    {
     "data": {
      "text/plain": [
       "array(['None', 'Human Insulin', 'Glipizide', 'Insulin Human',\n",
       "       'Metformin Hydrochloride', 'Glimepiride', 'Glyburide',\n",
       "       'Rosiglitazone Maleate', 'Repaglinide', 'Acarbose', 'Tolbutamide',\n",
       "       'Tolazamide', 'Pioglitazone', 'Metformin Hcl',\n",
       "       'Pioglitazone Hydrochloride And Glimepiride',\n",
       "       'Glyburide-metformin Hydrochloride', 'Nateglinide',\n",
       "       'Glyburide And Metformin Hydrochloride', 'Miglitol',\n",
       "       'Glipizide And Metformin Hydrochloride',\n",
       "       'Glipizide And Metformin Hcl', 'Pioglitazone And Glimepiride',\n",
       "       'Pioglitazole And Metformin Hydrochloride'], dtype=object)"
      ]
     },
     "execution_count": 12,
     "metadata": {},
     "output_type": "execute_result"
    }
   ],
   "source": [
    "reduce_dim_df.generic_drug_name.unique()"
   ]
  },
  {
   "cell_type": "markdown",
   "metadata": {},
   "source": [
    "## Select First Encounter for each Patient "
   ]
  },
  {
   "cell_type": "markdown",
   "metadata": {},
   "source": [
    "**Question 4**: In order to simplify the aggregation of data for the model, we will only select the first encounter for each patient in the dataset. This is to reduce the risk of data leakage of future patient encounters and to reduce complexity of the data transformation and modeling steps. We will assume that sorting in numerical order on the encounter_id provides the time horizon for determining which encounters come before and after another."
   ]
  },
  {
   "cell_type": "code",
   "execution_count": 13,
   "metadata": {},
   "outputs": [],
   "source": [
    "from student_utils import select_first_encounter\n",
    "first_encounter_df = select_first_encounter(reduce_dim_df)"
   ]
  },
  {
   "cell_type": "code",
   "execution_count": 14,
   "metadata": {},
   "outputs": [
    {
     "name": "stdout",
     "output_type": "stream",
     "text": [
      "Number of unique patients:71518\n",
      "Number of unique encounters:71518\n",
      "Tests passed!!\n"
     ]
    }
   ],
   "source": [
    "# unique patients in transformed dataset\n",
    "unique_patients = first_encounter_df['patient_nbr'].nunique()\n",
    "print(\"Number of unique patients:{}\".format(unique_patients))\n",
    "\n",
    "# unique encounters in transformed dataset\n",
    "unique_encounters = first_encounter_df['encounter_id'].nunique()\n",
    "print(\"Number of unique encounters:{}\".format(unique_encounters))\n",
    "\n",
    "original_unique_patient_number = reduce_dim_df['patient_nbr'].nunique()\n",
    "# number of unique patients should be equal to the number of unique encounters and patients in the final dataset\n",
    "assert original_unique_patient_number == unique_patients\n",
    "assert original_unique_patient_number == unique_encounters\n",
    "print(\"Tests passed!!\")"
   ]
  },
  {
   "cell_type": "markdown",
   "metadata": {},
   "source": [
    "## Aggregate at the first-encounter level\n",
    "\n",
    "We need to ensure that every encounter is only a single row, and since we have already changed to one encounter per patient this further means that the number of patients, rows, and encounters should all be equal."
   ]
  },
  {
   "cell_type": "code",
   "execution_count": 15,
   "metadata": {},
   "outputs": [],
   "source": [
    "agg = first_encounter_df.groupby('encounter_id').agg(lambda c: [x for x in c if x is not None]).reset_index()"
   ]
  },
  {
   "cell_type": "code",
   "execution_count": 16,
   "metadata": {
    "scrolled": false
   },
   "outputs": [],
   "source": [
    "def aggfn(x):\n",
    "    if type(x) == list:\n",
    "        if len(np.unique(x)) == 1:\n",
    "            return x[0]\n",
    "        else:\n",
    "            return x\n",
    "    else:\n",
    "        return x\n",
    "\n",
    "agg = agg.applymap(aggfn)"
   ]
  },
  {
   "cell_type": "code",
   "execution_count": 17,
   "metadata": {},
   "outputs": [],
   "source": [
    "agg.generic_drug_name = agg.generic_drug_name.map(lambda x: [x] if type(x) is str else x)"
   ]
  },
  {
   "cell_type": "code",
   "execution_count": 18,
   "metadata": {},
   "outputs": [],
   "source": [
    "assert agg.patient_nbr.nunique() == agg.encounter_id.nunique() == len(agg)"
   ]
  },
  {
   "cell_type": "markdown",
   "metadata": {},
   "source": [
    "## Feature Selection and Dummy Vars\n",
    "\n",
    "Our dataframe has changed a lot in terms of the rows dimension but has changed very little in terms of columns so the work we did above in the EDA can carry over to here.\n",
    "\n",
    "Previously we identified usable `numeric` columns, usable `categorical` columns and a final group `other` which includes UIDs and columns that are not worth inclusion in the final dataset. Note also that while UIDs are essential for splitting purposes we need to ensure they are removed before training as they can cause overfitting and other issues. Another note is that, compared to the EDA, the `admission_X_id` fields have been removed here as they didn't seem to have any noticeable correlation with our dependent variable.\n",
    "\n",
    "The one outlier here is `generic_drug_name` in which the patient can have multiple categories in one field, so we will need to deal with that on its own. "
   ]
  },
  {
   "cell_type": "code",
   "execution_count": 19,
   "metadata": {},
   "outputs": [],
   "source": [
    "numeric = [\n",
    "    'number_outpatient', \n",
    "    'number_inpatient', \n",
    "    'number_emergency', \n",
    "    'num_lab_procedures',\n",
    "    'number_diagnoses',\n",
    "    'num_medications',\n",
    "    'num_procedures']\n",
    "\n",
    "categorical = [\n",
    "    'race',\n",
    "    'gender',\n",
    "    'age',\n",
    "    'max_glu_serum',\n",
    "    'A1Cresult',\n",
    "    'change',\n",
    "    'readmitted'\n",
    "]\n",
    "\n",
    "ids = [\n",
    "    'encounter_id',\n",
    "    'patient_nbr'\n",
    "]\n",
    "\n",
    "target = ['time_in_hospital']\n",
    "\n",
    "other = [\n",
    "    'admission_type_id',\n",
    "    'discharge_disposition_id',\n",
    "    'admission_source_id',\n",
    "    'other_diagnosis_codes',\n",
    "    'primary_diagnosis_code',\n",
    "    'ndc_code',\n",
    "    'medical_specialty',\n",
    "    'payer_code',\n",
    "    'weight',\n",
    "    'generic_drug_name'\n",
    "]"
   ]
  },
  {
   "cell_type": "code",
   "execution_count": 20,
   "metadata": {},
   "outputs": [
    {
     "name": "stdout",
     "output_type": "stream",
     "text": [
      "\n",
      "Numeric: 7\n",
      "Categorical: 7\n",
      "ID/Other: 13\n",
      "Total: 27\n",
      "\n"
     ]
    }
   ],
   "source": [
    "print(f\"\"\"\n",
    "Numeric: {len(numeric)}\n",
    "Categorical: {len(categorical)}\n",
    "ID/Other: {len(other) + len(ids) + len(target)}\n",
    "Total: {len(numeric) + len(categorical) + len(other) + len(ids) + len(target)}\n",
    "\"\"\")"
   ]
  },
  {
   "cell_type": "code",
   "execution_count": 21,
   "metadata": {},
   "outputs": [
    {
     "data": {
      "text/plain": [
       "27"
      ]
     },
     "execution_count": 21,
     "metadata": {},
     "output_type": "execute_result"
    }
   ],
   "source": [
    "len(agg.columns)"
   ]
  },
  {
   "cell_type": "code",
   "execution_count": 22,
   "metadata": {},
   "outputs": [
    {
     "data": {
      "text/plain": [
       "number_outpatient     int64\n",
       "number_inpatient      int64\n",
       "number_emergency      int64\n",
       "num_lab_procedures    int64\n",
       "number_diagnoses      int64\n",
       "num_medications       int64\n",
       "num_procedures        int64\n",
       "dtype: object"
      ]
     },
     "execution_count": 22,
     "metadata": {},
     "output_type": "execute_result"
    }
   ],
   "source": [
    "agg[numeric].dtypes"
   ]
  },
  {
   "cell_type": "code",
   "execution_count": 23,
   "metadata": {},
   "outputs": [
    {
     "data": {
      "text/plain": [
       "race             object\n",
       "gender           object\n",
       "age              object\n",
       "max_glu_serum    object\n",
       "A1Cresult        object\n",
       "change           object\n",
       "readmitted       object\n",
       "dtype: object"
      ]
     },
     "execution_count": 23,
     "metadata": {},
     "output_type": "execute_result"
    }
   ],
   "source": [
    "agg[categorical].dtypes"
   ]
  },
  {
   "cell_type": "markdown",
   "metadata": {},
   "source": [
    "### Creating Dummy Vars\n",
    "\n",
    "Most of these can be handled automatically but we need to pay special attention to `generic_drug_name` which contains multiple values at once."
   ]
  },
  {
   "cell_type": "markdown",
   "metadata": {},
   "source": [
    "Here we handle `generic_drug_name` using an approach that can identify multiple dummy variables in the same data field. Each of the first three examples includes multiple medications and the final example (index 4) contains only a single medication."
   ]
  },
  {
   "cell_type": "code",
   "execution_count": 24,
   "metadata": {},
   "outputs": [],
   "source": [
    "generic_drug_dummies = agg.generic_drug_name.str.join(sep=',').str.get_dummies(sep=',')"
   ]
  },
  {
   "cell_type": "code",
   "execution_count": 25,
   "metadata": {},
   "outputs": [],
   "source": [
    "generic_colnames = generic_drug_dummies.columns.str.replace(' ', '_').str.lower()\n",
    "generic_drug_dummies.columns = generic_colnames"
   ]
  },
  {
   "cell_type": "code",
   "execution_count": 26,
   "metadata": {},
   "outputs": [
    {
     "data": {
      "text/html": [
       "<div>\n",
       "<style scoped>\n",
       "    .dataframe tbody tr th:only-of-type {\n",
       "        vertical-align: middle;\n",
       "    }\n",
       "\n",
       "    .dataframe tbody tr th {\n",
       "        vertical-align: top;\n",
       "    }\n",
       "\n",
       "    .dataframe thead th {\n",
       "        text-align: right;\n",
       "    }\n",
       "</style>\n",
       "<table border=\"1\" class=\"dataframe\">\n",
       "  <thead>\n",
       "    <tr style=\"text-align: right;\">\n",
       "      <th></th>\n",
       "      <th>acarbose</th>\n",
       "      <th>glimepiride</th>\n",
       "      <th>glipizide</th>\n",
       "      <th>glipizide_and_metformin_hcl</th>\n",
       "      <th>glipizide_and_metformin_hydrochloride</th>\n",
       "      <th>glyburide</th>\n",
       "      <th>glyburide_and_metformin_hydrochloride</th>\n",
       "      <th>glyburide-metformin_hydrochloride</th>\n",
       "      <th>human_insulin</th>\n",
       "      <th>insulin_human</th>\n",
       "      <th>metformin_hcl</th>\n",
       "      <th>metformin_hydrochloride</th>\n",
       "      <th>miglitol</th>\n",
       "      <th>nateglinide</th>\n",
       "      <th>none</th>\n",
       "      <th>pioglitazole_and_metformin_hydrochloride</th>\n",
       "      <th>pioglitazone</th>\n",
       "      <th>pioglitazone_hydrochloride_and_glimepiride</th>\n",
       "      <th>repaglinide</th>\n",
       "      <th>rosiglitazone_maleate</th>\n",
       "      <th>tolazamide</th>\n",
       "      <th>tolbutamide</th>\n",
       "    </tr>\n",
       "  </thead>\n",
       "  <tbody>\n",
       "    <tr>\n",
       "      <th>0</th>\n",
       "      <td>0</td>\n",
       "      <td>0</td>\n",
       "      <td>1</td>\n",
       "      <td>0</td>\n",
       "      <td>0</td>\n",
       "      <td>0</td>\n",
       "      <td>0</td>\n",
       "      <td>0</td>\n",
       "      <td>0</td>\n",
       "      <td>1</td>\n",
       "      <td>0</td>\n",
       "      <td>0</td>\n",
       "      <td>0</td>\n",
       "      <td>0</td>\n",
       "      <td>0</td>\n",
       "      <td>0</td>\n",
       "      <td>0</td>\n",
       "      <td>0</td>\n",
       "      <td>0</td>\n",
       "      <td>0</td>\n",
       "      <td>0</td>\n",
       "      <td>0</td>\n",
       "    </tr>\n",
       "    <tr>\n",
       "      <th>1</th>\n",
       "      <td>0</td>\n",
       "      <td>0</td>\n",
       "      <td>0</td>\n",
       "      <td>0</td>\n",
       "      <td>0</td>\n",
       "      <td>0</td>\n",
       "      <td>0</td>\n",
       "      <td>0</td>\n",
       "      <td>1</td>\n",
       "      <td>0</td>\n",
       "      <td>0</td>\n",
       "      <td>0</td>\n",
       "      <td>0</td>\n",
       "      <td>0</td>\n",
       "      <td>0</td>\n",
       "      <td>0</td>\n",
       "      <td>0</td>\n",
       "      <td>0</td>\n",
       "      <td>0</td>\n",
       "      <td>1</td>\n",
       "      <td>0</td>\n",
       "      <td>0</td>\n",
       "    </tr>\n",
       "    <tr>\n",
       "      <th>2</th>\n",
       "      <td>0</td>\n",
       "      <td>0</td>\n",
       "      <td>1</td>\n",
       "      <td>0</td>\n",
       "      <td>0</td>\n",
       "      <td>0</td>\n",
       "      <td>0</td>\n",
       "      <td>0</td>\n",
       "      <td>1</td>\n",
       "      <td>0</td>\n",
       "      <td>0</td>\n",
       "      <td>0</td>\n",
       "      <td>0</td>\n",
       "      <td>0</td>\n",
       "      <td>0</td>\n",
       "      <td>0</td>\n",
       "      <td>0</td>\n",
       "      <td>0</td>\n",
       "      <td>0</td>\n",
       "      <td>0</td>\n",
       "      <td>0</td>\n",
       "      <td>0</td>\n",
       "    </tr>\n",
       "  </tbody>\n",
       "</table>\n",
       "</div>"
      ],
      "text/plain": [
       "   acarbose  glimepiride  glipizide  glipizide_and_metformin_hcl  \\\n",
       "0         0            0          1                            0   \n",
       "1         0            0          0                            0   \n",
       "2         0            0          1                            0   \n",
       "\n",
       "   glipizide_and_metformin_hydrochloride  glyburide  \\\n",
       "0                                      0          0   \n",
       "1                                      0          0   \n",
       "2                                      0          0   \n",
       "\n",
       "   glyburide_and_metformin_hydrochloride  glyburide-metformin_hydrochloride  \\\n",
       "0                                      0                                  0   \n",
       "1                                      0                                  0   \n",
       "2                                      0                                  0   \n",
       "\n",
       "   human_insulin  insulin_human  metformin_hcl  metformin_hydrochloride  \\\n",
       "0              0              1              0                        0   \n",
       "1              1              0              0                        0   \n",
       "2              1              0              0                        0   \n",
       "\n",
       "   miglitol  nateglinide  none  pioglitazole_and_metformin_hydrochloride  \\\n",
       "0         0            0     0                                         0   \n",
       "1         0            0     0                                         0   \n",
       "2         0            0     0                                         0   \n",
       "\n",
       "   pioglitazone  pioglitazone_hydrochloride_and_glimepiride  repaglinide  \\\n",
       "0             0                                           0            0   \n",
       "1             0                                           0            0   \n",
       "2             0                                           0            0   \n",
       "\n",
       "   rosiglitazone_maleate  tolazamide  tolbutamide  \n",
       "0                      0           0            0  \n",
       "1                      1           0            0  \n",
       "2                      0           0            0  "
      ]
     },
     "execution_count": 26,
     "metadata": {},
     "output_type": "execute_result"
    }
   ],
   "source": [
    "generic_drug_dummies.head(3)"
   ]
  },
  {
   "cell_type": "markdown",
   "metadata": {},
   "source": [
    "### Normalizing Numeric Values\n",
    "\n",
    "Not normalizing the dependent variable here."
   ]
  },
  {
   "cell_type": "code",
   "execution_count": 41,
   "metadata": {},
   "outputs": [],
   "source": [
    "normcols = agg[numeric].apply(lambda c: (c - np.mean(c)) / (np.std(c) + 1e-8))\n",
    "numcols = pd.concat([normcols, agg[target].astype(float)], axis=1)"
   ]
  },
  {
   "cell_type": "code",
   "execution_count": 42,
   "metadata": {
    "scrolled": false
   },
   "outputs": [
    {
     "data": {
      "text/html": [
       "<div>\n",
       "<style scoped>\n",
       "    .dataframe tbody tr th:only-of-type {\n",
       "        vertical-align: middle;\n",
       "    }\n",
       "\n",
       "    .dataframe tbody tr th {\n",
       "        vertical-align: top;\n",
       "    }\n",
       "\n",
       "    .dataframe thead th {\n",
       "        text-align: right;\n",
       "    }\n",
       "</style>\n",
       "<table border=\"1\" class=\"dataframe\">\n",
       "  <thead>\n",
       "    <tr style=\"text-align: right;\">\n",
       "      <th></th>\n",
       "      <th>number_outpatient</th>\n",
       "      <th>number_inpatient</th>\n",
       "      <th>number_emergency</th>\n",
       "      <th>num_lab_procedures</th>\n",
       "      <th>number_diagnoses</th>\n",
       "      <th>num_medications</th>\n",
       "      <th>num_procedures</th>\n",
       "      <th>time_in_hospital</th>\n",
       "    </tr>\n",
       "  </thead>\n",
       "  <tbody>\n",
       "    <tr>\n",
       "      <th>0</th>\n",
       "      <td>-0.262004</td>\n",
       "      <td>-0.294524</td>\n",
       "      <td>-0.203346</td>\n",
       "      <td>1.249212</td>\n",
       "      <td>0.378159</td>\n",
       "      <td>1.479343</td>\n",
       "      <td>0.323563</td>\n",
       "      <td>13.0</td>\n",
       "    </tr>\n",
       "    <tr>\n",
       "      <th>1</th>\n",
       "      <td>-0.262004</td>\n",
       "      <td>-0.294524</td>\n",
       "      <td>-0.203346</td>\n",
       "      <td>-0.504981</td>\n",
       "      <td>0.378159</td>\n",
       "      <td>0.276134</td>\n",
       "      <td>0.891793</td>\n",
       "      <td>12.0</td>\n",
       "    </tr>\n",
       "    <tr>\n",
       "      <th>2</th>\n",
       "      <td>-0.262004</td>\n",
       "      <td>-0.294524</td>\n",
       "      <td>-0.203346</td>\n",
       "      <td>0.397175</td>\n",
       "      <td>-1.125856</td>\n",
       "      <td>-0.927076</td>\n",
       "      <td>-0.812896</td>\n",
       "      <td>1.0</td>\n",
       "    </tr>\n",
       "  </tbody>\n",
       "</table>\n",
       "</div>"
      ],
      "text/plain": [
       "   number_outpatient  number_inpatient  number_emergency  num_lab_procedures  \\\n",
       "0          -0.262004         -0.294524         -0.203346            1.249212   \n",
       "1          -0.262004         -0.294524         -0.203346           -0.504981   \n",
       "2          -0.262004         -0.294524         -0.203346            0.397175   \n",
       "\n",
       "   number_diagnoses  num_medications  num_procedures  time_in_hospital  \n",
       "0          0.378159         1.479343        0.323563              13.0  \n",
       "1          0.378159         0.276134        0.891793              12.0  \n",
       "2         -1.125856        -0.927076       -0.812896               1.0  "
      ]
     },
     "execution_count": 42,
     "metadata": {},
     "output_type": "execute_result"
    }
   ],
   "source": [
    "numcols.head(3)"
   ]
  },
  {
   "cell_type": "markdown",
   "metadata": {},
   "source": [
    "### Adding a Bias Columns"
   ]
  },
  {
   "cell_type": "code",
   "execution_count": 43,
   "metadata": {},
   "outputs": [],
   "source": [
    "bias = pd.DataFrame({'bias': np.ones(len(agg))})"
   ]
  },
  {
   "cell_type": "markdown",
   "metadata": {},
   "source": [
    "### Concatenating the Dataset"
   ]
  },
  {
   "cell_type": "markdown",
   "metadata": {},
   "source": [
    "Now we select our columns from the aggregated dataset, concat the drug dummy vars and use the automatic dummy generation to get the rest."
   ]
  },
  {
   "cell_type": "code",
   "execution_count": 44,
   "metadata": {},
   "outputs": [],
   "source": [
    "data = pd.concat([agg[ids], bias, numcols, agg[categorical], generic_drug_dummies], axis=1)"
   ]
  },
  {
   "cell_type": "code",
   "execution_count": 45,
   "metadata": {},
   "outputs": [
    {
     "data": {
      "text/plain": [
       "40"
      ]
     },
     "execution_count": 45,
     "metadata": {},
     "output_type": "execute_result"
    }
   ],
   "source": [
    "len(data.columns)"
   ]
  },
  {
   "cell_type": "markdown",
   "metadata": {},
   "source": [
    "**Question 5**: After you have aggregated the dataset to the right level, we can do feature selection (we will include the ndc_col_list, dummy column features too). In the block below, please select the categorical and numerical features that you will use for the model, so that we can create a dataset subset. \n",
    "\n",
    "For the payer_code and weight fields, please provide whether you think we should include/exclude the field in our model and give a justification/rationale for this based off of the statistics of the data. Feel free to use visualizations or summary statistics to support your choice."
   ]
  },
  {
   "cell_type": "code",
   "execution_count": 46,
   "metadata": {},
   "outputs": [
    {
     "data": {
      "text/plain": [
       "0.37783076751450245"
      ]
     },
     "execution_count": 46,
     "metadata": {},
     "output_type": "execute_result"
    }
   ],
   "source": [
    "df.payer_code.str.startswith('?').astype(int).sum() / len(df)"
   ]
  },
  {
   "cell_type": "code",
   "execution_count": 47,
   "metadata": {},
   "outputs": [
    {
     "data": {
      "text/plain": [
       "0.9700050200803213"
      ]
     },
     "execution_count": 47,
     "metadata": {},
     "output_type": "execute_result"
    }
   ],
   "source": [
    "df.weight.str.startswith('?').astype(int).sum() / len(df)"
   ]
  },
  {
   "cell_type": "markdown",
   "metadata": {},
   "source": [
    "_Student response:_ As mentioned in the EDA both `payer_code` and `weight` have 'hidden' missing values in the form of the `'?'` string which represents missing without using zero or NaN. In both cases a large number of values are missing, and the missing category is in fact the most common value. With `weight` 97% of the values are missing meaning the field contains almost no information. As for `payer_code` the field seems primarily billing related, so in addition to the missing information it's questionable as to whether the remaining information is even of clinical use vis-a-vis our dependent variable."
   ]
  },
  {
   "cell_type": "markdown",
   "metadata": {},
   "source": [
    "## Prepare Fields and Cast Dataset "
   ]
  },
  {
   "cell_type": "code",
   "execution_count": 48,
   "metadata": {},
   "outputs": [],
   "source": [
    "'''\n",
    "Please update the list to include the features you think are appropriate for the model \n",
    "and the field that we will be using to train the model. There are three required demographic features for the model \n",
    "and I have inserted a list with them already in the categorical list. \n",
    "These will be required for later steps when analyzing data splits and model biases.\n",
    "'''\n",
    "required_demo_col_list = ['race', 'gender', 'age']\n",
    "student_categorical_col_list = [c for c in data.columns if c not in ids + numeric]\n",
    "student_numerical_col_list = numeric\n",
    "PREDICTOR_FIELD = 'time_in_hospital'"
   ]
  },
  {
   "cell_type": "code",
   "execution_count": 49,
   "metadata": {},
   "outputs": [],
   "source": [
    "selected_features_df = data"
   ]
  },
  {
   "cell_type": "markdown",
   "metadata": {},
   "source": [
    "### Preprocess Dataset - Casting and Imputing  "
   ]
  },
  {
   "cell_type": "markdown",
   "metadata": {},
   "source": [
    "We will cast and impute the dataset before splitting so that we do not have to repeat these steps across the splits in the next step. For imputing, there can be deeper analysis into which features to impute and how to impute but for the sake of time, we are taking a general strategy of imputing zero for only numerical features. \n",
    "\n",
    "OPTIONAL: What are some potential issues with this approach? Can you recommend a better way and also implement it?"
   ]
  },
  {
   "cell_type": "markdown",
   "metadata": {},
   "source": [
    "### Response\n",
    "\n",
    "Via feature selection and EDA we ended up with no columns that had missing or NaN values aside from the `'?'` string. As mentioned in the EDA the fields that still contain `'?'` are useful enough even with missing values and in this case given that we have no good statistical basis for imputing other values we will keep those as-is."
   ]
  },
  {
   "cell_type": "markdown",
   "metadata": {},
   "source": [
    "```python\n",
    "processed_df = preprocess_df(selected_features_df, student_categorical_col_list, \n",
    "        student_numerical_col_list, PREDICTOR_FIELD, categorical_impute_value='nan', numerical_impute_value=0)\n",
    "```"
   ]
  },
  {
   "cell_type": "code",
   "execution_count": 50,
   "metadata": {},
   "outputs": [],
   "source": [
    "processed_df = data"
   ]
  },
  {
   "cell_type": "code",
   "execution_count": 51,
   "metadata": {},
   "outputs": [],
   "source": [
    "processed_df.to_csv('processed_data.csv')"
   ]
  },
  {
   "cell_type": "code",
   "execution_count": 52,
   "metadata": {},
   "outputs": [
    {
     "data": {
      "text/html": [
       "<div>\n",
       "<style scoped>\n",
       "    .dataframe tbody tr th:only-of-type {\n",
       "        vertical-align: middle;\n",
       "    }\n",
       "\n",
       "    .dataframe tbody tr th {\n",
       "        vertical-align: top;\n",
       "    }\n",
       "\n",
       "    .dataframe thead th {\n",
       "        text-align: right;\n",
       "    }\n",
       "</style>\n",
       "<table border=\"1\" class=\"dataframe\">\n",
       "  <thead>\n",
       "    <tr style=\"text-align: right;\">\n",
       "      <th></th>\n",
       "      <th>encounter_id</th>\n",
       "      <th>patient_nbr</th>\n",
       "      <th>bias</th>\n",
       "      <th>number_outpatient</th>\n",
       "      <th>number_inpatient</th>\n",
       "      <th>number_emergency</th>\n",
       "      <th>num_lab_procedures</th>\n",
       "      <th>number_diagnoses</th>\n",
       "      <th>num_medications</th>\n",
       "      <th>num_procedures</th>\n",
       "      <th>time_in_hospital</th>\n",
       "      <th>race</th>\n",
       "      <th>gender</th>\n",
       "      <th>age</th>\n",
       "      <th>max_glu_serum</th>\n",
       "      <th>A1Cresult</th>\n",
       "      <th>change</th>\n",
       "      <th>readmitted</th>\n",
       "      <th>acarbose</th>\n",
       "      <th>glimepiride</th>\n",
       "      <th>glipizide</th>\n",
       "      <th>glipizide_and_metformin_hcl</th>\n",
       "      <th>glipizide_and_metformin_hydrochloride</th>\n",
       "      <th>glyburide</th>\n",
       "      <th>glyburide_and_metformin_hydrochloride</th>\n",
       "      <th>glyburide-metformin_hydrochloride</th>\n",
       "      <th>human_insulin</th>\n",
       "      <th>insulin_human</th>\n",
       "      <th>metformin_hcl</th>\n",
       "      <th>metformin_hydrochloride</th>\n",
       "      <th>miglitol</th>\n",
       "      <th>nateglinide</th>\n",
       "      <th>none</th>\n",
       "      <th>pioglitazole_and_metformin_hydrochloride</th>\n",
       "      <th>pioglitazone</th>\n",
       "      <th>pioglitazone_hydrochloride_and_glimepiride</th>\n",
       "      <th>repaglinide</th>\n",
       "      <th>rosiglitazone_maleate</th>\n",
       "      <th>tolazamide</th>\n",
       "      <th>tolbutamide</th>\n",
       "    </tr>\n",
       "  </thead>\n",
       "  <tbody>\n",
       "    <tr>\n",
       "      <th>0</th>\n",
       "      <td>12522</td>\n",
       "      <td>48330783</td>\n",
       "      <td>1.0</td>\n",
       "      <td>-0.262004</td>\n",
       "      <td>-0.294524</td>\n",
       "      <td>-0.203346</td>\n",
       "      <td>1.249212</td>\n",
       "      <td>0.378159</td>\n",
       "      <td>1.479343</td>\n",
       "      <td>0.323563</td>\n",
       "      <td>13.0</td>\n",
       "      <td>Caucasian</td>\n",
       "      <td>Female</td>\n",
       "      <td>[80-90)</td>\n",
       "      <td>None</td>\n",
       "      <td>None</td>\n",
       "      <td>Ch</td>\n",
       "      <td>NO</td>\n",
       "      <td>0</td>\n",
       "      <td>0</td>\n",
       "      <td>1</td>\n",
       "      <td>0</td>\n",
       "      <td>0</td>\n",
       "      <td>0</td>\n",
       "      <td>0</td>\n",
       "      <td>0</td>\n",
       "      <td>0</td>\n",
       "      <td>1</td>\n",
       "      <td>0</td>\n",
       "      <td>0</td>\n",
       "      <td>0</td>\n",
       "      <td>0</td>\n",
       "      <td>0</td>\n",
       "      <td>0</td>\n",
       "      <td>0</td>\n",
       "      <td>0</td>\n",
       "      <td>0</td>\n",
       "      <td>0</td>\n",
       "      <td>0</td>\n",
       "      <td>0</td>\n",
       "    </tr>\n",
       "    <tr>\n",
       "      <th>1</th>\n",
       "      <td>15738</td>\n",
       "      <td>63555939</td>\n",
       "      <td>1.0</td>\n",
       "      <td>-0.262004</td>\n",
       "      <td>-0.294524</td>\n",
       "      <td>-0.203346</td>\n",
       "      <td>-0.504981</td>\n",
       "      <td>0.378159</td>\n",
       "      <td>0.276134</td>\n",
       "      <td>0.891793</td>\n",
       "      <td>12.0</td>\n",
       "      <td>Caucasian</td>\n",
       "      <td>Female</td>\n",
       "      <td>[90-100)</td>\n",
       "      <td>None</td>\n",
       "      <td>None</td>\n",
       "      <td>Ch</td>\n",
       "      <td>NO</td>\n",
       "      <td>0</td>\n",
       "      <td>0</td>\n",
       "      <td>0</td>\n",
       "      <td>0</td>\n",
       "      <td>0</td>\n",
       "      <td>0</td>\n",
       "      <td>0</td>\n",
       "      <td>0</td>\n",
       "      <td>1</td>\n",
       "      <td>0</td>\n",
       "      <td>0</td>\n",
       "      <td>0</td>\n",
       "      <td>0</td>\n",
       "      <td>0</td>\n",
       "      <td>0</td>\n",
       "      <td>0</td>\n",
       "      <td>0</td>\n",
       "      <td>0</td>\n",
       "      <td>0</td>\n",
       "      <td>1</td>\n",
       "      <td>0</td>\n",
       "      <td>0</td>\n",
       "    </tr>\n",
       "    <tr>\n",
       "      <th>2</th>\n",
       "      <td>16680</td>\n",
       "      <td>42519267</td>\n",
       "      <td>1.0</td>\n",
       "      <td>-0.262004</td>\n",
       "      <td>-0.294524</td>\n",
       "      <td>-0.203346</td>\n",
       "      <td>0.397175</td>\n",
       "      <td>-1.125856</td>\n",
       "      <td>-0.927076</td>\n",
       "      <td>-0.812896</td>\n",
       "      <td>1.0</td>\n",
       "      <td>Caucasian</td>\n",
       "      <td>Male</td>\n",
       "      <td>[40-50)</td>\n",
       "      <td>None</td>\n",
       "      <td>None</td>\n",
       "      <td>Ch</td>\n",
       "      <td>NO</td>\n",
       "      <td>0</td>\n",
       "      <td>0</td>\n",
       "      <td>1</td>\n",
       "      <td>0</td>\n",
       "      <td>0</td>\n",
       "      <td>0</td>\n",
       "      <td>0</td>\n",
       "      <td>0</td>\n",
       "      <td>1</td>\n",
       "      <td>0</td>\n",
       "      <td>0</td>\n",
       "      <td>0</td>\n",
       "      <td>0</td>\n",
       "      <td>0</td>\n",
       "      <td>0</td>\n",
       "      <td>0</td>\n",
       "      <td>0</td>\n",
       "      <td>0</td>\n",
       "      <td>0</td>\n",
       "      <td>0</td>\n",
       "      <td>0</td>\n",
       "      <td>0</td>\n",
       "    </tr>\n",
       "    <tr>\n",
       "      <th>3</th>\n",
       "      <td>28236</td>\n",
       "      <td>89869032</td>\n",
       "      <td>1.0</td>\n",
       "      <td>-0.262004</td>\n",
       "      <td>-0.294524</td>\n",
       "      <td>-0.203346</td>\n",
       "      <td>0.196696</td>\n",
       "      <td>0.879498</td>\n",
       "      <td>0.155813</td>\n",
       "      <td>0.323563</td>\n",
       "      <td>9.0</td>\n",
       "      <td>AfricanAmerican</td>\n",
       "      <td>Female</td>\n",
       "      <td>[40-50)</td>\n",
       "      <td>None</td>\n",
       "      <td>None</td>\n",
       "      <td>No</td>\n",
       "      <td>&gt;30</td>\n",
       "      <td>0</td>\n",
       "      <td>0</td>\n",
       "      <td>0</td>\n",
       "      <td>0</td>\n",
       "      <td>0</td>\n",
       "      <td>0</td>\n",
       "      <td>0</td>\n",
       "      <td>0</td>\n",
       "      <td>1</td>\n",
       "      <td>0</td>\n",
       "      <td>0</td>\n",
       "      <td>0</td>\n",
       "      <td>0</td>\n",
       "      <td>0</td>\n",
       "      <td>0</td>\n",
       "      <td>0</td>\n",
       "      <td>0</td>\n",
       "      <td>0</td>\n",
       "      <td>0</td>\n",
       "      <td>0</td>\n",
       "      <td>0</td>\n",
       "      <td>0</td>\n",
       "    </tr>\n",
       "    <tr>\n",
       "      <th>4</th>\n",
       "      <td>35754</td>\n",
       "      <td>82637451</td>\n",
       "      <td>1.0</td>\n",
       "      <td>-0.262004</td>\n",
       "      <td>-0.294524</td>\n",
       "      <td>-0.203346</td>\n",
       "      <td>-0.605220</td>\n",
       "      <td>0.879498</td>\n",
       "      <td>0.035492</td>\n",
       "      <td>2.596482</td>\n",
       "      <td>3.0</td>\n",
       "      <td>Caucasian</td>\n",
       "      <td>Male</td>\n",
       "      <td>[50-60)</td>\n",
       "      <td>None</td>\n",
       "      <td>None</td>\n",
       "      <td>No</td>\n",
       "      <td>&gt;30</td>\n",
       "      <td>0</td>\n",
       "      <td>0</td>\n",
       "      <td>0</td>\n",
       "      <td>0</td>\n",
       "      <td>0</td>\n",
       "      <td>0</td>\n",
       "      <td>0</td>\n",
       "      <td>0</td>\n",
       "      <td>0</td>\n",
       "      <td>1</td>\n",
       "      <td>0</td>\n",
       "      <td>0</td>\n",
       "      <td>0</td>\n",
       "      <td>0</td>\n",
       "      <td>0</td>\n",
       "      <td>0</td>\n",
       "      <td>0</td>\n",
       "      <td>0</td>\n",
       "      <td>0</td>\n",
       "      <td>0</td>\n",
       "      <td>0</td>\n",
       "      <td>0</td>\n",
       "    </tr>\n",
       "    <tr>\n",
       "      <th>5</th>\n",
       "      <td>36900</td>\n",
       "      <td>77391171</td>\n",
       "      <td>1.0</td>\n",
       "      <td>-0.262004</td>\n",
       "      <td>-0.294524</td>\n",
       "      <td>-0.203346</td>\n",
       "      <td>0.948493</td>\n",
       "      <td>-0.123179</td>\n",
       "      <td>-0.566113</td>\n",
       "      <td>-0.812896</td>\n",
       "      <td>7.0</td>\n",
       "      <td>AfricanAmerican</td>\n",
       "      <td>Male</td>\n",
       "      <td>[60-70)</td>\n",
       "      <td>None</td>\n",
       "      <td>None</td>\n",
       "      <td>Ch</td>\n",
       "      <td>&lt;30</td>\n",
       "      <td>0</td>\n",
       "      <td>0</td>\n",
       "      <td>0</td>\n",
       "      <td>0</td>\n",
       "      <td>0</td>\n",
       "      <td>1</td>\n",
       "      <td>0</td>\n",
       "      <td>0</td>\n",
       "      <td>0</td>\n",
       "      <td>1</td>\n",
       "      <td>0</td>\n",
       "      <td>0</td>\n",
       "      <td>0</td>\n",
       "      <td>0</td>\n",
       "      <td>0</td>\n",
       "      <td>0</td>\n",
       "      <td>0</td>\n",
       "      <td>0</td>\n",
       "      <td>0</td>\n",
       "      <td>0</td>\n",
       "      <td>0</td>\n",
       "      <td>0</td>\n",
       "    </tr>\n",
       "    <tr>\n",
       "      <th>6</th>\n",
       "      <td>40926</td>\n",
       "      <td>85504905</td>\n",
       "      <td>1.0</td>\n",
       "      <td>-0.262004</td>\n",
       "      <td>-0.294524</td>\n",
       "      <td>1.760584</td>\n",
       "      <td>0.848254</td>\n",
       "      <td>0.378159</td>\n",
       "      <td>-0.084829</td>\n",
       "      <td>-0.812896</td>\n",
       "      <td>7.0</td>\n",
       "      <td>Caucasian</td>\n",
       "      <td>Female</td>\n",
       "      <td>[40-50)</td>\n",
       "      <td>None</td>\n",
       "      <td>None</td>\n",
       "      <td>Ch</td>\n",
       "      <td>&lt;30</td>\n",
       "      <td>0</td>\n",
       "      <td>0</td>\n",
       "      <td>0</td>\n",
       "      <td>0</td>\n",
       "      <td>0</td>\n",
       "      <td>0</td>\n",
       "      <td>0</td>\n",
       "      <td>0</td>\n",
       "      <td>0</td>\n",
       "      <td>1</td>\n",
       "      <td>0</td>\n",
       "      <td>1</td>\n",
       "      <td>0</td>\n",
       "      <td>0</td>\n",
       "      <td>0</td>\n",
       "      <td>0</td>\n",
       "      <td>0</td>\n",
       "      <td>0</td>\n",
       "      <td>1</td>\n",
       "      <td>0</td>\n",
       "      <td>0</td>\n",
       "      <td>0</td>\n",
       "    </tr>\n",
       "    <tr>\n",
       "      <th>7</th>\n",
       "      <td>42570</td>\n",
       "      <td>77586282</td>\n",
       "      <td>1.0</td>\n",
       "      <td>-0.262004</td>\n",
       "      <td>-0.294524</td>\n",
       "      <td>-0.203346</td>\n",
       "      <td>0.597655</td>\n",
       "      <td>0.378159</td>\n",
       "      <td>1.840306</td>\n",
       "      <td>-0.244667</td>\n",
       "      <td>10.0</td>\n",
       "      <td>Caucasian</td>\n",
       "      <td>Male</td>\n",
       "      <td>[80-90)</td>\n",
       "      <td>None</td>\n",
       "      <td>None</td>\n",
       "      <td>No</td>\n",
       "      <td>NO</td>\n",
       "      <td>0</td>\n",
       "      <td>0</td>\n",
       "      <td>0</td>\n",
       "      <td>0</td>\n",
       "      <td>0</td>\n",
       "      <td>0</td>\n",
       "      <td>0</td>\n",
       "      <td>0</td>\n",
       "      <td>0</td>\n",
       "      <td>1</td>\n",
       "      <td>0</td>\n",
       "      <td>0</td>\n",
       "      <td>0</td>\n",
       "      <td>0</td>\n",
       "      <td>0</td>\n",
       "      <td>0</td>\n",
       "      <td>0</td>\n",
       "      <td>0</td>\n",
       "      <td>0</td>\n",
       "      <td>0</td>\n",
       "      <td>0</td>\n",
       "      <td>0</td>\n",
       "    </tr>\n",
       "    <tr>\n",
       "      <th>8</th>\n",
       "      <td>55842</td>\n",
       "      <td>84259809</td>\n",
       "      <td>1.0</td>\n",
       "      <td>-0.262004</td>\n",
       "      <td>-0.294524</td>\n",
       "      <td>-0.203346</td>\n",
       "      <td>1.349451</td>\n",
       "      <td>-0.123179</td>\n",
       "      <td>0.637096</td>\n",
       "      <td>-0.244667</td>\n",
       "      <td>4.0</td>\n",
       "      <td>Caucasian</td>\n",
       "      <td>Male</td>\n",
       "      <td>[60-70)</td>\n",
       "      <td>None</td>\n",
       "      <td>None</td>\n",
       "      <td>Ch</td>\n",
       "      <td>NO</td>\n",
       "      <td>0</td>\n",
       "      <td>1</td>\n",
       "      <td>0</td>\n",
       "      <td>0</td>\n",
       "      <td>0</td>\n",
       "      <td>0</td>\n",
       "      <td>0</td>\n",
       "      <td>0</td>\n",
       "      <td>0</td>\n",
       "      <td>1</td>\n",
       "      <td>0</td>\n",
       "      <td>1</td>\n",
       "      <td>0</td>\n",
       "      <td>0</td>\n",
       "      <td>0</td>\n",
       "      <td>0</td>\n",
       "      <td>0</td>\n",
       "      <td>0</td>\n",
       "      <td>0</td>\n",
       "      <td>0</td>\n",
       "      <td>0</td>\n",
       "      <td>0</td>\n",
       "    </tr>\n",
       "    <tr>\n",
       "      <th>9</th>\n",
       "      <td>62256</td>\n",
       "      <td>49726791</td>\n",
       "      <td>1.0</td>\n",
       "      <td>-0.262004</td>\n",
       "      <td>-0.294524</td>\n",
       "      <td>-0.203346</td>\n",
       "      <td>0.296936</td>\n",
       "      <td>0.378159</td>\n",
       "      <td>-1.649002</td>\n",
       "      <td>2.028252</td>\n",
       "      <td>1.0</td>\n",
       "      <td>AfricanAmerican</td>\n",
       "      <td>Female</td>\n",
       "      <td>[60-70)</td>\n",
       "      <td>None</td>\n",
       "      <td>None</td>\n",
       "      <td>No</td>\n",
       "      <td>&gt;30</td>\n",
       "      <td>0</td>\n",
       "      <td>0</td>\n",
       "      <td>0</td>\n",
       "      <td>0</td>\n",
       "      <td>0</td>\n",
       "      <td>0</td>\n",
       "      <td>0</td>\n",
       "      <td>0</td>\n",
       "      <td>0</td>\n",
       "      <td>1</td>\n",
       "      <td>0</td>\n",
       "      <td>0</td>\n",
       "      <td>0</td>\n",
       "      <td>0</td>\n",
       "      <td>0</td>\n",
       "      <td>0</td>\n",
       "      <td>0</td>\n",
       "      <td>0</td>\n",
       "      <td>0</td>\n",
       "      <td>0</td>\n",
       "      <td>0</td>\n",
       "      <td>0</td>\n",
       "    </tr>\n",
       "  </tbody>\n",
       "</table>\n",
       "</div>"
      ],
      "text/plain": [
       "   encounter_id  patient_nbr  bias  number_outpatient  number_inpatient  \\\n",
       "0         12522     48330783   1.0          -0.262004         -0.294524   \n",
       "1         15738     63555939   1.0          -0.262004         -0.294524   \n",
       "2         16680     42519267   1.0          -0.262004         -0.294524   \n",
       "3         28236     89869032   1.0          -0.262004         -0.294524   \n",
       "4         35754     82637451   1.0          -0.262004         -0.294524   \n",
       "5         36900     77391171   1.0          -0.262004         -0.294524   \n",
       "6         40926     85504905   1.0          -0.262004         -0.294524   \n",
       "7         42570     77586282   1.0          -0.262004         -0.294524   \n",
       "8         55842     84259809   1.0          -0.262004         -0.294524   \n",
       "9         62256     49726791   1.0          -0.262004         -0.294524   \n",
       "\n",
       "   number_emergency  num_lab_procedures  number_diagnoses  num_medications  \\\n",
       "0         -0.203346            1.249212          0.378159         1.479343   \n",
       "1         -0.203346           -0.504981          0.378159         0.276134   \n",
       "2         -0.203346            0.397175         -1.125856        -0.927076   \n",
       "3         -0.203346            0.196696          0.879498         0.155813   \n",
       "4         -0.203346           -0.605220          0.879498         0.035492   \n",
       "5         -0.203346            0.948493         -0.123179        -0.566113   \n",
       "6          1.760584            0.848254          0.378159        -0.084829   \n",
       "7         -0.203346            0.597655          0.378159         1.840306   \n",
       "8         -0.203346            1.349451         -0.123179         0.637096   \n",
       "9         -0.203346            0.296936          0.378159        -1.649002   \n",
       "\n",
       "   num_procedures  time_in_hospital             race  gender       age  \\\n",
       "0        0.323563              13.0        Caucasian  Female   [80-90)   \n",
       "1        0.891793              12.0        Caucasian  Female  [90-100)   \n",
       "2       -0.812896               1.0        Caucasian    Male   [40-50)   \n",
       "3        0.323563               9.0  AfricanAmerican  Female   [40-50)   \n",
       "4        2.596482               3.0        Caucasian    Male   [50-60)   \n",
       "5       -0.812896               7.0  AfricanAmerican    Male   [60-70)   \n",
       "6       -0.812896               7.0        Caucasian  Female   [40-50)   \n",
       "7       -0.244667              10.0        Caucasian    Male   [80-90)   \n",
       "8       -0.244667               4.0        Caucasian    Male   [60-70)   \n",
       "9        2.028252               1.0  AfricanAmerican  Female   [60-70)   \n",
       "\n",
       "  max_glu_serum A1Cresult change readmitted  acarbose  glimepiride  glipizide  \\\n",
       "0          None      None     Ch         NO         0            0          1   \n",
       "1          None      None     Ch         NO         0            0          0   \n",
       "2          None      None     Ch         NO         0            0          1   \n",
       "3          None      None     No        >30         0            0          0   \n",
       "4          None      None     No        >30         0            0          0   \n",
       "5          None      None     Ch        <30         0            0          0   \n",
       "6          None      None     Ch        <30         0            0          0   \n",
       "7          None      None     No         NO         0            0          0   \n",
       "8          None      None     Ch         NO         0            1          0   \n",
       "9          None      None     No        >30         0            0          0   \n",
       "\n",
       "   glipizide_and_metformin_hcl  glipizide_and_metformin_hydrochloride  \\\n",
       "0                            0                                      0   \n",
       "1                            0                                      0   \n",
       "2                            0                                      0   \n",
       "3                            0                                      0   \n",
       "4                            0                                      0   \n",
       "5                            0                                      0   \n",
       "6                            0                                      0   \n",
       "7                            0                                      0   \n",
       "8                            0                                      0   \n",
       "9                            0                                      0   \n",
       "\n",
       "   glyburide  glyburide_and_metformin_hydrochloride  \\\n",
       "0          0                                      0   \n",
       "1          0                                      0   \n",
       "2          0                                      0   \n",
       "3          0                                      0   \n",
       "4          0                                      0   \n",
       "5          1                                      0   \n",
       "6          0                                      0   \n",
       "7          0                                      0   \n",
       "8          0                                      0   \n",
       "9          0                                      0   \n",
       "\n",
       "   glyburide-metformin_hydrochloride  human_insulin  insulin_human  \\\n",
       "0                                  0              0              1   \n",
       "1                                  0              1              0   \n",
       "2                                  0              1              0   \n",
       "3                                  0              1              0   \n",
       "4                                  0              0              1   \n",
       "5                                  0              0              1   \n",
       "6                                  0              0              1   \n",
       "7                                  0              0              1   \n",
       "8                                  0              0              1   \n",
       "9                                  0              0              1   \n",
       "\n",
       "   metformin_hcl  metformin_hydrochloride  miglitol  nateglinide  none  \\\n",
       "0              0                        0         0            0     0   \n",
       "1              0                        0         0            0     0   \n",
       "2              0                        0         0            0     0   \n",
       "3              0                        0         0            0     0   \n",
       "4              0                        0         0            0     0   \n",
       "5              0                        0         0            0     0   \n",
       "6              0                        1         0            0     0   \n",
       "7              0                        0         0            0     0   \n",
       "8              0                        1         0            0     0   \n",
       "9              0                        0         0            0     0   \n",
       "\n",
       "   pioglitazole_and_metformin_hydrochloride  pioglitazone  \\\n",
       "0                                         0             0   \n",
       "1                                         0             0   \n",
       "2                                         0             0   \n",
       "3                                         0             0   \n",
       "4                                         0             0   \n",
       "5                                         0             0   \n",
       "6                                         0             0   \n",
       "7                                         0             0   \n",
       "8                                         0             0   \n",
       "9                                         0             0   \n",
       "\n",
       "   pioglitazone_hydrochloride_and_glimepiride  repaglinide  \\\n",
       "0                                           0            0   \n",
       "1                                           0            0   \n",
       "2                                           0            0   \n",
       "3                                           0            0   \n",
       "4                                           0            0   \n",
       "5                                           0            0   \n",
       "6                                           0            1   \n",
       "7                                           0            0   \n",
       "8                                           0            0   \n",
       "9                                           0            0   \n",
       "\n",
       "   rosiglitazone_maleate  tolazamide  tolbutamide  \n",
       "0                      0           0            0  \n",
       "1                      1           0            0  \n",
       "2                      0           0            0  \n",
       "3                      0           0            0  \n",
       "4                      0           0            0  \n",
       "5                      0           0            0  \n",
       "6                      0           0            0  \n",
       "7                      0           0            0  \n",
       "8                      0           0            0  \n",
       "9                      0           0            0  "
      ]
     },
     "execution_count": 52,
     "metadata": {},
     "output_type": "execute_result"
    }
   ],
   "source": [
    "processed_df.head(10)"
   ]
  }
 ],
 "metadata": {
  "kernelspec": {
   "display_name": "Python 3",
   "language": "python",
   "name": "python3"
  },
  "language_info": {
   "codemirror_mode": {
    "name": "ipython",
    "version": 3
   },
   "file_extension": ".py",
   "mimetype": "text/x-python",
   "name": "python",
   "nbconvert_exporter": "python",
   "pygments_lexer": "ipython3",
   "version": "3.7.7"
  }
 },
 "nbformat": 4,
 "nbformat_minor": 4
}
